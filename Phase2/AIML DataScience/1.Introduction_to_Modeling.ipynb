{
 "cells": [
  {
   "cell_type": "markdown",
   "id": "8277471a",
   "metadata": {},
   "source": [
    "\n",
    "# Introduction to Modeling\n",
    "*A practical primer for Machine Learning – Modeling: Theory & Practice*\n",
    "\n",
    "## Learning goals\n",
    "- Understand what \"a model\" means in ML\n",
    "- See the difference between rule‑based and learning‑based systems\n",
    "- Run your first tiny predictive model and visualization\n",
    "- Connect modeling to real business examples\n"
   ]
  },
  {
   "cell_type": "markdown",
   "id": "84f3361e",
   "metadata": {},
   "source": [
    "\n",
    "## 1. What is Modeling?\n",
    "**Modeling** is the process of creating a mathematical/algorithmic representation of a real‑world process.  \n",
    "A model captures the relationship between **inputs (features)** and **outputs (target)** so that we can:\n",
    "\n",
    "- Predict outcomes (e.g., sales, churn, risk)\n",
    "- Discover insights (e.g., patterns, segments)\n",
    "- Automate decisions (e.g., recommendations, routing)\n",
    "\n",
    "> **Mental model**: A model is a function learned from data: `y ≈ f(x)`.\n"
   ]
  },
  {
   "cell_type": "markdown",
   "id": "33d7a449",
   "metadata": {},
   "source": [
    "\n",
    "## 2. Where modeling fits in\n",
    "| Concept | What it is | Example |\n",
    "|---|---|---|\n",
    "| **Algorithm** | A precise set of rules to solve a problem | Sorting numbers |\n",
    "| **Machine Learning** | Algorithms that learn patterns from data | Predict house prices |\n",
    "| **AI** | Systems that perform tasks requiring human‑like intelligence | Chatbots, vision |\n",
    "| **Data Science** | Using data + ML + statistics for discovery and impact | Customer analytics |\n",
    "| **Analytics** | Turning data into decisions, metrics, dashboards | Marketing & finance reports |\n"
   ]
  },
  {
   "cell_type": "markdown",
   "id": "f2d77d0e",
   "metadata": {},
   "source": [
    "\n",
    "## 3. Rule‑based vs Learning‑based\n",
    "Let's compare a **rule-based thermostat** with a **learning-based** model that learns comfort level from data.\n"
   ]
  },
  {
   "cell_type": "code",
   "execution_count": null,
   "id": "a8f112bd",
   "metadata": {},
   "outputs": [],
   "source": [
    "\n",
    "# RULE-BASED EXAMPLE\n",
    "def thermostat_rule(temp_c):\n",
    "    return \"Turn ON heater\" if temp_c < 20 else \"Turn OFF heater\"\n",
    "\n",
    "for t in [15, 20, 25]:\n",
    "    print(f\"Temp {t}°C → {thermostat_rule(t)}\")\n"
   ]
  },
  {
   "cell_type": "code",
   "execution_count": null,
   "id": "81635258",
   "metadata": {},
   "outputs": [],
   "source": [
    "\n",
    "# LEARNING-BASED EXAMPLE\n",
    "import numpy as np\n",
    "import matplotlib.pyplot as plt\n",
    "from sklearn.linear_model import LinearRegression\n",
    "\n",
    "# Toy dataset: indoor temperature (°C) vs. comfort score (1-10), collected from users\n",
    "X = np.array([[15], [18], [20], [22], [25], [27]])\n",
    "y = np.array([2, 5, 7, 8, 5, 3])\n",
    "\n",
    "model = LinearRegression()\n",
    "model.fit(X, y)\n",
    "\n",
    "# Predict across a range\n",
    "new_temps = np.arange(14, 29).reshape(-1, 1)\n",
    "preds = model.predict(new_temps)\n",
    "\n",
    "plt.figure()\n",
    "plt.scatter(X, y, label='Observed comfort')   # do not set colors explicitly\n",
    "plt.plot(new_temps, preds, label='Learned model')\n",
    "plt.xlabel('Temperature (°C)')\n",
    "plt.ylabel('Comfort level (1–10)')\n",
    "plt.title('Learning-based Model vs Rule-based Logic')\n",
    "plt.legend()\n",
    "plt.show()\n"
   ]
  },
  {
   "cell_type": "markdown",
   "id": "06e35703",
   "metadata": {},
   "source": [
    "\n",
    "## 4. Why we use models\n",
    "1. **Complexity**: Real relationships are hard to hand‑code.\n",
    "2. **Scalability**: Models can serve millions of predictions.\n",
    "3. **Adaptivity**: With feedback, models improve over time.\n",
    "4. **Automation**: Modeling turns analytics into operational decisions.\n"
   ]
  },
  {
   "cell_type": "markdown",
   "id": "65ef99b4",
   "metadata": {},
   "source": [
    "\n",
    "## 5. Real‑world examples\n",
    "| Industry | Model type | Example result |\n",
    "|---|---|---|\n",
    "| Finance | Classification | Credit risk / fraud detection |\n",
    "| Healthcare | Classification | Disease detection from scans |\n",
    "| Marketing | Clustering & uplift | Customer segments; campaign targeting |\n",
    "| Manufacturing | Forecasting | Predictive maintenance to reduce downtime |\n",
    "| Retail | Regression/forecasting | Demand forecasting for inventory |\n"
   ]
  },
  {
   "cell_type": "markdown",
   "id": "d862f472",
   "metadata": {},
   "source": [
    "\n",
    "## 6. Exercise: Simple predictive modeling\n",
    "We'll predict **sales** from **ad spend** using linear regression.\n"
   ]
  },
  {
   "cell_type": "code",
   "execution_count": null,
   "id": "0b3c492b",
   "metadata": {},
   "outputs": [],
   "source": [
    "\n",
    "import pandas as pd\n",
    "from sklearn.linear_model import LinearRegression\n",
    "\n",
    "data = pd.DataFrame({\n",
    "    'Ad_Spend': [5, 10, 15, 20, 25, 30, 35],\n",
    "    'Sales':    [10, 18, 25, 35, 45, 48, 52]\n",
    "})\n",
    "\n",
    "X = data[['Ad_Spend']]\n",
    "y = data['Sales']\n",
    "\n",
    "model = LinearRegression().fit(X, y)\n",
    "\n",
    "# Predict for new budgets\n",
    "new_spend = pd.DataFrame({'Ad_Spend': [12, 28, 40]})\n",
    "pred_sales = model.predict(new_spend)\n",
    "\n",
    "pd.concat([new_spend, pd.Series(pred_sales, name='Predicted_Sales')], axis=1)\n"
   ]
  },
  {
   "cell_type": "code",
   "execution_count": null,
   "id": "799dcbc0",
   "metadata": {},
   "outputs": [],
   "source": [
    "\n",
    "# Visualize fit\n",
    "import matplotlib.pyplot as plt\n",
    "\n",
    "plt.figure()\n",
    "plt.scatter(data['Ad_Spend'], data['Sales'], label='Observed')\n",
    "# regression line\n",
    "xs = np.linspace(data['Ad_Spend'].min(), data['Ad_Spend'].max(), 50).reshape(-1, 1)\n",
    "ys = model.predict(xs)\n",
    "plt.plot(xs, ys, label='Linear fit')\n",
    "plt.xlabel('Ad Spend')\n",
    "plt.ylabel('Sales')\n",
    "plt.title('Sales vs Ad Spend (Linear Regression)')\n",
    "plt.legend()\n",
    "plt.show()\n"
   ]
  },
  {
   "cell_type": "markdown",
   "id": "675b2e42",
   "metadata": {},
   "source": [
    "\n",
    "## 7. Key takeaways\n",
    "- A **model** learns a mapping from features to a target.\n",
    "- ML replaces **manual rules** with **learned patterns**.\n",
    "- Typical loop: **Understand → Prepare → Train → Evaluate → Deploy → Improve**.\n",
    "- Start simple; measure; iterate with feedback.\n"
   ]
  },
  {
   "cell_type": "markdown",
   "id": "1b9ccece",
   "metadata": {},
   "source": [
    "\n",
    "**Next notebook suggestion:** *Supervised_vs_Unsupervised_Learning.ipynb*  \n",
    "We'll contrast learning with and without labels and build one of each.\n"
   ]
  }
 ],
 "metadata": {},
 "nbformat": 4,
 "nbformat_minor": 5
}
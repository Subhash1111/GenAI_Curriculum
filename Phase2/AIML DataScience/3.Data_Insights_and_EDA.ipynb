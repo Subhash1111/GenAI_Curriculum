{
 "cells": [
  {
   "cell_type": "markdown",
   "id": "5247f2fb",
   "metadata": {},
   "source": [
    "\n",
    "# Data Insights and Discovery (EDA)\n",
    "*A hands-on guide to exploring, cleaning, and understanding data before modeling.*\n",
    "\n",
    "---\n",
    "\n",
    "## 🎯 Learning Goals\n",
    "- Load and inspect tabular data\n",
    "- Understand distributions, relationships, and data quality issues\n",
    "- Handle missing values and outliers\n",
    "- Create simple, informative visualizations\n",
    "- Prepare features for modeling without leakage\n"
   ]
  },
  {
   "cell_type": "markdown",
   "id": "7e04e75f",
   "metadata": {},
   "source": [
    "\n",
    "## 1️⃣ Why EDA?\n",
    "Exploratory Data Analysis (EDA) is the **first pass** over your data to:\n",
    "- Validate assumptions and spot quality issues\n",
    "- Understand feature distributions and relationships\n",
    "- Generate hypotheses and guide feature engineering\n",
    "- Reduce risk of **data leakage** and costly modeling errors\n",
    "\n",
    "> Good EDA saves time and improves model reliability.\n"
   ]
  },
  {
   "cell_type": "markdown",
   "id": "f11c46ce",
   "metadata": {},
   "source": [
    "\n",
    "## 2️⃣ Setup & Sample Dataset\n",
    "We'll synthesize a small dataset that mimics a business setting: predicting **weekly sales** from **ad spends**, **price**, and **store metadata**.\n"
   ]
  },
  {
   "cell_type": "code",
   "execution_count": 1,
   "id": "a928166d",
   "metadata": {},
   "outputs": [
    {
     "data": {
      "text/html": [
       "<div>\n",
       "<style scoped>\n",
       "    .dataframe tbody tr th:only-of-type {\n",
       "        vertical-align: middle;\n",
       "    }\n",
       "\n",
       "    .dataframe tbody tr th {\n",
       "        vertical-align: top;\n",
       "    }\n",
       "\n",
       "    .dataframe thead th {\n",
       "        text-align: right;\n",
       "    }\n",
       "</style>\n",
       "<table border=\"1\" class=\"dataframe\">\n",
       "  <thead>\n",
       "    <tr style=\"text-align: right;\">\n",
       "      <th></th>\n",
       "      <th>week</th>\n",
       "      <th>store_id</th>\n",
       "      <th>ad_spend_tv</th>\n",
       "      <th>ad_spend_online</th>\n",
       "      <th>price</th>\n",
       "      <th>is_holiday</th>\n",
       "      <th>sales</th>\n",
       "    </tr>\n",
       "  </thead>\n",
       "  <tbody>\n",
       "    <tr>\n",
       "      <th>0</th>\n",
       "      <td>2023-01-01</td>\n",
       "      <td>2</td>\n",
       "      <td>11.929980</td>\n",
       "      <td>4.958823</td>\n",
       "      <td>23.067291</td>\n",
       "      <td>0</td>\n",
       "      <td>27.65</td>\n",
       "    </tr>\n",
       "    <tr>\n",
       "      <th>1</th>\n",
       "      <td>2023-01-08</td>\n",
       "      <td>16</td>\n",
       "      <td>8.816185</td>\n",
       "      <td>7.625203</td>\n",
       "      <td>20.484712</td>\n",
       "      <td>0</td>\n",
       "      <td>31.57</td>\n",
       "    </tr>\n",
       "    <tr>\n",
       "      <th>2</th>\n",
       "      <td>2023-01-15</td>\n",
       "      <td>14</td>\n",
       "      <td>9.984634</td>\n",
       "      <td>6.483319</td>\n",
       "      <td>20.523057</td>\n",
       "      <td>1</td>\n",
       "      <td>33.25</td>\n",
       "    </tr>\n",
       "    <tr>\n",
       "      <th>3</th>\n",
       "      <td>2023-01-22</td>\n",
       "      <td>9</td>\n",
       "      <td>9.509671</td>\n",
       "      <td>2.450076</td>\n",
       "      <td>23.295013</td>\n",
       "      <td>1</td>\n",
       "      <td>14.01</td>\n",
       "    </tr>\n",
       "    <tr>\n",
       "      <th>4</th>\n",
       "      <td>2023-01-29</td>\n",
       "      <td>9</td>\n",
       "      <td>11.012724</td>\n",
       "      <td>7.030821</td>\n",
       "      <td>19.762869</td>\n",
       "      <td>0</td>\n",
       "      <td>33.70</td>\n",
       "    </tr>\n",
       "  </tbody>\n",
       "</table>\n",
       "</div>"
      ],
      "text/plain": [
       "        week  store_id  ad_spend_tv  ad_spend_online      price  is_holiday  \\\n",
       "0 2023-01-01         2    11.929980         4.958823  23.067291           0   \n",
       "1 2023-01-08        16     8.816185         7.625203  20.484712           0   \n",
       "2 2023-01-15        14     9.984634         6.483319  20.523057           1   \n",
       "3 2023-01-22         9     9.509671         2.450076  23.295013           1   \n",
       "4 2023-01-29         9    11.012724         7.030821  19.762869           0   \n",
       "\n",
       "   sales  \n",
       "0  27.65  \n",
       "1  31.57  \n",
       "2  33.25  \n",
       "3  14.01  \n",
       "4  33.70  "
      ]
     },
     "execution_count": 1,
     "metadata": {},
     "output_type": "execute_result"
    }
   ],
   "source": [
    "\n",
    "import numpy as np\n",
    "import pandas as pd\n",
    "rng = np.random.default_rng(42)\n",
    "\n",
    "n = 400\n",
    "df = pd.DataFrame({\n",
    "    \"week\": pd.date_range(\"2023-01-01\", periods=n, freq=\"W\"),\n",
    "    \"store_id\": rng.integers(1, 21, size=n),\n",
    "    \"ad_spend_tv\": rng.normal(10, 3, size=n).clip(0),\n",
    "    \"ad_spend_online\": rng.normal(6, 2, size=n).clip(0),\n",
    "    \"price\": rng.normal(20, 4, size=n).clip(5),\n",
    "    \"is_holiday\": rng.choice([0, 1], size=n, p=[0.85, 0.15]),\n",
    "})\n",
    "\n",
    "# Create signal + noise (true function)\n",
    "true_sales = (\n",
    "    5\n",
    "    + 2.2 * df[\"ad_spend_tv\"]\n",
    "    + 3.0 * df[\"ad_spend_online\"]\n",
    "    - 0.8 * df[\"price\"]\n",
    "    + 4.0 * df[\"is_holiday\"]\n",
    "    + rng.normal(0, 2.5, size=n)\n",
    ")\n",
    "\n",
    "df[\"sales\"] = (true_sales).round(2)\n",
    "\n",
    "# Introduce some missingness & outliers to make EDA realistic\n",
    "mask_missing = rng.choice([True, False], size=n, p=[0.05, 0.95])\n",
    "df.loc[mask_missing, \"ad_spend_online\"] = np.nan\n",
    "outlier_idx = rng.choice(np.arange(n), size=3, replace=False)\n",
    "df.loc[outlier_idx, \"sales\"] *= 4  # extreme outliers\n",
    "\n",
    "df.head()\n"
   ]
  },
  {
   "cell_type": "markdown",
   "id": "bd878d94",
   "metadata": {},
   "source": [
    "\n",
    "## 3️⃣ First Look: Shape, Types, and Basic Stats\n"
   ]
  },
  {
   "cell_type": "code",
   "execution_count": 2,
   "id": "ef0263c9",
   "metadata": {},
   "outputs": [
    {
     "data": {
      "text/plain": [
       "((400, 7),\n",
       " week               datetime64[ns]\n",
       " store_id                    int64\n",
       " ad_spend_tv               float64\n",
       " ad_spend_online           float64\n",
       " price                     float64\n",
       " is_holiday                  int64\n",
       " sales                     float64\n",
       " dtype: object)"
      ]
     },
     "execution_count": 2,
     "metadata": {},
     "output_type": "execute_result"
    }
   ],
   "source": [
    "\n",
    "df.shape, df.dtypes\n"
   ]
  },
  {
   "cell_type": "code",
   "execution_count": 3,
   "id": "aa96830b",
   "metadata": {},
   "outputs": [
    {
     "data": {
      "text/html": [
       "<div>\n",
       "<style scoped>\n",
       "    .dataframe tbody tr th:only-of-type {\n",
       "        vertical-align: middle;\n",
       "    }\n",
       "\n",
       "    .dataframe tbody tr th {\n",
       "        vertical-align: top;\n",
       "    }\n",
       "\n",
       "    .dataframe thead th {\n",
       "        text-align: right;\n",
       "    }\n",
       "</style>\n",
       "<table border=\"1\" class=\"dataframe\">\n",
       "  <thead>\n",
       "    <tr style=\"text-align: right;\">\n",
       "      <th></th>\n",
       "      <th>count</th>\n",
       "      <th>mean</th>\n",
       "      <th>min</th>\n",
       "      <th>25%</th>\n",
       "      <th>50%</th>\n",
       "      <th>75%</th>\n",
       "      <th>max</th>\n",
       "      <th>std</th>\n",
       "    </tr>\n",
       "  </thead>\n",
       "  <tbody>\n",
       "    <tr>\n",
       "      <th>week</th>\n",
       "      <td>400</td>\n",
       "      <td>2026-10-28 12:00:00</td>\n",
       "      <td>2023-01-01 00:00:00</td>\n",
       "      <td>2024-11-29 06:00:00</td>\n",
       "      <td>2026-10-28 12:00:00</td>\n",
       "      <td>2028-09-25 18:00:00</td>\n",
       "      <td>2030-08-25 00:00:00</td>\n",
       "      <td>NaN</td>\n",
       "    </tr>\n",
       "    <tr>\n",
       "      <th>store_id</th>\n",
       "      <td>400.0</td>\n",
       "      <td>10.4225</td>\n",
       "      <td>1.0</td>\n",
       "      <td>6.0</td>\n",
       "      <td>10.0</td>\n",
       "      <td>15.0</td>\n",
       "      <td>20.0</td>\n",
       "      <td>5.652776</td>\n",
       "    </tr>\n",
       "    <tr>\n",
       "      <th>ad_spend_tv</th>\n",
       "      <td>400.0</td>\n",
       "      <td>9.937843</td>\n",
       "      <td>1.106413</td>\n",
       "      <td>7.874875</td>\n",
       "      <td>10.009635</td>\n",
       "      <td>11.834092</td>\n",
       "      <td>18.715202</td>\n",
       "      <td>3.040166</td>\n",
       "    </tr>\n",
       "    <tr>\n",
       "      <th>ad_spend_online</th>\n",
       "      <td>379.0</td>\n",
       "      <td>5.912823</td>\n",
       "      <td>0.0</td>\n",
       "      <td>4.687367</td>\n",
       "      <td>5.99616</td>\n",
       "      <td>7.114131</td>\n",
       "      <td>12.357707</td>\n",
       "      <td>1.988234</td>\n",
       "    </tr>\n",
       "    <tr>\n",
       "      <th>price</th>\n",
       "      <td>400.0</td>\n",
       "      <td>19.953085</td>\n",
       "      <td>8.53178</td>\n",
       "      <td>17.343837</td>\n",
       "      <td>20.024604</td>\n",
       "      <td>22.617623</td>\n",
       "      <td>31.236843</td>\n",
       "      <td>4.06323</td>\n",
       "    </tr>\n",
       "    <tr>\n",
       "      <th>is_holiday</th>\n",
       "      <td>400.0</td>\n",
       "      <td>0.155</td>\n",
       "      <td>0.0</td>\n",
       "      <td>0.0</td>\n",
       "      <td>0.0</td>\n",
       "      <td>0.0</td>\n",
       "      <td>1.0</td>\n",
       "      <td>0.362358</td>\n",
       "    </tr>\n",
       "    <tr>\n",
       "      <th>sales</th>\n",
       "      <td>400.0</td>\n",
       "      <td>29.85645</td>\n",
       "      <td>-5.93</td>\n",
       "      <td>22.8575</td>\n",
       "      <td>29.215</td>\n",
       "      <td>35.66</td>\n",
       "      <td>209.4</td>\n",
       "      <td>14.885054</td>\n",
       "    </tr>\n",
       "  </tbody>\n",
       "</table>\n",
       "</div>"
      ],
      "text/plain": [
       "                 count                 mean                  min  \\\n",
       "week               400  2026-10-28 12:00:00  2023-01-01 00:00:00   \n",
       "store_id         400.0              10.4225                  1.0   \n",
       "ad_spend_tv      400.0             9.937843             1.106413   \n",
       "ad_spend_online  379.0             5.912823                  0.0   \n",
       "price            400.0            19.953085              8.53178   \n",
       "is_holiday       400.0                0.155                  0.0   \n",
       "sales            400.0             29.85645                -5.93   \n",
       "\n",
       "                                 25%                  50%  \\\n",
       "week             2024-11-29 06:00:00  2026-10-28 12:00:00   \n",
       "store_id                         6.0                 10.0   \n",
       "ad_spend_tv                 7.874875            10.009635   \n",
       "ad_spend_online             4.687367              5.99616   \n",
       "price                      17.343837            20.024604   \n",
       "is_holiday                       0.0                  0.0   \n",
       "sales                        22.8575               29.215   \n",
       "\n",
       "                                 75%                  max        std  \n",
       "week             2028-09-25 18:00:00  2030-08-25 00:00:00        NaN  \n",
       "store_id                        15.0                 20.0   5.652776  \n",
       "ad_spend_tv                11.834092            18.715202   3.040166  \n",
       "ad_spend_online             7.114131            12.357707   1.988234  \n",
       "price                      22.617623            31.236843    4.06323  \n",
       "is_holiday                       0.0                  1.0   0.362358  \n",
       "sales                          35.66                209.4  14.885054  "
      ]
     },
     "execution_count": 3,
     "metadata": {},
     "output_type": "execute_result"
    }
   ],
   "source": [
    "\n",
    "df.describe(include=\"all\").T\n"
   ]
  },
  {
   "cell_type": "markdown",
   "id": "1001cce7",
   "metadata": {},
   "source": [
    "\n",
    "## 4️⃣ Data Quality Checks\n",
    "### Missing Values\n"
   ]
  },
  {
   "cell_type": "code",
   "execution_count": 4,
   "id": "24eb9c00",
   "metadata": {},
   "outputs": [
    {
     "data": {
      "text/plain": [
       "week                0\n",
       "store_id            0\n",
       "ad_spend_tv         0\n",
       "ad_spend_online    21\n",
       "price               0\n",
       "is_holiday          0\n",
       "sales               0\n",
       "dtype: int64"
      ]
     },
     "execution_count": 4,
     "metadata": {},
     "output_type": "execute_result"
    }
   ],
   "source": [
    "\n",
    "df.isna().sum()\n"
   ]
  },
  {
   "cell_type": "markdown",
   "id": "a9e63c52",
   "metadata": {},
   "source": [
    "\n",
    "### Handling Missing Values (Simple)\n",
    "We'll use a simple **median imputation** for `ad_spend_online` as a baseline.\n"
   ]
  },
  {
   "cell_type": "code",
   "execution_count": 5,
   "id": "1173ed7a",
   "metadata": {},
   "outputs": [
    {
     "data": {
      "text/html": [
       "<div>\n",
       "<style scoped>\n",
       "    .dataframe tbody tr th:only-of-type {\n",
       "        vertical-align: middle;\n",
       "    }\n",
       "\n",
       "    .dataframe tbody tr th {\n",
       "        vertical-align: top;\n",
       "    }\n",
       "\n",
       "    .dataframe thead th {\n",
       "        text-align: right;\n",
       "    }\n",
       "</style>\n",
       "<table border=\"1\" class=\"dataframe\">\n",
       "  <thead>\n",
       "    <tr style=\"text-align: right;\">\n",
       "      <th></th>\n",
       "      <th>ad_spend_online</th>\n",
       "      <th>ad_spend_online_filled</th>\n",
       "    </tr>\n",
       "  </thead>\n",
       "  <tbody>\n",
       "    <tr>\n",
       "      <th>0</th>\n",
       "      <td>4.958823</td>\n",
       "      <td>4.958823</td>\n",
       "    </tr>\n",
       "    <tr>\n",
       "      <th>1</th>\n",
       "      <td>7.625203</td>\n",
       "      <td>7.625203</td>\n",
       "    </tr>\n",
       "    <tr>\n",
       "      <th>2</th>\n",
       "      <td>6.483319</td>\n",
       "      <td>6.483319</td>\n",
       "    </tr>\n",
       "    <tr>\n",
       "      <th>3</th>\n",
       "      <td>2.450076</td>\n",
       "      <td>2.450076</td>\n",
       "    </tr>\n",
       "    <tr>\n",
       "      <th>4</th>\n",
       "      <td>7.030821</td>\n",
       "      <td>7.030821</td>\n",
       "    </tr>\n",
       "    <tr>\n",
       "      <th>5</th>\n",
       "      <td>4.844922</td>\n",
       "      <td>4.844922</td>\n",
       "    </tr>\n",
       "    <tr>\n",
       "      <th>6</th>\n",
       "      <td>8.548894</td>\n",
       "      <td>8.548894</td>\n",
       "    </tr>\n",
       "    <tr>\n",
       "      <th>7</th>\n",
       "      <td>4.744825</td>\n",
       "      <td>4.744825</td>\n",
       "    </tr>\n",
       "    <tr>\n",
       "      <th>8</th>\n",
       "      <td>4.726769</td>\n",
       "      <td>4.726769</td>\n",
       "    </tr>\n",
       "    <tr>\n",
       "      <th>9</th>\n",
       "      <td>7.082263</td>\n",
       "      <td>7.082263</td>\n",
       "    </tr>\n",
       "  </tbody>\n",
       "</table>\n",
       "</div>"
      ],
      "text/plain": [
       "   ad_spend_online  ad_spend_online_filled\n",
       "0         4.958823                4.958823\n",
       "1         7.625203                7.625203\n",
       "2         6.483319                6.483319\n",
       "3         2.450076                2.450076\n",
       "4         7.030821                7.030821\n",
       "5         4.844922                4.844922\n",
       "6         8.548894                8.548894\n",
       "7         4.744825                4.744825\n",
       "8         4.726769                4.726769\n",
       "9         7.082263                7.082263"
      ]
     },
     "execution_count": 5,
     "metadata": {},
     "output_type": "execute_result"
    }
   ],
   "source": [
    "\n",
    "median_online = df[\"ad_spend_online\"].median()\n",
    "df[\"ad_spend_online_filled\"] = df[\"ad_spend_online\"].fillna(median_online)\n",
    "df[[\"ad_spend_online\", \"ad_spend_online_filled\"]].head(10)\n"
   ]
  },
  {
   "cell_type": "markdown",
   "id": "08520604",
   "metadata": {},
   "source": [
    "\n",
    "### Outliers\n",
    "Let's inspect potential outliers in `sales` via a simple rule of thumb (IQR).\n"
   ]
  },
  {
   "cell_type": "code",
   "execution_count": 6,
   "id": "d6035767",
   "metadata": {},
   "outputs": [
    {
     "data": {
      "text/plain": [
       "(7,\n",
       "           week  sales\n",
       " 97  2024-11-10  -5.93\n",
       " 102 2024-12-15   3.41\n",
       " 194 2026-09-20   3.65\n",
       " 250 2027-10-17  58.09\n",
       " 292 2028-08-06   2.35)"
      ]
     },
     "execution_count": 6,
     "metadata": {},
     "output_type": "execute_result"
    }
   ],
   "source": [
    "\n",
    "q1, q3 = df[\"sales\"].quantile([0.25, 0.75])\n",
    "iqr = q3 - q1\n",
    "lower, upper = q1 - 1.5*iqr, q3 + 1.5*iqr\n",
    "outliers = df[(df[\"sales\"] < lower) | (df[\"sales\"] > upper)]\n",
    "len(outliers), outliers[[\"week\",\"sales\"]].head()\n"
   ]
  },
  {
   "cell_type": "markdown",
   "id": "477e558b",
   "metadata": {},
   "source": [
    "\n",
    "## 5️⃣ Visual Exploration\n",
    "### Distributions\n"
   ]
  },
  {
   "cell_type": "code",
   "execution_count": 7,
   "id": "5c96e984",
   "metadata": {},
   "outputs": [
    {
     "data": {
      "image/png": "[encoded data removed]",
      "text/plain": [
       "<Figure size 640x480 with 1 Axes>"
      ]
     },
     "metadata": {},
     "output_type": "display_data"
    }
   ],
   "source": [
    "\n",
    "import matplotlib.pyplot as plt\n",
    "\n",
    "plt.figure()\n",
    "df[\"sales\"].hist(bins=30)\n",
    "plt.title(\"Distribution of Sales\")\n",
    "plt.xlabel(\"Sales\")\n",
    "plt.ylabel(\"Count\")\n",
    "plt.show()\n"
   ]
  },
  {
   "cell_type": "code",
   "execution_count": 8,
   "id": "cc8a7e8a",
   "metadata": {},
   "outputs": [
    {
     "data": {
      "image/png": "[encoded data removed]",
      "text/plain": [
       "<Figure size 640x480 with 1 Axes>"
      ]
     },
     "metadata": {},
     "output_type": "display_data"
    }
   ],
   "source": [
    "\n",
    "plt.figure()\n",
    "df[\"price\"].hist(bins=30)\n",
    "plt.title(\"Distribution of Price\")\n",
    "plt.xlabel(\"Price\")\n",
    "plt.ylabel(\"Count\")\n",
    "plt.show()\n"
   ]
  },
  {
   "cell_type": "markdown",
   "id": "73b944b4",
   "metadata": {},
   "source": [
    "\n",
    "### Relationships\n",
    "Scatter plots help visualize relationships and potential linear trends.\n"
   ]
  },
  {
   "cell_type": "code",
   "execution_count": 9,
   "id": "f1159acc",
   "metadata": {},
   "outputs": [
    {
     "data": {
      "image/png": "[encoded data removed]",
      "text/plain": [
       "<Figure size 640x480 with 1 Axes>"
      ]
     },
     "metadata": {},
     "output_type": "display_data"
    }
   ],
   "source": [
    "\n",
    "plt.figure()\n",
    "plt.scatter(df[\"ad_spend_tv\"], df[\"sales\"])\n",
    "plt.title(\"Sales vs TV Ad Spend\")\n",
    "plt.xlabel(\"TV Ad Spend\")\n",
    "plt.ylabel(\"Sales\")\n",
    "plt.show()\n"
   ]
  },
  {
   "cell_type": "code",
   "execution_count": 10,
   "id": "70dd2272",
   "metadata": {},
   "outputs": [
    {
     "data": {
      "image/png": "[encoded data removed]",
      "text/plain": [
       "<Figure size 640x480 with 1 Axes>"
      ]
     },
     "metadata": {},
     "output_type": "display_data"
    }
   ],
   "source": [
    "\n",
    "plt.figure()\n",
    "plt.scatter(df[\"ad_spend_online_filled\"], df[\"sales\"])\n",
    "plt.title(\"Sales vs Online Ad Spend (filled)\")\n",
    "plt.xlabel(\"Online Ad Spend (imputed)\")\n",
    "plt.ylabel(\"Sales\")\n",
    "plt.show()\n"
   ]
  },
  {
   "cell_type": "markdown",
   "id": "bc3070ed",
   "metadata": {},
   "source": [
    "\n",
    "## 6️⃣ Correlations\n",
    "Correlation quantifies linear relationships (−1 to 1).  \n"
   ]
  },
  {
   "cell_type": "code",
   "execution_count": 11,
   "id": "cbeacd87",
   "metadata": {},
   "outputs": [
    {
     "data": {
      "text/html": [
       "<div>\n",
       "<style scoped>\n",
       "    .dataframe tbody tr th:only-of-type {\n",
       "        vertical-align: middle;\n",
       "    }\n",
       "\n",
       "    .dataframe tbody tr th {\n",
       "        vertical-align: top;\n",
       "    }\n",
       "\n",
       "    .dataframe thead th {\n",
       "        text-align: right;\n",
       "    }\n",
       "</style>\n",
       "<table border=\"1\" class=\"dataframe\">\n",
       "  <thead>\n",
       "    <tr style=\"text-align: right;\">\n",
       "      <th></th>\n",
       "      <th>sales</th>\n",
       "      <th>ad_spend_tv</th>\n",
       "      <th>ad_spend_online_filled</th>\n",
       "      <th>price</th>\n",
       "      <th>is_holiday</th>\n",
       "    </tr>\n",
       "  </thead>\n",
       "  <tbody>\n",
       "    <tr>\n",
       "      <th>sales</th>\n",
       "      <td>1.000000</td>\n",
       "      <td>0.522122</td>\n",
       "      <td>0.430987</td>\n",
       "      <td>-0.290665</td>\n",
       "      <td>0.011366</td>\n",
       "    </tr>\n",
       "    <tr>\n",
       "      <th>ad_spend_tv</th>\n",
       "      <td>0.522122</td>\n",
       "      <td>1.000000</td>\n",
       "      <td>-0.018996</td>\n",
       "      <td>-0.114734</td>\n",
       "      <td>-0.011867</td>\n",
       "    </tr>\n",
       "    <tr>\n",
       "      <th>ad_spend_online_filled</th>\n",
       "      <td>0.430987</td>\n",
       "      <td>-0.018996</td>\n",
       "      <td>1.000000</td>\n",
       "      <td>-0.037556</td>\n",
       "      <td>-0.073438</td>\n",
       "    </tr>\n",
       "    <tr>\n",
       "      <th>price</th>\n",
       "      <td>-0.290665</td>\n",
       "      <td>-0.114734</td>\n",
       "      <td>-0.037556</td>\n",
       "      <td>1.000000</td>\n",
       "      <td>0.127581</td>\n",
       "    </tr>\n",
       "    <tr>\n",
       "      <th>is_holiday</th>\n",
       "      <td>0.011366</td>\n",
       "      <td>-0.011867</td>\n",
       "      <td>-0.073438</td>\n",
       "      <td>0.127581</td>\n",
       "      <td>1.000000</td>\n",
       "    </tr>\n",
       "  </tbody>\n",
       "</table>\n",
       "</div>"
      ],
      "text/plain": [
       "                           sales  ad_spend_tv  ad_spend_online_filled  \\\n",
       "sales                   1.000000     0.522122                0.430987   \n",
       "ad_spend_tv             0.522122     1.000000               -0.018996   \n",
       "ad_spend_online_filled  0.430987    -0.018996                1.000000   \n",
       "price                  -0.290665    -0.114734               -0.037556   \n",
       "is_holiday              0.011366    -0.011867               -0.073438   \n",
       "\n",
       "                           price  is_holiday  \n",
       "sales                  -0.290665    0.011366  \n",
       "ad_spend_tv            -0.114734   -0.011867  \n",
       "ad_spend_online_filled -0.037556   -0.073438  \n",
       "price                   1.000000    0.127581  \n",
       "is_holiday              0.127581    1.000000  "
      ]
     },
     "execution_count": 11,
     "metadata": {},
     "output_type": "execute_result"
    }
   ],
   "source": [
    "\n",
    "corr = df[[\"sales\",\"ad_spend_tv\",\"ad_spend_online_filled\",\"price\",\"is_holiday\"]].corr(numeric_only=True)\n",
    "corr\n"
   ]
  },
  {
   "cell_type": "markdown",
   "id": "a15b532c",
   "metadata": {},
   "source": [
    "\n",
    "## 7️⃣ Feature Engineering (Baseline)\n",
    "- Encode booleans/binaries as integers (already 0/1 here)\n",
    "- Create interactions where meaningful (e.g., ad spend * holiday)\n",
    "- Avoid leakage (use only features available at prediction time)\n"
   ]
  },
  {
   "cell_type": "code",
   "execution_count": 12,
   "id": "b56b644d",
   "metadata": {},
   "outputs": [
    {
     "data": {
      "text/html": [
       "<div>\n",
       "<style scoped>\n",
       "    .dataframe tbody tr th:only-of-type {\n",
       "        vertical-align: middle;\n",
       "    }\n",
       "\n",
       "    .dataframe tbody tr th {\n",
       "        vertical-align: top;\n",
       "    }\n",
       "\n",
       "    .dataframe thead th {\n",
       "        text-align: right;\n",
       "    }\n",
       "</style>\n",
       "<table border=\"1\" class=\"dataframe\">\n",
       "  <thead>\n",
       "    <tr style=\"text-align: right;\">\n",
       "      <th></th>\n",
       "      <th>spend_total</th>\n",
       "      <th>spend_x_holiday</th>\n",
       "    </tr>\n",
       "  </thead>\n",
       "  <tbody>\n",
       "    <tr>\n",
       "      <th>0</th>\n",
       "      <td>16.888804</td>\n",
       "      <td>0.000000</td>\n",
       "    </tr>\n",
       "    <tr>\n",
       "      <th>1</th>\n",
       "      <td>16.441387</td>\n",
       "      <td>0.000000</td>\n",
       "    </tr>\n",
       "    <tr>\n",
       "      <th>2</th>\n",
       "      <td>16.467954</td>\n",
       "      <td>16.467954</td>\n",
       "    </tr>\n",
       "    <tr>\n",
       "      <th>3</th>\n",
       "      <td>11.959747</td>\n",
       "      <td>11.959747</td>\n",
       "    </tr>\n",
       "    <tr>\n",
       "      <th>4</th>\n",
       "      <td>18.043544</td>\n",
       "      <td>0.000000</td>\n",
       "    </tr>\n",
       "  </tbody>\n",
       "</table>\n",
       "</div>"
      ],
      "text/plain": [
       "   spend_total  spend_x_holiday\n",
       "0    16.888804         0.000000\n",
       "1    16.441387         0.000000\n",
       "2    16.467954        16.467954\n",
       "3    11.959747        11.959747\n",
       "4    18.043544         0.000000"
      ]
     },
     "execution_count": 12,
     "metadata": {},
     "output_type": "execute_result"
    }
   ],
   "source": [
    "\n",
    "df[\"spend_total\"] = df[\"ad_spend_tv\"] + df[\"ad_spend_online_filled\"]\n",
    "df[\"spend_x_holiday\"] = df[\"spend_total\"] * df[\"is_holiday\"]\n",
    "df[[\"spend_total\",\"spend_x_holiday\"]].head()\n"
   ]
  },
  {
   "cell_type": "markdown",
   "id": "cfa4af22",
   "metadata": {},
   "source": [
    "\n",
    "## 8️⃣ Quick Baseline Model (No Leakage)\n",
    "We'll build a quick regression to predict `sales` from a few features, using a **time-aware split** to mimic production (train on past, test on future).\n"
   ]
  },
  {
   "cell_type": "code",
   "execution_count": 13,
   "id": "8ffa7855",
   "metadata": {},
   "outputs": [
    {
     "data": {
      "text/plain": [
       "(5.672632017167305, 0.2595335693905477)"
      ]
     },
     "execution_count": 13,
     "metadata": {},
     "output_type": "execute_result"
    }
   ],
   "source": [
    "\n",
    "from sklearn.linear_model import LinearRegression\n",
    "from sklearn.metrics import mean_absolute_error, r2_score\n",
    "\n",
    "df_sorted = df.sort_values(\"week\").reset_index(drop=True)\n",
    "split = int(len(df_sorted)*0.8)\n",
    "train, test = df_sorted.iloc[:split], df_sorted.iloc[split:]\n",
    "\n",
    "features = [\"ad_spend_tv\", \"ad_spend_online_filled\", \"price\", \"is_holiday\", \"spend_total\", \"spend_x_holiday\"]\n",
    "Xtr, ytr = train[features], train[\"sales\"]\n",
    "Xte, yte = test[features], test[\"sales\"]\n",
    "\n",
    "reg = LinearRegression().fit(Xtr, ytr)\n",
    "pred = reg.predict(Xte)\n",
    "\n",
    "mae = mean_absolute_error(yte, pred)\n",
    "r2 = r2_score(yte, pred)\n",
    "mae, r2\n"
   ]
  },
  {
   "cell_type": "markdown",
   "id": "69727aa8",
   "metadata": {},
   "source": [
    "\n",
    "### Residuals\n",
    "Residual diagnostics help spot misspecification and outliers.\n"
   ]
  },
  {
   "cell_type": "code",
   "execution_count": 14,
   "id": "5c030fa5",
   "metadata": {},
   "outputs": [
    {
     "data": {
      "image/png": "[encoded data removed]",
      "text/plain": [
       "<Figure size 640x480 with 1 Axes>"
      ]
     },
     "metadata": {},
     "output_type": "display_data"
    }
   ],
   "source": [
    "\n",
    "plt.figure()\n",
    "plt.scatter(pred, yte - pred)\n",
    "plt.axhline(0)\n",
    "plt.title(\"Residuals vs Predictions (Holdout)\")\n",
    "plt.xlabel(\"Predicted sales\")\n",
    "plt.ylabel(\"Residuals\")\n",
    "plt.show()\n"
   ]
  },
  {
   "cell_type": "markdown",
   "id": "9a14bcb2",
   "metadata": {},
   "source": [
    "\n",
    "## 9️⃣ EDA Checklist (Practical)\n",
    "- Validate data types and units\n",
    "- Check missingness patterns and decide imputation strategy\n",
    "- Inspect distributions (skew, heavy tails) and outliers\n",
    "- Examine key relationships (scatter plots)\n",
    "- Compute correlations (watch for multicollinearity)\n",
    "- Create candidate features (but avoid leakage)\n",
    "- Define a **valid split strategy** that matches deployment\n",
    "\n",
    "> EDA isn't one-and-done. Revisit after each modeling iteration.\n"
   ]
  }
 ],
 "metadata": {
  "kernelspec": {
   "display_name": "venv",
   "language": "python",
   "name": "python3"
  },
  "language_info": {
   "codemirror_mode": {
    "name": "ipython",
    "version": 3
   },
   "file_extension": ".py",
   "mimetype": "text/x-python",
   "name": "python",
   "nbconvert_exporter": "python",
   "pygments_lexer": "ipython3",
   "version": "3.11.9"
  }
 },
 "nbformat": 4,
 "nbformat_minor": 5
}

{
  "cells": [
    {
      "cell_type": "markdown",
      "metadata": {},
      "source": "# \ud83d\udcd8 Titanic Logistic Regression (CSV) + EDA \u2014 v3\n**Note:** The `Survived` target should not be NaN. If present in other datasets, we drop NaN targets.\n"
    },
    {
      "cell_type": "markdown",
      "metadata": {},
      "source": "## Setup & Data Loading"
    },
    {
      "cell_type": "code",
      "metadata": {},
      "execution_count": null,
      "outputs": [],
      "source": "\nimport pandas as pd\nimport numpy as np\nimport matplotlib.pyplot as plt\n\ndf = pd.read_csv('titanic.csv')\nprint(df.shape)\ndf.head()\n"
    },
    {
      "cell_type": "markdown",
      "metadata": {},
      "source": "## EDA \u2014 Structure, Missingness, Class Balance"
    },
    {
      "cell_type": "code",
      "metadata": {},
      "execution_count": null,
      "outputs": [],
      "source": "df.info()"
    },
    {
      "cell_type": "code",
      "metadata": {},
      "execution_count": null,
      "outputs": [],
      "source": "df.isna().sum().sort_values(ascending=False)"
    },
    {
      "cell_type": "code",
      "metadata": {},
      "execution_count": null,
      "outputs": [],
      "source": "df['Survived'].value_counts(normalize=True).rename('proportion')"
    },
    {
      "cell_type": "markdown",
      "metadata": {},
      "source": "## EDA \u2014 Distributions & Survival Rates"
    },
    {
      "cell_type": "code",
      "metadata": {},
      "execution_count": null,
      "outputs": [],
      "source": "\nplt.figure(figsize=(6,4))\ndf['Age'].plot(kind='hist', bins=30)\nplt.xlabel('Age'); plt.title('Age Distribution'); plt.show()\n"
    },
    {
      "cell_type": "code",
      "metadata": {},
      "execution_count": null,
      "outputs": [],
      "source": "\npclass_rate = df.groupby('Pclass')['Survived'].mean()\nplt.figure(figsize=(6,4)); pclass_rate.plot(kind='bar'); plt.ylabel('Survival Rate'); plt.title('Survival Rate by Pclass'); plt.ylim(0,1); plt.show()\n"
    },
    {
      "cell_type": "code",
      "metadata": {},
      "execution_count": null,
      "outputs": [],
      "source": "\nsex_rate = df.groupby('Sex')['Survived'].mean().sort_values(ascending=False)\nplt.figure(figsize=(6,4)); sex_rate.plot(kind='bar'); plt.ylabel('Survival Rate'); plt.title('Survival Rate by Sex'); plt.ylim(0,1); plt.show()\n"
    },
    {
      "cell_type": "markdown",
      "metadata": {},
      "source": "## Target & Features (with target dropna safety)"
    },
    {
      "cell_type": "code",
      "metadata": {},
      "execution_count": null,
      "outputs": [],
      "source": "\ncols = ['Survived','Pclass','Sex','Age','SibSp','Parch','Fare','Embarked']\ndata = df[cols].copy()\ndata['Alone'] = ((data['SibSp'].fillna(0) + data['Parch'].fillna(0)) == 0).astype(int)\n\n# Drop rows where the TARGET is NaN (safety; typically not needed for Kaggle Titanic)\ndata = data.dropna(subset=['Survived']).reset_index(drop=True)\n\ny = data['Survived']\nX = data.drop(columns=['Survived'])\n\nnum_features = ['Pclass','Age','SibSp','Parch','Fare']\ncat_features = ['Sex','Embarked','Alone']\n"
    },
    {
      "cell_type": "markdown",
      "metadata": {},
      "source": "## Preprocessing + Train/Test"
    },
    {
      "cell_type": "code",
      "metadata": {},
      "execution_count": null,
      "outputs": [],
      "source": "\nfrom sklearn.model_selection import train_test_split\nfrom sklearn.compose import ColumnTransformer\nfrom sklearn.preprocessing import OneHotEncoder, StandardScaler\nfrom sklearn.pipeline import Pipeline\nfrom sklearn.impute import SimpleImputer\nfrom sklearn.linear_model import LogisticRegression\nfrom sklearn.metrics import accuracy_score, precision_score, recall_score, f1_score, roc_auc_score, confusion_matrix\n\nnumeric_transformer = Pipeline([('imputer', SimpleImputer(strategy='median')), ('scaler', StandardScaler())])\ncategorical_transformer = Pipeline([('imputer', SimpleImputer(strategy='most_frequent')), ('onehot', OneHotEncoder(handle_unknown='ignore'))])\npreprocess = ColumnTransformer([('num', numeric_transformer, num_features), ('cat', categorical_transformer, cat_features)])\n\nX_train, X_test, y_train, y_test = train_test_split(X, y, test_size=0.2, random_state=42, stratify=y)\n"
    },
    {
      "cell_type": "markdown",
      "metadata": {},
      "source": "## Train & Evaluate"
    },
    {
      "cell_type": "code",
      "metadata": {},
      "execution_count": null,
      "outputs": [],
      "source": "\nmodel = Pipeline([('preprocess', preprocess), ('clf', LogisticRegression(max_iter=1000))])\nmodel.fit(X_train, y_train)\ny_pred = model.predict(X_test)\ny_proba = model.predict_proba(X_test)[:, 1]\n\nmetrics = {\n    'accuracy': round(accuracy_score(y_test, y_pred),3),\n    'precision': round(precision_score(y_test, y_pred),3),\n    'recall': round(recall_score(y_test, y_pred),3),\n    'f1': round(f1_score(y_test, y_pred),3),\n    'roc_auc': round(roc_auc_score(y_test, y_proba),3)\n}\nmetrics\n"
    },
    {
      "cell_type": "markdown",
      "metadata": {},
      "source": "## Confusion Matrix & ROC Curve"
    },
    {
      "cell_type": "code",
      "metadata": {},
      "execution_count": null,
      "outputs": [],
      "source": "\ncm = confusion_matrix(y_test, y_pred)\nimport pandas as pd\npd.DataFrame(cm, index=['Actual 0','Actual 1'], columns=['Pred 0','Pred 1'])\n"
    },
    {
      "cell_type": "code",
      "metadata": {},
      "execution_count": null,
      "outputs": [],
      "source": "\ntry:\n    from sklearn.metrics import RocCurveDisplay\n    RocCurveDisplay.from_estimator(model, X_test, y_test)\n    plt.title('ROC Curve'); plt.show()\nexcept Exception as e:\n    print(\"ROC curve not available in this sklearn version:\", e)\n"
    },
    {
      "cell_type": "markdown",
      "metadata": {},
      "source": "## Coefficients (Odds Interpretation)"
    },
    {
      "cell_type": "code",
      "metadata": {},
      "execution_count": null,
      "outputs": [],
      "source": "\nct = model.named_steps['preprocess']\nohe = ct.named_transformers_['cat'].named_steps['onehot']\nnum_names = num_features\ncat_names = list(ohe.get_feature_names_out(cat_features))\nall_feature_names = num_names + cat_names\n\ncoef = model.named_steps['clf'].coef_[0]\ncoef_df = pd.DataFrame({'feature': all_feature_names, 'coef': coef})\ncoef_df['odds_ratio'] = np.exp(coef_df['coef'])\ncoef_df.sort_values('odds_ratio', ascending=False).head(12)\n"
    }
  ],
  "metadata": {
    "kernelspec": {
      "display_name": "Python 3",
      "language": "python",
      "name": "python3"
    },
    "language_info": {
      "name": "python",
      "version": "3.11"
    }
  },
  "nbformat": 4,
  "nbformat_minor": 5
}
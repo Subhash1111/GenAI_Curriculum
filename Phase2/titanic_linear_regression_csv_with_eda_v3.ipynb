{
  "cells": [
    {
      "cell_type": "markdown",
      "metadata": {},
      "source": [
        "# 📘 Titanic Linear Regression (CSV) + EDA — v3\n",
        "**Fix:** Drop rows with missing target `Age` before splitting (models cannot train with NaN targets).\n"
      ]
    },
    {
      "cell_type": "markdown",
      "metadata": {},
      "source": [
        "## Setup & Data Loading"
      ]
    },
    {
      "cell_type": "code",
      "execution_count": 12,
      "metadata": {},
      "outputs": [
        {
          "name": "stdout",
          "output_type": "stream",
          "text": [
            "(891, 12)\n"
          ]
        },
        {
          "data": {
            "text/html": [
              "<div>\n",
              "<style scoped>\n",
              "    .dataframe tbody tr th:only-of-type {\n",
              "        vertical-align: middle;\n",
              "    }\n",
              "\n",
              "    .dataframe tbody tr th {\n",
              "        vertical-align: top;\n",
              "    }\n",
              "\n",
              "    .dataframe thead th {\n",
              "        text-align: right;\n",
              "    }\n",
              "</style>\n",
              "<table border=\"1\" class=\"dataframe\">\n",
              "  <thead>\n",
              "    <tr style=\"text-align: right;\">\n",
              "      <th></th>\n",
              "      <th>PassengerId</th>\n",
              "      <th>Survived</th>\n",
              "      <th>Pclass</th>\n",
              "      <th>Name</th>\n",
              "      <th>Sex</th>\n",
              "      <th>Age</th>\n",
              "      <th>SibSp</th>\n",
              "      <th>Parch</th>\n",
              "      <th>Ticket</th>\n",
              "      <th>Fare</th>\n",
              "      <th>Cabin</th>\n",
              "      <th>Embarked</th>\n",
              "    </tr>\n",
              "  </thead>\n",
              "  <tbody>\n",
              "    <tr>\n",
              "      <th>0</th>\n",
              "      <td>1</td>\n",
              "      <td>0</td>\n",
              "      <td>2</td>\n",
              "      <td>Wilson, Mrs. Ella</td>\n",
              "      <td>female</td>\n",
              "      <td>60.202315</td>\n",
              "      <td>0</td>\n",
              "      <td>0</td>\n",
              "      <td>XIB 650336</td>\n",
              "      <td>20.2405</td>\n",
              "      <td>NaN</td>\n",
              "      <td>S</td>\n",
              "    </tr>\n",
              "    <tr>\n",
              "      <th>1</th>\n",
              "      <td>2</td>\n",
              "      <td>0</td>\n",
              "      <td>3</td>\n",
              "      <td>Thompson, Mrs. Nellie</td>\n",
              "      <td>female</td>\n",
              "      <td>21.519991</td>\n",
              "      <td>0</td>\n",
              "      <td>3</td>\n",
              "      <td>19 51980</td>\n",
              "      <td>10.7555</td>\n",
              "      <td>NaN</td>\n",
              "      <td>S</td>\n",
              "    </tr>\n",
              "    <tr>\n",
              "      <th>2</th>\n",
              "      <td>3</td>\n",
              "      <td>0</td>\n",
              "      <td>3</td>\n",
              "      <td>Thomas, Mr. James</td>\n",
              "      <td>male</td>\n",
              "      <td>40.389335</td>\n",
              "      <td>0</td>\n",
              "      <td>0</td>\n",
              "      <td>M03 590283</td>\n",
              "      <td>12.6781</td>\n",
              "      <td>NaN</td>\n",
              "      <td>S</td>\n",
              "    </tr>\n",
              "    <tr>\n",
              "      <th>3</th>\n",
              "      <td>4</td>\n",
              "      <td>0</td>\n",
              "      <td>3</td>\n",
              "      <td>Wilson, Miss. Annie</td>\n",
              "      <td>female</td>\n",
              "      <td>34.190096</td>\n",
              "      <td>0</td>\n",
              "      <td>0</td>\n",
              "      <td>E1 51565</td>\n",
              "      <td>18.9832</td>\n",
              "      <td>NaN</td>\n",
              "      <td>S</td>\n",
              "    </tr>\n",
              "    <tr>\n",
              "      <th>4</th>\n",
              "      <td>5</td>\n",
              "      <td>0</td>\n",
              "      <td>1</td>\n",
              "      <td>Martin, Mr. Louis</td>\n",
              "      <td>male</td>\n",
              "      <td>48.224378</td>\n",
              "      <td>2</td>\n",
              "      <td>0</td>\n",
              "      <td>58J 335</td>\n",
              "      <td>72.4514</td>\n",
              "      <td>F38</td>\n",
              "      <td>S</td>\n",
              "    </tr>\n",
              "  </tbody>\n",
              "</table>\n",
              "</div>"
            ],
            "text/plain": [
              "   PassengerId  Survived  Pclass                   Name     Sex        Age  \\\n",
              "0            1         0       2      Wilson, Mrs. Ella  female  60.202315   \n",
              "1            2         0       3  Thompson, Mrs. Nellie  female  21.519991   \n",
              "2            3         0       3      Thomas, Mr. James    male  40.389335   \n",
              "3            4         0       3    Wilson, Miss. Annie  female  34.190096   \n",
              "4            5         0       1      Martin, Mr. Louis    male  48.224378   \n",
              "\n",
              "   SibSp  Parch      Ticket     Fare Cabin Embarked  \n",
              "0      0      0  XIB 650336  20.2405   NaN        S  \n",
              "1      0      3    19 51980  10.7555   NaN        S  \n",
              "2      0      0  M03 590283  12.6781   NaN        S  \n",
              "3      0      0    E1 51565  18.9832   NaN        S  \n",
              "4      2      0     58J 335  72.4514   F38        S  "
            ]
          },
          "execution_count": 12,
          "metadata": {},
          "output_type": "execute_result"
        }
      ],
      "source": [
        "\n",
        "import pandas as pd\n",
        "import numpy as np\n",
        "import matplotlib.pyplot as plt\n",
        "\n",
        "df = pd.read_csv('titanic_full_dataset.csv')\n",
        "print(df.shape)\n",
        "df.head()\n"
      ]
    },
    {
      "cell_type": "markdown",
      "metadata": {},
      "source": [
        "## EDA — Structure & Missing Values"
      ]
    },
    {
      "cell_type": "code",
      "execution_count": 13,
      "metadata": {},
      "outputs": [
        {
          "name": "stdout",
          "output_type": "stream",
          "text": [
            "<class 'pandas.core.frame.DataFrame'>\n",
            "RangeIndex: 891 entries, 0 to 890\n",
            "Data columns (total 12 columns):\n",
            " #   Column       Non-Null Count  Dtype  \n",
            "---  ------       --------------  -----  \n",
            " 0   PassengerId  891 non-null    int64  \n",
            " 1   Survived     891 non-null    int64  \n",
            " 2   Pclass       891 non-null    int64  \n",
            " 3   Name         891 non-null    object \n",
            " 4   Sex          891 non-null    object \n",
            " 5   Age          718 non-null    float64\n",
            " 6   SibSp        891 non-null    int64  \n",
            " 7   Parch        891 non-null    int64  \n",
            " 8   Ticket       891 non-null    object \n",
            " 9   Fare         891 non-null    float64\n",
            " 10  Cabin        178 non-null    object \n",
            " 11  Embarked     880 non-null    object \n",
            "dtypes: float64(2), int64(5), object(5)\n",
            "memory usage: 83.7+ KB\n"
          ]
        }
      ],
      "source": [
        "df.info()"
      ]
    },
    {
      "cell_type": "code",
      "execution_count": 14,
      "metadata": {},
      "outputs": [
        {
          "data": {
            "text/plain": [
              "Cabin          713\n",
              "Age            173\n",
              "Embarked        11\n",
              "PassengerId      0\n",
              "Survived         0\n",
              "Pclass           0\n",
              "Name             0\n",
              "Sex              0\n",
              "SibSp            0\n",
              "Parch            0\n",
              "Ticket           0\n",
              "Fare             0\n",
              "dtype: int64"
            ]
          },
          "execution_count": 14,
          "metadata": {},
          "output_type": "execute_result"
        }
      ],
      "source": [
        "df.isna().sum().sort_values(ascending=False)"
      ]
    },
    {
      "cell_type": "code",
      "execution_count": 15,
      "metadata": {},
      "outputs": [
        {
          "data": {
            "text/html": [
              "<div>\n",
              "<style scoped>\n",
              "    .dataframe tbody tr th:only-of-type {\n",
              "        vertical-align: middle;\n",
              "    }\n",
              "\n",
              "    .dataframe tbody tr th {\n",
              "        vertical-align: top;\n",
              "    }\n",
              "\n",
              "    .dataframe thead th {\n",
              "        text-align: right;\n",
              "    }\n",
              "</style>\n",
              "<table border=\"1\" class=\"dataframe\">\n",
              "  <thead>\n",
              "    <tr style=\"text-align: right;\">\n",
              "      <th></th>\n",
              "      <th>count</th>\n",
              "      <th>unique</th>\n",
              "      <th>top</th>\n",
              "      <th>freq</th>\n",
              "      <th>mean</th>\n",
              "      <th>std</th>\n",
              "      <th>min</th>\n",
              "      <th>25%</th>\n",
              "      <th>50%</th>\n",
              "      <th>75%</th>\n",
              "      <th>max</th>\n",
              "    </tr>\n",
              "  </thead>\n",
              "  <tbody>\n",
              "    <tr>\n",
              "      <th>PassengerId</th>\n",
              "      <td>891.0</td>\n",
              "      <td>NaN</td>\n",
              "      <td>NaN</td>\n",
              "      <td>NaN</td>\n",
              "      <td>446.0</td>\n",
              "      <td>257.353842</td>\n",
              "      <td>1.0</td>\n",
              "      <td>223.5</td>\n",
              "      <td>446.0</td>\n",
              "      <td>668.5</td>\n",
              "      <td>891.0</td>\n",
              "    </tr>\n",
              "    <tr>\n",
              "      <th>Survived</th>\n",
              "      <td>891.0</td>\n",
              "      <td>NaN</td>\n",
              "      <td>NaN</td>\n",
              "      <td>NaN</td>\n",
              "      <td>0.246914</td>\n",
              "      <td>0.431458</td>\n",
              "      <td>0.0</td>\n",
              "      <td>0.0</td>\n",
              "      <td>0.0</td>\n",
              "      <td>0.0</td>\n",
              "      <td>1.0</td>\n",
              "    </tr>\n",
              "    <tr>\n",
              "      <th>Pclass</th>\n",
              "      <td>891.0</td>\n",
              "      <td>NaN</td>\n",
              "      <td>NaN</td>\n",
              "      <td>NaN</td>\n",
              "      <td>2.292929</td>\n",
              "      <td>0.849683</td>\n",
              "      <td>1.0</td>\n",
              "      <td>1.0</td>\n",
              "      <td>3.0</td>\n",
              "      <td>3.0</td>\n",
              "      <td>3.0</td>\n",
              "    </tr>\n",
              "    <tr>\n",
              "      <th>Name</th>\n",
              "      <td>891</td>\n",
              "      <td>580</td>\n",
              "      <td>Garcia, Mr. Charles</td>\n",
              "      <td>6</td>\n",
              "      <td>NaN</td>\n",
              "      <td>NaN</td>\n",
              "      <td>NaN</td>\n",
              "      <td>NaN</td>\n",
              "      <td>NaN</td>\n",
              "      <td>NaN</td>\n",
              "      <td>NaN</td>\n",
              "    </tr>\n",
              "    <tr>\n",
              "      <th>Sex</th>\n",
              "      <td>891</td>\n",
              "      <td>2</td>\n",
              "      <td>male</td>\n",
              "      <td>565</td>\n",
              "      <td>NaN</td>\n",
              "      <td>NaN</td>\n",
              "      <td>NaN</td>\n",
              "      <td>NaN</td>\n",
              "      <td>NaN</td>\n",
              "      <td>NaN</td>\n",
              "      <td>NaN</td>\n",
              "    </tr>\n",
              "    <tr>\n",
              "      <th>Age</th>\n",
              "      <td>718.0</td>\n",
              "      <td>NaN</td>\n",
              "      <td>NaN</td>\n",
              "      <td>NaN</td>\n",
              "      <td>30.130276</td>\n",
              "      <td>13.651298</td>\n",
              "      <td>0.42</td>\n",
              "      <td>20.964952</td>\n",
              "      <td>29.690353</td>\n",
              "      <td>39.408706</td>\n",
              "      <td>73.928479</td>\n",
              "    </tr>\n",
              "    <tr>\n",
              "      <th>SibSp</th>\n",
              "      <td>891.0</td>\n",
              "      <td>NaN</td>\n",
              "      <td>NaN</td>\n",
              "      <td>NaN</td>\n",
              "      <td>0.447811</td>\n",
              "      <td>0.939952</td>\n",
              "      <td>0.0</td>\n",
              "      <td>0.0</td>\n",
              "      <td>0.0</td>\n",
              "      <td>1.0</td>\n",
              "      <td>8.0</td>\n",
              "    </tr>\n",
              "    <tr>\n",
              "      <th>Parch</th>\n",
              "      <td>891.0</td>\n",
              "      <td>NaN</td>\n",
              "      <td>NaN</td>\n",
              "      <td>NaN</td>\n",
              "      <td>0.434343</td>\n",
              "      <td>0.952176</td>\n",
              "      <td>0.0</td>\n",
              "      <td>0.0</td>\n",
              "      <td>0.0</td>\n",
              "      <td>0.0</td>\n",
              "      <td>6.0</td>\n",
              "    </tr>\n",
              "    <tr>\n",
              "      <th>Ticket</th>\n",
              "      <td>891</td>\n",
              "      <td>891</td>\n",
              "      <td>XIB 650336</td>\n",
              "      <td>1</td>\n",
              "      <td>NaN</td>\n",
              "      <td>NaN</td>\n",
              "      <td>NaN</td>\n",
              "      <td>NaN</td>\n",
              "      <td>NaN</td>\n",
              "      <td>NaN</td>\n",
              "      <td>NaN</td>\n",
              "    </tr>\n",
              "    <tr>\n",
              "      <th>Fare</th>\n",
              "      <td>891.0</td>\n",
              "      <td>NaN</td>\n",
              "      <td>NaN</td>\n",
              "      <td>NaN</td>\n",
              "      <td>34.77663</td>\n",
              "      <td>36.444109</td>\n",
              "      <td>4.1317</td>\n",
              "      <td>12.04065</td>\n",
              "      <td>16.7767</td>\n",
              "      <td>44.79255</td>\n",
              "      <td>214.0078</td>\n",
              "    </tr>\n",
              "    <tr>\n",
              "      <th>Cabin</th>\n",
              "      <td>178</td>\n",
              "      <td>168</td>\n",
              "      <td>F38</td>\n",
              "      <td>2</td>\n",
              "      <td>NaN</td>\n",
              "      <td>NaN</td>\n",
              "      <td>NaN</td>\n",
              "      <td>NaN</td>\n",
              "      <td>NaN</td>\n",
              "      <td>NaN</td>\n",
              "      <td>NaN</td>\n",
              "    </tr>\n",
              "    <tr>\n",
              "      <th>Embarked</th>\n",
              "      <td>880</td>\n",
              "      <td>3</td>\n",
              "      <td>S</td>\n",
              "      <td>653</td>\n",
              "      <td>NaN</td>\n",
              "      <td>NaN</td>\n",
              "      <td>NaN</td>\n",
              "      <td>NaN</td>\n",
              "      <td>NaN</td>\n",
              "      <td>NaN</td>\n",
              "      <td>NaN</td>\n",
              "    </tr>\n",
              "  </tbody>\n",
              "</table>\n",
              "</div>"
            ],
            "text/plain": [
              "             count unique                  top freq       mean         std  \\\n",
              "PassengerId  891.0    NaN                  NaN  NaN      446.0  257.353842   \n",
              "Survived     891.0    NaN                  NaN  NaN   0.246914    0.431458   \n",
              "Pclass       891.0    NaN                  NaN  NaN   2.292929    0.849683   \n",
              "Name           891    580  Garcia, Mr. Charles    6        NaN         NaN   \n",
              "Sex            891      2                 male  565        NaN         NaN   \n",
              "Age          718.0    NaN                  NaN  NaN  30.130276   13.651298   \n",
              "SibSp        891.0    NaN                  NaN  NaN   0.447811    0.939952   \n",
              "Parch        891.0    NaN                  NaN  NaN   0.434343    0.952176   \n",
              "Ticket         891    891           XIB 650336    1        NaN         NaN   \n",
              "Fare         891.0    NaN                  NaN  NaN   34.77663   36.444109   \n",
              "Cabin          178    168                  F38    2        NaN         NaN   \n",
              "Embarked       880      3                    S  653        NaN         NaN   \n",
              "\n",
              "                min        25%        50%        75%        max  \n",
              "PassengerId     1.0      223.5      446.0      668.5      891.0  \n",
              "Survived        0.0        0.0        0.0        0.0        1.0  \n",
              "Pclass          1.0        1.0        3.0        3.0        3.0  \n",
              "Name            NaN        NaN        NaN        NaN        NaN  \n",
              "Sex             NaN        NaN        NaN        NaN        NaN  \n",
              "Age            0.42  20.964952  29.690353  39.408706  73.928479  \n",
              "SibSp           0.0        0.0        0.0        1.0        8.0  \n",
              "Parch           0.0        0.0        0.0        0.0        6.0  \n",
              "Ticket          NaN        NaN        NaN        NaN        NaN  \n",
              "Fare         4.1317   12.04065    16.7767   44.79255   214.0078  \n",
              "Cabin           NaN        NaN        NaN        NaN        NaN  \n",
              "Embarked        NaN        NaN        NaN        NaN        NaN  "
            ]
          },
          "execution_count": 15,
          "metadata": {},
          "output_type": "execute_result"
        }
      ],
      "source": [
        "df.describe(include='all').T"
      ]
    },
    {
      "cell_type": "markdown",
      "metadata": {},
      "source": [
        "## EDA — Distributions & Simple Relationships"
      ]
    },
    {
      "cell_type": "code",
      "execution_count": 16,
      "metadata": {},
      "outputs": [
        {
          "data": {
            "image/png": "[encoded data removed]",
            "text/plain": [
              "<Figure size 600x400 with 1 Axes>"
            ]
          },
          "metadata": {},
          "output_type": "display_data"
        }
      ],
      "source": [
        "\n",
        "plt.figure(figsize=(6,4))\n",
        "df['Age'].plot(kind='hist', bins=30)\n",
        "plt.xlabel('Age'); plt.title('Age Distribution'); plt.show()\n"
      ]
    },
    {
      "cell_type": "code",
      "execution_count": 17,
      "metadata": {},
      "outputs": [
        {
          "name": "stderr",
          "output_type": "stream",
          "text": [
            "/var/folders/0q/b4wqh1gs5bvdwfddd5n47_wr0000gn/T/ipykernel_20861/2825958873.py:3: MatplotlibDeprecationWarning: The 'labels' parameter of boxplot() has been renamed 'tick_labels' since Matplotlib 3.9; support for the old name will be dropped in 3.11.\n",
            "  plt.boxplot(groups, labels=sorted(df['Pclass'].dropna().unique()))\n"
          ]
        },
        {
          "data": {
            "image/png": "[encoded data removed]",
            "text/plain": [
              "<Figure size 600x400 with 1 Axes>"
            ]
          },
          "metadata": {},
          "output_type": "display_data"
        }
      ],
      "source": [
        "\n",
        "plt.figure(figsize=(6,4))\n",
        "groups = [df.loc[df['Pclass']==c, 'Age'].dropna() for c in sorted(df['Pclass'].dropna().unique())]\n",
        "plt.boxplot(groups, labels=sorted(df['Pclass'].dropna().unique()))\n",
        "plt.xlabel('Pclass'); plt.ylabel('Age'); plt.title('Age by Passenger Class'); plt.show()\n"
      ]
    },
    {
      "cell_type": "markdown",
      "metadata": {},
      "source": [
        "## Target & Features (with target dropna)"
      ]
    },
    {
      "cell_type": "code",
      "execution_count": 18,
      "metadata": {},
      "outputs": [
        {
          "name": "stdout",
          "output_type": "stream",
          "text": [
            "Rows after dropping NaN Age: 718\n"
          ]
        }
      ],
      "source": [
        "\n",
        "cols = ['Age','Pclass','Sex','SibSp','Parch','Fare','Embarked']\n",
        "data = df[cols].copy()\n",
        "data['Alone'] = ((data['SibSp'].fillna(0) + data['Parch'].fillna(0)) == 0).astype(int)\n",
        "\n",
        "# Drop rows where the TARGET is NaN\n",
        "data = data.dropna(subset=['Age']).reset_index(drop=True)\n",
        "\n",
        "y = data['Age']\n",
        "X = data.drop(columns=['Age'])\n",
        "\n",
        "num_features = ['Pclass','SibSp','Parch','Fare']\n",
        "cat_features = ['Sex','Embarked','Alone']\n",
        "print('Rows after dropping NaN Age:', len(data))\n"
      ]
    },
    {
      "cell_type": "markdown",
      "metadata": {},
      "source": [
        "## Preprocessing + Train/Test"
      ]
    },
    {
      "cell_type": "code",
      "execution_count": 19,
      "metadata": {},
      "outputs": [],
      "source": [
        "\n",
        "from sklearn.model_selection import train_test_split\n",
        "from sklearn.compose import ColumnTransformer\n",
        "from sklearn.preprocessing import OneHotEncoder, StandardScaler\n",
        "from sklearn.pipeline import Pipeline\n",
        "from sklearn.impute import SimpleImputer\n",
        "from sklearn.linear_model import LinearRegression\n",
        "from sklearn.metrics import mean_absolute_error, mean_squared_error, r2_score\n",
        "\n",
        "numeric_transformer = Pipeline([('imputer', SimpleImputer(strategy='median')), ('scaler', StandardScaler())])\n",
        "categorical_transformer = Pipeline([('imputer', SimpleImputer(strategy='most_frequent')), ('onehot', OneHotEncoder(handle_unknown='ignore'))])\n",
        "\n",
        "preprocess = ColumnTransformer([('num', numeric_transformer, num_features), ('cat', categorical_transformer, cat_features)])\n",
        "\n",
        "X_train, X_test, y_train, y_test = train_test_split(X, y, test_size=0.2, random_state=42)\n"
      ]
    },
    {
      "cell_type": "markdown",
      "metadata": {},
      "source": [
        "## Train & Evaluate"
      ]
    },
    {
      "cell_type": "code",
      "execution_count": 20,
      "metadata": {},
      "outputs": [
        {
          "name": "stdout",
          "output_type": "stream",
          "text": [
            "{'MAE': 11.567, 'RMSE': 13.983, 'R2': 0.002}\n"
          ]
        }
      ],
      "source": [
        "\n",
        "model = Pipeline([('preprocess', preprocess), ('regressor', LinearRegression())])\n",
        "model.fit(X_train, y_train)\n",
        "y_pred = model.predict(X_test)\n",
        "\n",
        "from math import sqrt\n",
        "mae = mean_absolute_error(y_test, y_pred)\n",
        "mse = mean_squared_error(y_test, y_pred)\n",
        "rmse = sqrt(mse)\n",
        "r2 = r2_score(y_test, y_pred)\n",
        "\n",
        "print({'MAE': round(mae,3), 'RMSE': round(rmse,3), 'R2': round(r2,3)})\n"
      ]
    },
    {
      "cell_type": "markdown",
      "metadata": {},
      "source": [
        "## Plots — Predicted vs Actual & Residuals"
      ]
    },
    {
      "cell_type": "code",
      "execution_count": 21,
      "metadata": {},
      "outputs": [
        {
          "data": {
            "image/png": "[encoded data removed]",
            "text/plain": [
              "<Figure size 600x600 with 1 Axes>"
            ]
          },
          "metadata": {},
          "output_type": "display_data"
        },
        {
          "data": {
            "image/png": "[encoded data removed]",
            "text/plain": [
              "<Figure size 600x400 with 1 Axes>"
            ]
          },
          "metadata": {},
          "output_type": "display_data"
        }
      ],
      "source": [
        "\n",
        "plt.figure(figsize=(6,6))\n",
        "plt.scatter(y_test, y_pred, alpha=0.7)\n",
        "mn, mx = np.nanmin([y_test.min(), y_pred.min()]), np.nanmax([y_test.max(), y_pred.max()])\n",
        "plt.plot([mn, mx], [mn, mx])\n",
        "plt.xlabel('Actual Age'); plt.ylabel('Predicted Age'); plt.title('Predicted vs Actual Age'); plt.show()\n",
        "\n",
        "residuals = y_test - y_pred\n",
        "plt.figure(figsize=(6,4))\n",
        "plt.hist(residuals, bins=30)\n",
        "plt.xlabel('Residual (Actual - Predicted)'); plt.ylabel('Count'); plt.title('Residuals Distribution'); plt.show()\n"
      ]
    },
    {
      "cell_type": "markdown",
      "metadata": {},
      "source": [
        "## Coefficients"
      ]
    },
    {
      "cell_type": "code",
      "execution_count": 22,
      "metadata": {},
      "outputs": [
        {
          "data": {
            "text/html": [
              "<div>\n",
              "<style scoped>\n",
              "    .dataframe tbody tr th:only-of-type {\n",
              "        vertical-align: middle;\n",
              "    }\n",
              "\n",
              "    .dataframe tbody tr th {\n",
              "        vertical-align: top;\n",
              "    }\n",
              "\n",
              "    .dataframe thead th {\n",
              "        text-align: right;\n",
              "    }\n",
              "</style>\n",
              "<table border=\"1\" class=\"dataframe\">\n",
              "  <thead>\n",
              "    <tr style=\"text-align: right;\">\n",
              "      <th></th>\n",
              "      <th>feature</th>\n",
              "      <th>coef</th>\n",
              "    </tr>\n",
              "  </thead>\n",
              "  <tbody>\n",
              "    <tr>\n",
              "      <th>6</th>\n",
              "      <td>Embarked_C</td>\n",
              "      <td>0.666404</td>\n",
              "    </tr>\n",
              "    <tr>\n",
              "      <th>5</th>\n",
              "      <td>Sex_male</td>\n",
              "      <td>0.453691</td>\n",
              "    </tr>\n",
              "    <tr>\n",
              "      <th>7</th>\n",
              "      <td>Embarked_Q</td>\n",
              "      <td>0.350458</td>\n",
              "    </tr>\n",
              "    <tr>\n",
              "      <th>9</th>\n",
              "      <td>Alone_0</td>\n",
              "      <td>0.200385</td>\n",
              "    </tr>\n",
              "    <tr>\n",
              "      <th>1</th>\n",
              "      <td>SibSp</td>\n",
              "      <td>0.052737</td>\n",
              "    </tr>\n",
              "    <tr>\n",
              "      <th>2</th>\n",
              "      <td>Parch</td>\n",
              "      <td>-0.106501</td>\n",
              "    </tr>\n",
              "    <tr>\n",
              "      <th>10</th>\n",
              "      <td>Alone_1</td>\n",
              "      <td>-0.200385</td>\n",
              "    </tr>\n",
              "    <tr>\n",
              "      <th>4</th>\n",
              "      <td>Sex_female</td>\n",
              "      <td>-0.453691</td>\n",
              "    </tr>\n",
              "    <tr>\n",
              "      <th>0</th>\n",
              "      <td>Pclass</td>\n",
              "      <td>-0.602676</td>\n",
              "    </tr>\n",
              "    <tr>\n",
              "      <th>8</th>\n",
              "      <td>Embarked_S</td>\n",
              "      <td>-1.016862</td>\n",
              "    </tr>\n",
              "    <tr>\n",
              "      <th>3</th>\n",
              "      <td>Fare</td>\n",
              "      <td>-1.452299</td>\n",
              "    </tr>\n",
              "  </tbody>\n",
              "</table>\n",
              "</div>"
            ],
            "text/plain": [
              "       feature      coef\n",
              "6   Embarked_C  0.666404\n",
              "5     Sex_male  0.453691\n",
              "7   Embarked_Q  0.350458\n",
              "9      Alone_0  0.200385\n",
              "1        SibSp  0.052737\n",
              "2        Parch -0.106501\n",
              "10     Alone_1 -0.200385\n",
              "4   Sex_female -0.453691\n",
              "0       Pclass -0.602676\n",
              "8   Embarked_S -1.016862\n",
              "3         Fare -1.452299"
            ]
          },
          "execution_count": 22,
          "metadata": {},
          "output_type": "execute_result"
        }
      ],
      "source": [
        "\n",
        "ct = model.named_steps['preprocess']\n",
        "ohe = ct.named_transformers_['cat'].named_steps['onehot']\n",
        "num_names = num_features\n",
        "cat_names = list(ohe.get_feature_names_out(cat_features))\n",
        "all_feature_names = num_names + cat_names\n",
        "\n",
        "coefs = model.named_steps['regressor'].coef_\n",
        "coef_df = pd.DataFrame({'feature': all_feature_names, 'coef': coefs}).sort_values('coef', ascending=False)\n",
        "coef_df.head(12)\n"
      ]
    }
  ],
  "metadata": {
    "kernelspec": {
      "display_name": "Python 3",
      "language": "python",
      "name": "python3"
    },
    "language_info": {
      "codemirror_mode": {
        "name": "ipython",
        "version": 3
      },
      "file_extension": ".py",
      "mimetype": "text/x-python",
      "name": "python",
      "nbconvert_exporter": "python",
      "pygments_lexer": "ipython3",
      "version": "3.11.9"
    }
  },
  "nbformat": 4,
  "nbformat_minor": 5
}

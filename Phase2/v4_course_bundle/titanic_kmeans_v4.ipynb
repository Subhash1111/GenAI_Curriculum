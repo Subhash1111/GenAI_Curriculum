{
  "cells": [
    {
      "cell_type": "markdown",
      "metadata": {},
      "source": "# \ud83d\udd37 Titanic KMeans \u2014 v4 (Unsupervised Clustering)"
    },
    {
      "cell_type": "markdown",
      "metadata": {},
      "source": "\n> **v4 Enhancements**  \n> - Robust local CSV loader with fallback (`titanic.csv` or `train.csv`)  \n> - EDA-first template with clear \"What/Why\" notes  \n> - Version-agnostic metrics (manual RMSE), safe ROC plotting  \n> - Target NaN handling (drop before split)  \n> - \"What we infer\" summary cells at the end  \n> - Reproducible `random_state=42`  \n"
    },
    {
      "cell_type": "markdown",
      "metadata": {},
      "source": "**Why KMeans?** Uncovers latent groups without labels; useful for segmentation."
    },
    {
      "cell_type": "code",
      "metadata": {},
      "execution_count": null,
      "outputs": [],
      "source": "\nimport pandas as pd, numpy as np, matplotlib.pyplot as plt\nfrom utils import load_titanic, basic_eda\n\ndf = load_titanic()\nbasic_eda(df)\n"
    },
    {
      "cell_type": "code",
      "metadata": {},
      "execution_count": null,
      "outputs": [],
      "source": "\ncols = ['Pclass','Sex','Age','SibSp','Parch','Fare','Embarked']\ndata = df[cols].copy()\n\nnum_features = ['Pclass','Age','SibSp','Parch','Fare']\ncat_features = ['Sex','Embarked']\n\nfrom sklearn.compose import ColumnTransformer\nfrom sklearn.preprocessing import OneHotEncoder, StandardScaler\nfrom sklearn.pipeline import Pipeline\nfrom sklearn.impute import SimpleImputer\nfrom sklearn.cluster import KMeans\n\npreprocess = ColumnTransformer([\n    ('num', Pipeline([('imputer', SimpleImputer(strategy='median')), ('scaler', StandardScaler())]), num_features),\n    ('cat', Pipeline([('imputer', SimpleImputer(strategy='most_frequent')), ('onehot', OneHotEncoder(handle_unknown='ignore'))]), cat_features)\n])\n\npipe = Pipeline([('preprocess', preprocess), ('kmeans', KMeans(n_clusters=3, n_init=10, random_state=42))])\nclusters = pipe.fit_predict(data)\nimport pandas as pd\npd.Series(clusters).value_counts().sort_index()\n"
    },
    {
      "cell_type": "markdown",
      "metadata": {},
      "source": "**What we infer:** Cluster sizes and profiles (inspect feature means per cluster) reveal segments (e.g., by class/age/fare)."
    }
  ],
  "metadata": {
    "kernelspec": {
      "display_name": "Python 3",
      "language": "python",
      "name": "python3"
    },
    "language_info": {
      "name": "python",
      "version": "3.11"
    }
  },
  "nbformat": 4,
  "nbformat_minor": 5
}
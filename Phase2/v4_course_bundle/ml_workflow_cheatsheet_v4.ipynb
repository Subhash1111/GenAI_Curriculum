{
  "cells": [
    {
      "cell_type": "markdown",
      "metadata": {},
      "source": "# \ud83d\udcd8 ML Workflow Roadmap \u2014 v4"
    },
    {
      "cell_type": "markdown",
      "metadata": {},
      "source": "\n> **v4 Enhancements**  \n> - Robust local CSV loader with fallback (`titanic.csv` or `train.csv`)  \n> - EDA-first template with clear \"What/Why\" notes  \n> - Version-agnostic metrics (manual RMSE), safe ROC plotting  \n> - Target NaN handling (drop before split)  \n> - \"What we infer\" summary cells at the end  \n> - Reproducible `random_state=42`  \n"
    },
    {
      "cell_type": "markdown",
      "metadata": {},
      "source": "\n## End-to-End Steps (What / Why / When to Skip)\n\n1. **Problem Definition** \u2014 Always.\n2. **EDA** \u2014 Always (at least basic).\n3. **Cleaning** \u2014 Almost always (validate even if clean).\n4. **Feature Engineering** \u2014 Often; skip scaling for tree models.\n5. **Split** \u2014 Always (train/test or CV).\n6. **Model Selection** \u2014 Usually (baseline + advanced).\n7. **Training & Tuning** \u2014 Tuning optional for teaching.\n8. **Evaluation** \u2014 Always (choose task-appropriate metrics).\n9. **Interpretation** \u2014 Encourage for trust/explainability.\n10. **Deployment/Reporting** \u2014 Optional in class; essential in prod.\n"
    },
    {
      "cell_type": "markdown",
      "metadata": {},
      "source": "\n```mermaid\nflowchart TD\n    A[Problem Definition] --> B[EDA]\n    B --> C[Data Cleaning]\n    C --> D[Feature Engineering]\n    D --> E[Train/Test Split]\n    E --> F[Model Selection]\n    F --> G[Model Training]\n    G --> H[Model Evaluation]\n    H --> I[Interpretation]\n    I --> J[Deployment / Reporting]\n\n    B:::always\n    E:::always\n    H:::always\n\n    classDef always fill:#fdd,stroke:#333,stroke-width:1px;\n```\n"
    }
  ],
  "metadata": {
    "kernelspec": {
      "display_name": "Python 3",
      "language": "python",
      "name": "python3"
    },
    "language_info": {
      "name": "python",
      "version": "3.11"
    }
  },
  "nbformat": 4,
  "nbformat_minor": 5
}
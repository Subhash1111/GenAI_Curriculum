{
  "cells": [
    {
      "cell_type": "markdown",
      "metadata": {},
      "source": "# \ud83e\udde9 Titanic PCA \u2014 v4 (Dimensionality Reduction)"
    },
    {
      "cell_type": "markdown",
      "metadata": {},
      "source": "\n> **v4 Enhancements**  \n> - Robust local CSV loader with fallback (`titanic.csv` or `train.csv`)  \n> - EDA-first template with clear \"What/Why\" notes  \n> - Version-agnostic metrics (manual RMSE), safe ROC plotting  \n> - Target NaN handling (drop before split)  \n> - \"What we infer\" summary cells at the end  \n> - Reproducible `random_state=42`  \n"
    },
    {
      "cell_type": "markdown",
      "metadata": {},
      "source": "**Why PCA?** Project to 2D for visualization and check explained variance."
    },
    {
      "cell_type": "code",
      "metadata": {},
      "execution_count": null,
      "outputs": [],
      "source": "\nimport pandas as pd, numpy as np, matplotlib.pyplot as plt\nfrom utils import load_titanic, basic_eda\n\ndf = load_titanic()\nbasic_eda(df)\n"
    },
    {
      "cell_type": "code",
      "metadata": {},
      "execution_count": null,
      "outputs": [],
      "source": "\ncols = ['Pclass','Sex','Age','SibSp','Parch','Fare','Embarked']\ndata = df[cols].copy()\n\nnum_features = ['Pclass','Age','SibSp','Parch','Fare']\ncat_features = ['Sex','Embarked']\n\nfrom sklearn.compose import ColumnTransformer\nfrom sklearn.preprocessing import OneHotEncoder, StandardScaler\nfrom sklearn.pipeline import Pipeline\nfrom sklearn.impute import SimpleImputer\nfrom sklearn.decomposition import PCA\n\npreprocess = ColumnTransformer([\n    ('num', Pipeline([('imputer', SimpleImputer(strategy='median')), ('scaler', StandardScaler())]), num_features),\n    ('cat', Pipeline([('imputer', SimpleImputer(strategy='most_frequent')), ('onehot', OneHotEncoder(handle_unknown='ignore'))]), cat_features)\n])\n\npipe = Pipeline([('preprocess', preprocess), ('pca', PCA(n_components=2, random_state=42))])\nZ = pipe.fit_transform(data)\n\nplt.figure(figsize=(6,5))\nplt.scatter(Z[:,0], Z[:,1], alpha=0.6)\nplt.xlabel('PC1'); plt.ylabel('PC2'); plt.title('PCA 2D Projection'); plt.show()\n\nexplained = pipe.named_steps['pca'].explained_variance_ratio_\nexplained, explained.sum()\n"
    },
    {
      "cell_type": "markdown",
      "metadata": {},
      "source": "**What we infer:** How much variance PC1/PC2 capture; whether 2D view separates groups (optionally color by Survived if labels are available)."
    }
  ],
  "metadata": {
    "kernelspec": {
      "display_name": "Python 3",
      "language": "python",
      "name": "python3"
    },
    "language_info": {
      "name": "python",
      "version": "3.11"
    }
  },
  "nbformat": 4,
  "nbformat_minor": 5
}
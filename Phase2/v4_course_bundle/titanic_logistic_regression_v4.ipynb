{
  "cells": [
    {
      "cell_type": "markdown",
      "metadata": {},
      "source": [
        "# 📘 Titanic Logistic Regression — v4 (CSV, EDA-first)\n",
        "\n",
        "> **v4 Enhancements**  \n",
        "> - Robust local CSV loader with fallback (`titanic.csv` or `train.csv`)  \n",
        "> - EDA-first template with clear \"What/Why\" notes  \n",
        "> - Version-agnostic metrics (manual RMSE), safe ROC plotting  \n",
        "> - Target NaN handling (drop before split)  \n",
        "> - \"What we infer\" summary cells at the end  \n",
        "> - Reproducible `random_state=42`  \n"
      ]
    },
    {
      "cell_type": "markdown",
      "metadata": {},
      "source": [
        "## 0) Goal & Why\n",
        "- **Task:** Predict `Survived` (0/1) → binary classification\n",
        "- **Why:** Classic example to teach metrics beyond accuracy"
      ]
    },
    {
      "cell_type": "markdown",
      "metadata": {},
      "source": [
        "## 1) Load Data (Local CSV)"
      ]
    },
    {
      "cell_type": "code",
      "execution_count": 1,
      "metadata": {},
      "outputs": [
        {
          "data": {
            "text/html": [
              "<div>\n",
              "<style scoped>\n",
              "    .dataframe tbody tr th:only-of-type {\n",
              "        vertical-align: middle;\n",
              "    }\n",
              "\n",
              "    .dataframe tbody tr th {\n",
              "        vertical-align: top;\n",
              "    }\n",
              "\n",
              "    .dataframe thead th {\n",
              "        text-align: right;\n",
              "    }\n",
              "</style>\n",
              "<table border=\"1\" class=\"dataframe\">\n",
              "  <thead>\n",
              "    <tr style=\"text-align: right;\">\n",
              "      <th></th>\n",
              "      <th>PassengerId</th>\n",
              "      <th>Survived</th>\n",
              "      <th>Pclass</th>\n",
              "      <th>Name</th>\n",
              "      <th>Sex</th>\n",
              "      <th>Age</th>\n",
              "      <th>SibSp</th>\n",
              "      <th>Parch</th>\n",
              "      <th>Ticket</th>\n",
              "      <th>Fare</th>\n",
              "      <th>Cabin</th>\n",
              "      <th>Embarked</th>\n",
              "    </tr>\n",
              "  </thead>\n",
              "  <tbody>\n",
              "    <tr>\n",
              "      <th>0</th>\n",
              "      <td>1</td>\n",
              "      <td>0</td>\n",
              "      <td>2</td>\n",
              "      <td>Wilson, Mrs. Ella</td>\n",
              "      <td>female</td>\n",
              "      <td>60.202315</td>\n",
              "      <td>0</td>\n",
              "      <td>0</td>\n",
              "      <td>XIB 650336</td>\n",
              "      <td>20.2405</td>\n",
              "      <td>NaN</td>\n",
              "      <td>S</td>\n",
              "    </tr>\n",
              "    <tr>\n",
              "      <th>1</th>\n",
              "      <td>2</td>\n",
              "      <td>0</td>\n",
              "      <td>3</td>\n",
              "      <td>Thompson, Mrs. Nellie</td>\n",
              "      <td>female</td>\n",
              "      <td>21.519991</td>\n",
              "      <td>0</td>\n",
              "      <td>3</td>\n",
              "      <td>19 51980</td>\n",
              "      <td>10.7555</td>\n",
              "      <td>NaN</td>\n",
              "      <td>S</td>\n",
              "    </tr>\n",
              "    <tr>\n",
              "      <th>2</th>\n",
              "      <td>3</td>\n",
              "      <td>0</td>\n",
              "      <td>3</td>\n",
              "      <td>Thomas, Mr. James</td>\n",
              "      <td>male</td>\n",
              "      <td>40.389335</td>\n",
              "      <td>0</td>\n",
              "      <td>0</td>\n",
              "      <td>M03 590283</td>\n",
              "      <td>12.6781</td>\n",
              "      <td>NaN</td>\n",
              "      <td>S</td>\n",
              "    </tr>\n",
              "    <tr>\n",
              "      <th>3</th>\n",
              "      <td>4</td>\n",
              "      <td>0</td>\n",
              "      <td>3</td>\n",
              "      <td>Wilson, Miss. Annie</td>\n",
              "      <td>female</td>\n",
              "      <td>34.190096</td>\n",
              "      <td>0</td>\n",
              "      <td>0</td>\n",
              "      <td>E1 51565</td>\n",
              "      <td>18.9832</td>\n",
              "      <td>NaN</td>\n",
              "      <td>S</td>\n",
              "    </tr>\n",
              "    <tr>\n",
              "      <th>4</th>\n",
              "      <td>5</td>\n",
              "      <td>0</td>\n",
              "      <td>1</td>\n",
              "      <td>Martin, Mr. Louis</td>\n",
              "      <td>male</td>\n",
              "      <td>48.224378</td>\n",
              "      <td>2</td>\n",
              "      <td>0</td>\n",
              "      <td>58J 335</td>\n",
              "      <td>72.4514</td>\n",
              "      <td>F38</td>\n",
              "      <td>S</td>\n",
              "    </tr>\n",
              "  </tbody>\n",
              "</table>\n",
              "</div>"
            ],
            "text/plain": [
              "   PassengerId  Survived  Pclass                   Name     Sex        Age  \\\n",
              "0            1         0       2      Wilson, Mrs. Ella  female  60.202315   \n",
              "1            2         0       3  Thompson, Mrs. Nellie  female  21.519991   \n",
              "2            3         0       3      Thomas, Mr. James    male  40.389335   \n",
              "3            4         0       3    Wilson, Miss. Annie  female  34.190096   \n",
              "4            5         0       1      Martin, Mr. Louis    male  48.224378   \n",
              "\n",
              "   SibSp  Parch      Ticket     Fare Cabin Embarked  \n",
              "0      0      0  XIB 650336  20.2405   NaN        S  \n",
              "1      0      3    19 51980  10.7555   NaN        S  \n",
              "2      0      0  M03 590283  12.6781   NaN        S  \n",
              "3      0      0    E1 51565  18.9832   NaN        S  \n",
              "4      2      0     58J 335  72.4514   F38        S  "
            ]
          },
          "execution_count": 1,
          "metadata": {},
          "output_type": "execute_result"
        }
      ],
      "source": [
        "\n",
        "import pandas as pd, numpy as np\n",
        "from utils import load_titanic, basic_eda, plot_hist, bar_from_group, print_section\n",
        "\n",
        "df = load_titanic()\n",
        "df.head()\n"
      ]
    },
    {
      "cell_type": "markdown",
      "metadata": {},
      "source": [
        "## 2) EDA — Structure, Missingness, Class Balance + Key Rates"
      ]
    },
    {
      "cell_type": "code",
      "execution_count": 2,
      "metadata": {},
      "outputs": [
        {
          "name": "stdout",
          "output_type": "stream",
          "text": [
            "\n",
            "====\n",
            "INFO\n",
            "====\n",
            "<class 'pandas.core.frame.DataFrame'>\n",
            "RangeIndex: 891 entries, 0 to 890\n",
            "Data columns (total 12 columns):\n",
            " #   Column       Non-Null Count  Dtype  \n",
            "---  ------       --------------  -----  \n",
            " 0   PassengerId  891 non-null    int64  \n",
            " 1   Survived     891 non-null    int64  \n",
            " 2   Pclass       891 non-null    int64  \n",
            " 3   Name         891 non-null    object \n",
            " 4   Sex          891 non-null    object \n",
            " 5   Age          718 non-null    float64\n",
            " 6   SibSp        891 non-null    int64  \n",
            " 7   Parch        891 non-null    int64  \n",
            " 8   Ticket       891 non-null    object \n",
            " 9   Fare         891 non-null    float64\n",
            " 10  Cabin        178 non-null    object \n",
            " 11  Embarked     880 non-null    object \n",
            "dtypes: float64(2), int64(5), object(5)\n",
            "memory usage: 83.7+ KB\n",
            "None\n",
            "\n",
            "==============\n",
            "MISSING VALUES\n",
            "==============\n",
            "Cabin          713\n",
            "Age            173\n",
            "Embarked        11\n",
            "PassengerId      0\n",
            "Survived         0\n",
            "Pclass           0\n",
            "Name             0\n",
            "Sex              0\n",
            "SibSp            0\n",
            "Parch            0\n",
            "Ticket           0\n",
            "Fare             0\n",
            "dtype: int64\n",
            "\n",
            "========\n",
            "DESCRIBE\n",
            "========\n",
            "             count unique                  top freq       mean         std  \\\n",
            "PassengerId  891.0    NaN                  NaN  NaN      446.0  257.353842   \n",
            "Survived     891.0    NaN                  NaN  NaN   0.246914    0.431458   \n",
            "Pclass       891.0    NaN                  NaN  NaN   2.292929    0.849683   \n",
            "Name           891    580  Garcia, Mr. Charles    6        NaN         NaN   \n",
            "Sex            891      2                 male  565        NaN         NaN   \n",
            "Age          718.0    NaN                  NaN  NaN  30.130276   13.651298   \n",
            "SibSp        891.0    NaN                  NaN  NaN   0.447811    0.939952   \n",
            "Parch        891.0    NaN                  NaN  NaN   0.434343    0.952176   \n",
            "Ticket         891    891           XIB 650336    1        NaN         NaN   \n",
            "Fare         891.0    NaN                  NaN  NaN   34.77663   36.444109   \n",
            "Cabin          178    168                  F38    2        NaN         NaN   \n",
            "Embarked       880      3                    S  653        NaN         NaN   \n",
            "\n",
            "                min        25%        50%        75%        max  \n",
            "PassengerId     1.0      223.5      446.0      668.5      891.0  \n",
            "Survived        0.0        0.0        0.0        0.0        1.0  \n",
            "Pclass          1.0        1.0        3.0        3.0        3.0  \n",
            "Name            NaN        NaN        NaN        NaN        NaN  \n",
            "Sex             NaN        NaN        NaN        NaN        NaN  \n",
            "Age            0.42  20.964952  29.690353  39.408706  73.928479  \n",
            "SibSp           0.0        0.0        0.0        1.0        8.0  \n",
            "Parch           0.0        0.0        0.0        0.0        6.0  \n",
            "Ticket          NaN        NaN        NaN        NaN        NaN  \n",
            "Fare         4.1317   12.04065    16.7767   44.79255   214.0078  \n",
            "Cabin           NaN        NaN        NaN        NaN        NaN  \n",
            "Embarked        NaN        NaN        NaN        NaN        NaN  \n"
          ]
        }
      ],
      "source": [
        "\n",
        "basic_eda(df)\n"
      ]
    },
    {
      "cell_type": "code",
      "execution_count": 3,
      "metadata": {},
      "outputs": [
        {
          "data": {
            "text/plain": [
              "Survived\n",
              "0    0.753086\n",
              "1    0.246914\n",
              "Name: proportion, dtype: float64"
            ]
          },
          "execution_count": 3,
          "metadata": {},
          "output_type": "execute_result"
        }
      ],
      "source": [
        "\n",
        "# Class balance\n",
        "prop = df['Survived'].value_counts(normalize=True).rename('proportion')\n",
        "prop\n"
      ]
    },
    {
      "cell_type": "code",
      "execution_count": 4,
      "metadata": {},
      "outputs": [
        {
          "data": {
            "image/png": "[encoded data removed]",
            "text/plain": [
              "<Figure size 600x400 with 1 Axes>"
            ]
          },
          "metadata": {},
          "output_type": "display_data"
        },
        {
          "data": {
            "image/png": "[encoded data removed]",
            "text/plain": [
              "<Figure size 600x400 with 1 Axes>"
            ]
          },
          "metadata": {},
          "output_type": "display_data"
        }
      ],
      "source": [
        "\n",
        "# Survival rate by Sex and Pclass\n",
        "sex_rate = df.groupby('Sex')['Survived'].mean().sort_values(ascending=False)\n",
        "pclass_rate = df.groupby('Pclass')['Survived'].mean()\n",
        "bar_from_group(sex_rate, title=\"Survival Rate by Sex\", ylabel=\"Rate\", ylim01=True)\n",
        "bar_from_group(pclass_rate, title=\"Survival Rate by Pclass\", ylabel=\"Rate\", ylim01=True)\n"
      ]
    },
    {
      "cell_type": "markdown",
      "metadata": {},
      "source": [
        "## 3) Target & Features (safety: drop NaN target if present)"
      ]
    },
    {
      "cell_type": "code",
      "execution_count": 5,
      "metadata": {},
      "outputs": [],
      "source": [
        "\n",
        "cols = ['Survived','Pclass','Sex','Age','SibSp','Parch','Fare','Embarked']\n",
        "data = df[cols].copy()\n",
        "data['Alone'] = ((data['SibSp'].fillna(0) + data['Parch'].fillna(0)) == 0).astype(int)\n",
        "\n",
        "data = data.dropna(subset=['Survived']).reset_index(drop=True)\n",
        "\n",
        "y = data['Survived']\n",
        "X = data.drop(columns=['Survived'])\n",
        "\n",
        "num_features = ['Pclass','Age','SibSp','Parch','Fare']\n",
        "cat_features = ['Sex','Embarked','Alone']\n"
      ]
    },
    {
      "cell_type": "markdown",
      "metadata": {},
      "source": [
        "## 4) Preprocessing + Split — What & Why"
      ]
    },
    {
      "cell_type": "code",
      "execution_count": 6,
      "metadata": {},
      "outputs": [],
      "source": [
        "\n",
        "from sklearn.model_selection import train_test_split\n",
        "from sklearn.compose import ColumnTransformer\n",
        "from sklearn.preprocessing import OneHotEncoder, StandardScaler\n",
        "from sklearn.pipeline import Pipeline\n",
        "from sklearn.impute import SimpleImputer\n",
        "\n",
        "from sklearn.linear_model import LogisticRegression\n",
        "from sklearn.metrics import accuracy_score, precision_score, recall_score, f1_score, roc_auc_score\n",
        "\n",
        "numeric_transformer = Pipeline([('imputer', SimpleImputer(strategy='median')), ('scaler', StandardScaler())])\n",
        "categorical_transformer = Pipeline([('imputer', SimpleImputer(strategy='most_frequent')), ('onehot', OneHotEncoder(handle_unknown='ignore'))])\n",
        "preprocess = ColumnTransformer([('num', numeric_transformer, num_features), ('cat', categorical_transformer, cat_features)])\n",
        "\n",
        "X_train, X_test, y_train, y_test = train_test_split(X, y, test_size=0.2, random_state=42, stratify=y)\n"
      ]
    },
    {
      "cell_type": "markdown",
      "metadata": {},
      "source": [
        "## 5) Train & Evaluate — Metrics to report"
      ]
    },
    {
      "cell_type": "code",
      "execution_count": 7,
      "metadata": {},
      "outputs": [
        {
          "data": {
            "text/plain": [
              "{'accuracy': 0.754,\n",
              " 'precision': 0.5,\n",
              " 'recall': 0.205,\n",
              " 'f1': 0.29,\n",
              " 'roc_auc': 0.682}"
            ]
          },
          "execution_count": 7,
          "metadata": {},
          "output_type": "execute_result"
        }
      ],
      "source": [
        "\n",
        "model = Pipeline([('preprocess', preprocess), ('clf', LogisticRegression(max_iter=1000))])\n",
        "model.fit(X_train, y_train)\n",
        "y_pred = model.predict(X_test)\n",
        "y_proba = model.predict_proba(X_test)[:, 1]\n",
        "\n",
        "metrics = {\n",
        "    'accuracy': round(accuracy_score(y_test, y_pred),3),\n",
        "    'precision': round(precision_score(y_test, y_pred),3),\n",
        "    'recall': round(recall_score(y_test, y_pred),3),\n",
        "    'f1': round(f1_score(y_test, y_pred),3),\n",
        "    'roc_auc': round(roc_auc_score(y_test, y_proba),3)\n",
        "}\n",
        "metrics\n"
      ]
    },
    {
      "cell_type": "markdown",
      "metadata": {},
      "source": [
        "## 6) Diagnostics — Confusion Matrix & ROC Curve"
      ]
    },
    {
      "cell_type": "code",
      "execution_count": 8,
      "metadata": {},
      "outputs": [
        {
          "data": {
            "text/html": [
              "<div>\n",
              "<style scoped>\n",
              "    .dataframe tbody tr th:only-of-type {\n",
              "        vertical-align: middle;\n",
              "    }\n",
              "\n",
              "    .dataframe tbody tr th {\n",
              "        vertical-align: top;\n",
              "    }\n",
              "\n",
              "    .dataframe thead th {\n",
              "        text-align: right;\n",
              "    }\n",
              "</style>\n",
              "<table border=\"1\" class=\"dataframe\">\n",
              "  <thead>\n",
              "    <tr style=\"text-align: right;\">\n",
              "      <th></th>\n",
              "      <th>Pred 0</th>\n",
              "      <th>Pred 1</th>\n",
              "    </tr>\n",
              "  </thead>\n",
              "  <tbody>\n",
              "    <tr>\n",
              "      <th>Actual 0</th>\n",
              "      <td>126</td>\n",
              "      <td>9</td>\n",
              "    </tr>\n",
              "    <tr>\n",
              "      <th>Actual 1</th>\n",
              "      <td>35</td>\n",
              "      <td>9</td>\n",
              "    </tr>\n",
              "  </tbody>\n",
              "</table>\n",
              "</div>"
            ],
            "text/plain": [
              "          Pred 0  Pred 1\n",
              "Actual 0     126       9\n",
              "Actual 1      35       9"
            ]
          },
          "execution_count": 8,
          "metadata": {},
          "output_type": "execute_result"
        }
      ],
      "source": [
        "\n",
        "from utils import confusion_df\n",
        "confusion_df(y_test, y_pred)\n"
      ]
    },
    {
      "cell_type": "code",
      "execution_count": 9,
      "metadata": {},
      "outputs": [
        {
          "data": {
            "image/png": "[encoded data removed]",
            "text/plain": [
              "<Figure size 640x480 with 1 Axes>"
            ]
          },
          "metadata": {},
          "output_type": "display_data"
        }
      ],
      "source": [
        "\n",
        "import matplotlib.pyplot as plt\n",
        "try:\n",
        "    from sklearn.metrics import RocCurveDisplay\n",
        "    RocCurveDisplay.from_estimator(model, X_test, y_test)\n",
        "    plt.title('ROC Curve'); plt.show()\n",
        "except Exception as e:\n",
        "    print(\"ROC curve not available in this sklearn version:\", e)\n"
      ]
    },
    {
      "cell_type": "markdown",
      "metadata": {},
      "source": [
        "## 7) Interpretation — Coefficients & Odds Ratios"
      ]
    },
    {
      "cell_type": "code",
      "execution_count": 10,
      "metadata": {},
      "outputs": [
        {
          "data": {
            "text/html": [
              "<div>\n",
              "<style scoped>\n",
              "    .dataframe tbody tr th:only-of-type {\n",
              "        vertical-align: middle;\n",
              "    }\n",
              "\n",
              "    .dataframe tbody tr th {\n",
              "        vertical-align: top;\n",
              "    }\n",
              "\n",
              "    .dataframe thead th {\n",
              "        text-align: right;\n",
              "    }\n",
              "</style>\n",
              "<table border=\"1\" class=\"dataframe\">\n",
              "  <thead>\n",
              "    <tr style=\"text-align: right;\">\n",
              "      <th></th>\n",
              "      <th>feature</th>\n",
              "      <th>coef</th>\n",
              "      <th>odds_ratio</th>\n",
              "    </tr>\n",
              "  </thead>\n",
              "  <tbody>\n",
              "    <tr>\n",
              "      <th>5</th>\n",
              "      <td>Sex_female</td>\n",
              "      <td>0.662794</td>\n",
              "      <td>1.940206</td>\n",
              "    </tr>\n",
              "    <tr>\n",
              "      <th>11</th>\n",
              "      <td>Alone_1</td>\n",
              "      <td>0.271758</td>\n",
              "      <td>1.312270</td>\n",
              "    </tr>\n",
              "    <tr>\n",
              "      <th>9</th>\n",
              "      <td>Embarked_S</td>\n",
              "      <td>0.229940</td>\n",
              "      <td>1.258525</td>\n",
              "    </tr>\n",
              "    <tr>\n",
              "      <th>4</th>\n",
              "      <td>Fare</td>\n",
              "      <td>0.136702</td>\n",
              "      <td>1.146486</td>\n",
              "    </tr>\n",
              "    <tr>\n",
              "      <th>3</th>\n",
              "      <td>Parch</td>\n",
              "      <td>-0.008935</td>\n",
              "      <td>0.991104</td>\n",
              "    </tr>\n",
              "    <tr>\n",
              "      <th>2</th>\n",
              "      <td>SibSp</td>\n",
              "      <td>-0.040388</td>\n",
              "      <td>0.960416</td>\n",
              "    </tr>\n",
              "    <tr>\n",
              "      <th>7</th>\n",
              "      <td>Embarked_C</td>\n",
              "      <td>-0.048222</td>\n",
              "      <td>0.952922</td>\n",
              "    </tr>\n",
              "    <tr>\n",
              "      <th>1</th>\n",
              "      <td>Age</td>\n",
              "      <td>-0.164287</td>\n",
              "      <td>0.848499</td>\n",
              "    </tr>\n",
              "    <tr>\n",
              "      <th>8</th>\n",
              "      <td>Embarked_Q</td>\n",
              "      <td>-0.182882</td>\n",
              "      <td>0.832866</td>\n",
              "    </tr>\n",
              "    <tr>\n",
              "      <th>10</th>\n",
              "      <td>Alone_0</td>\n",
              "      <td>-0.272923</td>\n",
              "      <td>0.761151</td>\n",
              "    </tr>\n",
              "    <tr>\n",
              "      <th>6</th>\n",
              "      <td>Sex_male</td>\n",
              "      <td>-0.663959</td>\n",
              "      <td>0.514809</td>\n",
              "    </tr>\n",
              "    <tr>\n",
              "      <th>0</th>\n",
              "      <td>Pclass</td>\n",
              "      <td>-0.683458</td>\n",
              "      <td>0.504868</td>\n",
              "    </tr>\n",
              "  </tbody>\n",
              "</table>\n",
              "</div>"
            ],
            "text/plain": [
              "       feature      coef  odds_ratio\n",
              "5   Sex_female  0.662794    1.940206\n",
              "11     Alone_1  0.271758    1.312270\n",
              "9   Embarked_S  0.229940    1.258525\n",
              "4         Fare  0.136702    1.146486\n",
              "3        Parch -0.008935    0.991104\n",
              "2        SibSp -0.040388    0.960416\n",
              "7   Embarked_C -0.048222    0.952922\n",
              "1          Age -0.164287    0.848499\n",
              "8   Embarked_Q -0.182882    0.832866\n",
              "10     Alone_0 -0.272923    0.761151\n",
              "6     Sex_male -0.663959    0.514809\n",
              "0       Pclass -0.683458    0.504868"
            ]
          },
          "execution_count": 10,
          "metadata": {},
          "output_type": "execute_result"
        }
      ],
      "source": [
        "\n",
        "ct = model.named_steps['preprocess']\n",
        "ohe = ct.named_transformers_['cat'].named_steps['onehot']\n",
        "num_names = num_features\n",
        "cat_names = list(ohe.get_feature_names_out(cat_features))\n",
        "all_feature_names = num_names + cat_names\n",
        "\n",
        "coef = model.named_steps['clf'].coef_[0]\n",
        "import pandas as pd, numpy as np\n",
        "coef_df = pd.DataFrame({'feature': all_feature_names, 'coef': coef})\n",
        "coef_df['odds_ratio'] = np.exp(coef_df['coef'])\n",
        "coef_df.sort_values('odds_ratio', ascending=False).head(12)\n"
      ]
    },
    {
      "cell_type": "markdown",
      "metadata": {},
      "source": [
        "## ✅ What we infer\n",
        "- We check **accuracy + precision/recall/F1** (especially if class imbalance exists) and **ROC‑AUC**.\n",
        "- Confusion matrix shows failure modes.\n",
        "- Coefficients/odds help communicate drivers of survival."
      ]
    }
  ],
  "metadata": {
    "kernelspec": {
      "display_name": "Python 3",
      "language": "python",
      "name": "python3"
    },
    "language_info": {
      "codemirror_mode": {
        "name": "ipython",
        "version": 3
      },
      "file_extension": ".py",
      "mimetype": "text/x-python",
      "name": "python",
      "nbconvert_exporter": "python",
      "pygments_lexer": "ipython3",
      "version": "3.11.9"
    }
  },
  "nbformat": 4,
  "nbformat_minor": 5
}

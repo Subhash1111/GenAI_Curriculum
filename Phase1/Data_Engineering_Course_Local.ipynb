{
 "cells": [
  {
   "cell_type": "markdown",
   "id": "95d80198",
   "metadata": {},
   "source": [
    "# Foundations of Data Engineering with SQL\n",
    "\n",
    "\n",
    "Welcome! This hands-on course spans **5 sessions** and a **capstone project**.  \n",
    "You'll use **SQLite** (built into Python) for portable, zero-setup SQL practice.  \n",
    "All content here is original and provided for educational use.\n",
    "\n",
    "> If you're viewing this in Google Colab, you can run each cell with Shift+Enter.  \n",
    "> If you're local, use `jupyter notebook` or VS Code to open and run cells."
   ]
  },
  {
   "cell_type": "markdown",
   "id": "a93a9c86",
   "metadata": {},
   "source": [
    "## Environment Setup"
   ]
  },
  {
   "cell_type": "code",
   "execution_count": null,
   "id": "9510d7de",
   "metadata": {},
   "outputs": [],
   "source": [
    "# No external installs needed. We'll use Python's built-in sqlite3.\n",
    "import sqlite3, pandas as pd, numpy as np\n",
    "from pathlib import Path\n",
    "\n",
    "DB_PATH = Path('course.db')  # SQLite database file in the current working directory\n",
    "if DB_PATH.exists():\n",
    "    DB_PATH.unlink()  # start fresh on re-run for deterministic exercises\n",
    "\n",
    "conn = sqlite3.connect(DB_PATH)\n",
    "conn.execute(\"PRAGMA foreign_keys = ON;\")\n",
    "print(\"SQLite database created at\", DB_PATH.resolve())"
   ]
  },
  {
   "cell_type": "markdown",
   "id": "00a747fd",
   "metadata": {},
   "source": [
    "### Helper: run_sql"
   ]
  },
  {
   "cell_type": "code",
   "execution_count": null,
   "id": "ed79c781",
   "metadata": {},
   "outputs": [],
   "source": [
    "def run_sql(q, params=None, limit=None):\n",
    "    \"\"\"Convenience: run a SQL string and display as a DataFrame.\"\"\"\n",
    "    params = params or {}\n",
    "    df = pd.read_sql_query(q, conn, params=params)\n",
    "    if limit is not None:\n",
    "        display(df.head(limit))\n",
    "    else:\n",
    "        display(df)\n",
    "    return df"
   ]
  },
  {
   "cell_type": "markdown",
   "id": "3fa7b734",
   "metadata": {},
   "source": [
    "## Session 1 — Data Engineering Overview + First SQL"
   ]
  },
  {
   "cell_type": "markdown",
   "id": "8171f476",
   "metadata": {},
   "source": [
    "**Objectives**\n",
    "- Understand the data engineering lifecycle (ingest → clean → transform → store → serve).\n",
    "- See where SQL is used in wrangling and transformation.\n",
    "- Run first queries against small, in-notebook tables.\n",
    "\n",
    "**Concepts**\n",
    "- Tables, rows, columns\n",
    "- SELECT, ORDER BY"
   ]
  },
  {
   "cell_type": "code",
   "execution_count": null,
   "id": "537732ab",
   "metadata": {},
   "outputs": [],
   "source": [
    "# Create two tiny starter tables\n",
    "conn.executescript('''\n",
    "CREATE TABLE customers (\n",
    "    customer_id INTEGER PRIMARY KEY,\n",
    "    name TEXT NOT NULL,\n",
    "    city TEXT,\n",
    "    country TEXT,\n",
    "    address TEXT\n",
    ");\n",
    "INSERT INTO customers (name, city, country, address) VALUES\n",
    "  ('Anders', 'Berlin', 'Germany', 'Alexanderplatz 1'),\n",
    "  ('Bella', 'Bern', 'Switzerland', 'Bahnhofstrasse 5'),\n",
    "  ('Chen', 'Boston', 'USA', '1 Main St'),\n",
    "  ('Dario', 'Dallas', 'USA', '2 Elm St'),\n",
    "  ('Elena', 'Berlin', 'Germany', NULL);\n",
    "\n",
    "CREATE TABLE products (\n",
    "    product_id INTEGER PRIMARY KEY,\n",
    "    product TEXT NOT NULL,\n",
    "    price REAL NOT NULL CHECK(price >= 0)\n",
    ");\n",
    "INSERT INTO products (product, price) VALUES\n",
    "  ('Keyboard', 39.99), ('Mouse', 24.50), ('Monitor', 199.00), ('USB-C Cable', 8.99);\n",
    "''')\n",
    "conn.commit()\n",
    "print(\"Seed tables created.\")"
   ]
  },
  {
   "cell_type": "code",
   "execution_count": null,
   "id": "4cb1dfb0",
   "metadata": {},
   "outputs": [],
   "source": [
    "# First queries\n",
    "run_sql(\"SELECT * FROM customers ORDER BY city, name;\")\n",
    "run_sql(\"SELECT name, price FROM products ORDER BY price DESC;\")"
   ]
  },
  {
   "cell_type": "markdown",
   "id": "f59b9d25",
   "metadata": {},
   "source": [
    "**Try it:** Change the `ORDER BY` column, or select a subset of columns."
   ]
  },
  {
   "cell_type": "markdown",
   "id": "91694d3d",
   "metadata": {},
   "source": [
    "## Session 2 — Modeling & Data Types"
   ]
  },
  {
   "cell_type": "markdown",
   "id": "964e5134",
   "metadata": {},
   "source": [
    "**Objectives**\n",
    "- Learn keys and relationships.\n",
    "- Create an OLTP-style mini schema (customers, orders, order_items, shippers).\n",
    "\n",
    "**Concepts**\n",
    "- PRIMARY KEY, FOREIGN KEY\n",
    "- Data types & constraints"
   ]
  },
  {
   "cell_type": "code",
   "execution_count": null,
   "id": "e341aaff",
   "metadata": {},
   "outputs": [],
   "source": [
    "conn.executescript('''\n",
    "CREATE TABLE shippers (\n",
    "    shipper_id INTEGER PRIMARY KEY,\n",
    "    name TEXT NOT NULL\n",
    ");\n",
    "\n",
    "CREATE TABLE orders (\n",
    "    order_id INTEGER PRIMARY KEY,\n",
    "    customer_id INTEGER NOT NULL,\n",
    "    order_date TEXT NOT NULL,\n",
    "    shipper_id INTEGER,\n",
    "    FOREIGN KEY(customer_id) REFERENCES customers(customer_id),\n",
    "    FOREIGN KEY(shipper_id) REFERENCES shippers(shipper_id)\n",
    ");\n",
    "\n",
    "CREATE TABLE order_items (\n",
    "    order_item_id INTEGER PRIMARY KEY,\n",
    "    order_id INTEGER NOT NULL,\n",
    "    product_id INTEGER NOT NULL,\n",
    "    quantity INTEGER NOT NULL CHECK (quantity > 0),\n",
    "    FOREIGN KEY(order_id) REFERENCES orders(order_id),\n",
    "    FOREIGN KEY(product_id) REFERENCES products(product_id)\n",
    ");\n",
    "\n",
    "INSERT INTO shippers (name) VALUES ('Postal Express'), ('GoFast'), ('Eagle Air');\n",
    "INSERT INTO orders (customer_id, order_date, shipper_id) VALUES\n",
    "  (1, '2024-10-01', 1), (1, '2024-10-05', 2), (3, '2024-11-01', 2), (4, '2024-11-03', 3);\n",
    "INSERT INTO order_items (order_id, product_id, quantity) VALUES\n",
    "  (1, 1, 2), (1, 4, 3),\n",
    "  (2, 3, 1),\n",
    "  (3, 2, 1), (3, 4, 2),\n",
    "  (4, 3, 2);\n",
    "''')\n",
    "conn.commit()\n",
    "print(\"Transactional schema created and populated.\")"
   ]
  },
  {
   "cell_type": "code",
   "execution_count": null,
   "id": "bd2cbb1e",
   "metadata": {},
   "outputs": [],
   "source": [
    "# Inspect schema via PRAGMA and sample joins\n",
    "run_sql(\"PRAGMA table_info('orders');\")\n",
    "run_sql('''SELECT o.order_id, c.name AS customer, o.order_date, s.name AS shipper\n",
    "          FROM orders o\n",
    "          LEFT JOIN customers c ON o.customer_id=c.customer_id\n",
    "          LEFT JOIN shippers s ON o.shipper_id=s.shipper_id\n",
    "          ORDER BY o.order_date;''')"
   ]
  },
  {
   "cell_type": "markdown",
   "id": "b4f2a2a3",
   "metadata": {},
   "source": [
    "## Session 3 — Profiling & Cleaning Data"
   ]
  },
  {
   "cell_type": "markdown",
   "id": "ae37fe4b",
   "metadata": {},
   "source": [
    "**Objectives**\n",
    "- Profile distributions and detect common quality issues.\n",
    "- Practice `COUNT`, `MIN`, `MAX`, `AVG`, NULL checks, LIKE patterns.\n",
    "\n",
    "**Real scenario**\n",
    "- Identify missing addresses, cities with low coverage, and price outliers."
   ]
  },
  {
   "cell_type": "code",
   "execution_count": null,
   "id": "4278597a",
   "metadata": {},
   "outputs": [],
   "source": [
    "# Profiling examples\n",
    "run_sql(\"SELECT COUNT(*) AS n_customers FROM customers;\")\n",
    "run_sql(\"SELECT MIN(price) AS min_price, MAX(price) AS max_price, AVG(price) AS avg_price FROM products;\")\n",
    "run_sql(\"SELECT * FROM customers WHERE address IS NULL;\")\n",
    "run_sql(\"SELECT * FROM customers WHERE city LIKE 'B%';\")"
   ]
  },
  {
   "cell_type": "code",
   "execution_count": null,
   "id": "a0c3ef6d",
   "metadata": {},
   "outputs": [],
   "source": [
    "# Simple outlier detection using z-score on product price (for teaching purposes)\n",
    "dfp = run_sql(\"SELECT product_id, product, price FROM products;\")\n",
    "mu, sigma = dfp[\"price\"].mean(), dfp[\"price\"].std(ddof=0)\n",
    "dfp[\"z\"] = (dfp[\"price\"] - mu) / (sigma if sigma else 1.0)\n",
    "display(dfp)\n",
    "print(\"Prices with |z| >= 2 considered potential outliers in this simple demo:\")\n",
    "display(dfp.loc[dfp[\"z\"].abs() >= 2])"
   ]
  },
  {
   "cell_type": "markdown",
   "id": "0de73dca",
   "metadata": {},
   "source": [
    "**Exercise:** Write a query to list cities and how many customers live in each; order by count desc."
   ]
  },
  {
   "cell_type": "markdown",
   "id": "fcfb5dad",
   "metadata": {},
   "source": [
    "## Session 4 — Transformation: Joins, Grouping, Pivoting"
   ]
  },
  {
   "cell_type": "markdown",
   "id": "6d00cda7",
   "metadata": {},
   "source": [
    "**Objectives**\n",
    "- Combine tables with joins.\n",
    "- Summarize with `GROUP BY` and filter aggregates with `HAVING`.\n",
    "- Demonstrate a pivot (emulated in SQLite using conditional aggregation)."
   ]
  },
  {
   "cell_type": "code",
   "execution_count": null,
   "id": "8814f569",
   "metadata": {},
   "outputs": [],
   "source": [
    "# Join + aggregation: revenue per customer\n",
    "run_sql('''\n",
    "SELECT c.name AS customer,\n",
    "       SUM(oi.quantity * p.price) AS revenue\n",
    "FROM orders o\n",
    "JOIN order_items oi ON o.order_id = oi.order_id\n",
    "JOIN products p ON oi.product_id = p.product_id\n",
    "JOIN customers c ON o.customer_id = c.customer_id\n",
    "GROUP BY c.name\n",
    "ORDER BY revenue DESC;\n",
    "''')"
   ]
  },
  {
   "cell_type": "code",
   "execution_count": null,
   "id": "62b10fbd",
   "metadata": {},
   "outputs": [],
   "source": [
    "# Pivot style using conditional aggregation: product count by shipper\n",
    "run_sql('''\n",
    "SELECT s.name AS shipper,\n",
    "       SUM(CASE WHEN p.product='Keyboard' THEN oi.quantity ELSE 0 END) AS keyboard_qty,\n",
    "       SUM(CASE WHEN p.product='Mouse' THEN oi.quantity ELSE 0 END) AS mouse_qty,\n",
    "       SUM(CASE WHEN p.product='Monitor' THEN oi.quantity ELSE 0 END) AS monitor_qty,\n",
    "       SUM(CASE WHEN p.product='USB-C Cable' THEN oi.quantity ELSE 0 END) AS cable_qty\n",
    "FROM orders o\n",
    "JOIN shippers s ON o.shipper_id = s.shipper_id\n",
    "JOIN order_items oi ON o.order_id = oi.order_id\n",
    "JOIN products p ON oi.product_id = p.product_id\n",
    "GROUP BY s.name\n",
    "ORDER BY s.name;\n",
    "''')"
   ]
  },
  {
   "cell_type": "markdown",
   "id": "9c6cec00",
   "metadata": {},
   "source": [
    "**Exercise:** Create a monthly sales summary (YYYY-MM) with total revenue and order count."
   ]
  },
  {
   "cell_type": "markdown",
   "id": "f5043940",
   "metadata": {},
   "source": [
    "## Session 5 — DDL, DML, and Transactions"
   ]
  },
  {
   "cell_type": "markdown",
   "id": "cc55d77b",
   "metadata": {},
   "source": [
    "**Objectives**\n",
    "- Create/alter tables (DDL), insert/update/delete data (DML).\n",
    "- Use transactions (`BEGIN`, `COMMIT`, `ROLLBACK`) safely.\n",
    "- Practice subqueries.\n",
    "\n",
    "**Note:** SQLite auto-commits by default; we use explicit transactions for teaching."
   ]
  },
  {
   "cell_type": "code",
   "execution_count": null,
   "id": "afa28de9",
   "metadata": {},
   "outputs": [],
   "source": [
    "# DDL: add a column\n",
    "conn.execute(\"ALTER TABLE customers ADD COLUMN loyalty_tier TEXT DEFAULT 'Standard';\")\n",
    "conn.commit()\n",
    "run_sql(\"SELECT * FROM customers;\")"
   ]
  },
  {
   "cell_type": "code",
   "execution_count": null,
   "id": "2ed4b977",
   "metadata": {},
   "outputs": [],
   "source": [
    "# Transaction demo\n",
    "print(\"Before:\")\n",
    "run_sql(\"SELECT order_id, SUM(quantity) AS total_qty FROM order_items GROUP BY order_id ORDER BY order_id;\")\n",
    "try:\n",
    "    conn.execute(\"BEGIN;\")\n",
    "    conn.execute(\"UPDATE order_items SET quantity = quantity + 1 WHERE order_id IN (1,2);\")\n",
    "    print(\"During (uncommitted):\")\n",
    "    run_sql(\"SELECT order_id, SUM(quantity) AS total_qty FROM order_items GROUP BY order_id ORDER BY order_id;\")\n",
    "    # intentionally roll back for demo\n",
    "    conn.execute(\"ROLLBACK;\")\n",
    "finally:\n",
    "    pass\n",
    "\n",
    "print(\"After rollback:\")\n",
    "run_sql(\"SELECT order_id, SUM(quantity) AS total_qty FROM order_items GROUP BY order_id ORDER BY order_id;\")"
   ]
  },
  {
   "cell_type": "code",
   "execution_count": null,
   "id": "799be9d7",
   "metadata": {},
   "outputs": [],
   "source": [
    "# Subquery example: orders with item count above average\n",
    "run_sql('''\n",
    "SELECT o.order_id, COUNT(*) AS n_items\n",
    "FROM order_items oi\n",
    "JOIN orders o ON oi.order_id = o.order_id\n",
    "GROUP BY o.order_id\n",
    "HAVING n_items > (SELECT AVG(cnt) FROM (\n",
    "    SELECT COUNT(*) AS cnt FROM order_items GROUP BY order_id\n",
    ") t);\n",
    "''')"
   ]
  },
  {
   "cell_type": "markdown",
   "id": "19ae90b4",
   "metadata": {},
   "source": [
    "## Capstone — Mini Data Warehouse for Real Estate Analytics"
   ]
  },
  {
   "cell_type": "markdown",
   "id": "849410a6",
   "metadata": {},
   "source": [
    "**Goal:** Build an end-to-end SQL pipeline to analyze home sales.\n",
    "\n",
    "**Steps**\n",
    "1. Design a schema: `locations(city, state)`, `agents`, `homes`, `sales`.\n",
    "2. Create and populate tables with synthetic data.\n",
    "3. Profile data for gaps and outliers.\n",
    "4. Clean / standardize (e.g., unify state names).\n",
    "5. Build analytics queries (avg/median price per city, top agents, YOY trends).\n",
    "6. (Optional) Add a pivot-style summary for city × year.\n",
    "\n",
    "**Deliverables (export as .sql or .ipynb section)**\n",
    "- DDL + inserts\n",
    "- Profiling/cleaning SQL\n",
    "- Final analytics SQL with short narrative"
   ]
  },
  {
   "cell_type": "code",
   "execution_count": null,
   "id": "1203ae2b",
   "metadata": {},
   "outputs": [],
   "source": [
    "# Starter capstone schema with synthetic data\n",
    "conn.executescript('''\n",
    "CREATE TABLE locations (\n",
    "    location_id INTEGER PRIMARY KEY,\n",
    "    city TEXT NOT NULL,\n",
    "    state TEXT NOT NULL\n",
    ");\n",
    "\n",
    "CREATE TABLE agents (\n",
    "    agent_id INTEGER PRIMARY KEY,\n",
    "    name TEXT NOT NULL\n",
    ");\n",
    "\n",
    "CREATE TABLE homes (\n",
    "    home_id INTEGER PRIMARY KEY,\n",
    "    location_id INTEGER NOT NULL,\n",
    "    bedrooms INTEGER NOT NULL,\n",
    "    bathrooms REAL NOT NULL,\n",
    "    sqft INTEGER NOT NULL,\n",
    "    home_type TEXT NOT NULL,\n",
    "    year_built INTEGER,\n",
    "    FOREIGN KEY(location_id) REFERENCES locations(location_id)\n",
    ");\n",
    "\n",
    "CREATE TABLE sales (\n",
    "    sale_id INTEGER PRIMARY KEY,\n",
    "    home_id INTEGER NOT NULL,\n",
    "    agent_id INTEGER NOT NULL,\n",
    "    sale_date TEXT NOT NULL,\n",
    "    sale_price REAL NOT NULL CHECK (sale_price >= 0),\n",
    "    FOREIGN KEY(home_id) REFERENCES homes(home_id),\n",
    "    FOREIGN KEY(agent_id) REFERENCES agents(agent_id)\n",
    ");\n",
    "\n",
    "INSERT INTO locations (city, state) VALUES\n",
    "  ('Austin', 'TX'), ('Austin', 'Texas'), ('Boston', 'MA'), ('Dallas', 'TX'), ('Denver', 'CO');\n",
    "\n",
    "INSERT INTO agents (name) VALUES ('Alex Kim'), ('Priya Singh'), ('Carlos M.');\n",
    "\n",
    "INSERT INTO homes (location_id, bedrooms, bathrooms, sqft, home_type, year_built) VALUES\n",
    "  (1, 3, 2.0, 1600, 'SingleFamily', 2002),\n",
    "  (2, 4, 2.5, 2200, 'SingleFamily', 2010),\n",
    "  (3, 2, 1.0, 900,  'Condo', 1995),\n",
    "  (4, 3, 2.0, 1400, 'Townhome', 2008),\n",
    "  (5, 5, 3.0, 2800, 'SingleFamily', 2018);\n",
    "\n",
    "INSERT INTO sales (home_id, agent_id, sale_date, sale_price) VALUES\n",
    "  (1, 1, '2024-05-11', 420000),\n",
    "  (2, 2, '2024-06-20', 630000),\n",
    "  (3, 2, '2024-03-03', 390000),\n",
    "  (4, 3, '2024-09-01', 415000),\n",
    "  (5, 1, '2024-02-14', 780000);\n",
    "''')\n",
    "conn.commit()\n",
    "print(\"Capstone base schema seeded.\")"
   ]
  },
  {
   "cell_type": "code",
   "execution_count": null,
   "id": "26c6f150",
   "metadata": {},
   "outputs": [],
   "source": [
    "# Capstone tasks: profiling, cleaning, analytics\n",
    "print(\"Profiling — inconsistent state names:\")\n",
    "run_sql(\"SELECT state, COUNT(*) AS n FROM locations GROUP BY state ORDER BY n DESC;\")\n",
    "\n",
    "print(\"Cleaning — unify 'Texas' -> 'TX':\")\n",
    "conn.execute(\"UPDATE locations SET state='TX' WHERE state LIKE 'Texas';\")\n",
    "conn.commit()\n",
    "run_sql(\"SELECT city, state FROM locations ORDER BY city;\")\n",
    "\n",
    "print(\"Analytics — avg price by city:\")\n",
    "run_sql('''\n",
    "SELECT l.city, ROUND(AVG(s.sale_price), 2) AS avg_price\n",
    "FROM sales s\n",
    "JOIN homes h ON s.home_id=h.home_id\n",
    "JOIN locations l ON h.location_id=l.location_id\n",
    "GROUP BY l.city\n",
    "ORDER BY avg_price DESC;\n",
    "''')\n",
    "\n",
    "print(\"Analytics — top agents by total sales:\")\n",
    "run_sql('''\n",
    "SELECT a.name, ROUND(SUM(s.sale_price), 2) AS total_sales\n",
    "FROM sales s\n",
    "JOIN agents a ON s.agent_id=a.agent_id\n",
    "GROUP BY a.name\n",
    "ORDER BY total_sales DESC;\n",
    "''')"
   ]
  },
  {
   "cell_type": "markdown",
   "id": "bc8ead0f",
   "metadata": {},
   "source": [
    "## Wrap-Up & Next Steps"
   ]
  },
  {
   "cell_type": "markdown",
   "id": "4db952d7",
   "metadata": {},
   "source": [
    "**Where to go from here**\n",
    "- Try migrating the schema to PostgreSQL and compare SQL dialect differences.\n",
    "- Add indexes and measure query performance.\n",
    "- Create views/materialized views for common analytics.\n",
    "- Explore Python ETL with `pandas` + `to_sql` pipelines into SQLite/Postgres."
   ]
  }
 ],
 "metadata": {
  "kernelspec": {
   "display_name": "Python 3",
   "language": "python",
   "name": "python3"
  }
 },
 "nbformat": 4,
 "nbformat_minor": 5
}

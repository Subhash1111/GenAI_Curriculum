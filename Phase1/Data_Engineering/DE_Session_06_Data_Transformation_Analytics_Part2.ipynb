{
 "cells": [
  {
   "cell_type": "markdown",
   "id": "69b9738a",
   "metadata": {},
   "source": [
    "# Session 6 — Part 2: Analytics & Reporting Layer\n",
    "Connect curated data to **BI tools**, design **semantic models** and **data marts**, and optimize refresh, cost, and security."
   ]
  },
  {
   "cell_type": "markdown",
   "id": "444be1ce",
   "metadata": {},
   "source": [
    "## 🧱 1️⃣ The Analytics Layer in the Stack\n",
    "```\n",
    "Curated → Data Mart → BI / Semantic Model → Dashboards / Alerts / APIs\n",
    "```\n",
    "This is the interface between data engineering and decision‑makers."
   ]
  },
  {
   "cell_type": "markdown",
   "id": "95e57110",
   "metadata": {},
   "source": [
    "## 📊 2️⃣ BI & Reporting Tools Landscape\n",
    "| Category | Tools | Notes |\n",
    "|---|---|---|\n",
    "| Enterprise BI | Power BI, Tableau, Qlik | Rich visuals, governance, RLS |\n",
    "| Cloud‑native | QuickSight, Looker, Data Studio | Tight DW integration |\n",
    "| Open Source | Superset, Metabase, Redash | Self‑hosted portals |\n",
    "| Embedded/APIs | Mode, Plotly Dash | Product analytics / custom apps |\n",
    "| Notebooks | Jupyter, Databricks SQL, Hex | Ad‑hoc + reproducible analysis |"
   ]
  },
  {
   "cell_type": "markdown",
   "id": "4c5197c7",
   "metadata": {},
   "source": [
    "## 🧠 3️⃣ How Data Engineers Enable BI\n",
    "1. **Design data marts** (star schemas) for subject areas.\n",
    "2. **Define semantic models**: measures (e.g., `total_sales`) & dimensions (date, region).\n",
    "3. **Pre‑aggregate** heavy queries (materialized tables/extracts).\n",
    "4. **Automate refresh** tied to pipeline completes.\n",
    "5. **Secure** with RLS/OLS + audit logs."
   ]
  },
  {
   "cell_type": "markdown",
   "id": "761a0fb5",
   "metadata": {},
   "source": [
    "## 📦 4️⃣ Analytical Model Design\n",
    "**Star Schema:**\n",
    "```\n",
    "FactSales → DimCustomer, DimProduct, DimRegion, DimDate\n",
    "```\n",
    "| Table | Metrics/Keys | Linked Dims |\n",
    "|---|---|---|\n",
    "| FactSales | sales_amount, qty, customer_id, product_id | Customer, Product, Region, Date |"
   ]
  },
  {
   "cell_type": "markdown",
   "id": "bea5abd2",
   "metadata": {},
   "source": [
    "## ⚙️ 5️⃣ Example: Transform → Mart → Dashboard\n",
    "**Retail case:**\n",
    "1) Curated fact/dim built in Part 1 → 2) Create `sales_by_region_month` summary → 3) Publish to BI\n",
    "\n",
    "**SQL pre‑aggregation:**\n",
    "```sql\n",
    "CREATE OR REPLACE TABLE mart.sales_by_region_month AS\n",
    "SELECT date_trunc('month', order_date) AS month,\n",
    "       region,\n",
    "       SUM(amount) AS total_sales,\n",
    "       COUNT(*) AS orders\n",
    "FROM curated.fact_sales\n",
    "GROUP BY 1,2;\n",
    "```\n",
    "Export this table/view to your BI workspace and set a scheduled refresh."
   ]
  },
  {
   "cell_type": "markdown",
   "id": "1d8bc4f6",
   "metadata": {},
   "source": [
    "## 🚀 6️⃣ Performance & Cost Optimization in BI\n",
    "| Technique | Why | Example |\n",
    "|---|---|---|\n",
    "| Incremental Refresh | Avoids full reloads | Partition by day/month |\n",
    "| Columnar Storage | Faster + smaller | Parquet, VertiPaq |\n",
    "| Caching/Extracts | Low‑latency reads | Tableau Extracts, SPICE |\n",
    "| Model Pruning | Remove unused cols | Lean semantic model |\n",
    "| DirectQuery vs Import | Balance freshness vs speed | Power BI modes |\n"
   ]
  },
  {
   "cell_type": "markdown",
   "id": "4a952d63",
   "metadata": {},
   "source": [
    "## 🔐 7️⃣ Access Control & Governance in Reporting\n",
    "- **Row‑Level Security (RLS):** restrict by region/department.\n",
    "- **Object‑Level Security (OLS):** hide sensitive columns.\n",
    "- **SSO & Roles:** Azure AD / IAM integration.\n",
    "- **Auditing:** who viewed/exported what and when."
   ]
  },
  {
   "cell_type": "markdown",
   "id": "5e084931",
   "metadata": {},
   "source": [
    "## 🌐 8️⃣ Warehouse ↔ BI Connectivity\n",
    "| Warehouse | BI Integration | Notes |\n",
    "|---|---|---|\n",
    "| Synapse / SQL DB | Power BI DirectQuery | AAD passthrough |\n",
    "| Redshift | QuickSight | Federated queries |\n",
    "| BigQuery | Looker / Data Studio | LookML semantic layer |\n",
    "| Snowflake | Tableau / Power BI | ODBC/JDBC connectors |"
   ]
  },
  {
   "cell_type": "markdown",
   "id": "80e96de6",
   "metadata": {},
   "source": [
    "## 🖼️ 9️⃣ Visual — Analytics Serving Flow"
   ]
  },
  {
   "cell_type": "code",
   "execution_count": null,
   "id": "2b4202b0",
   "metadata": {},
   "outputs": [],
   "source": [
    "import matplotlib.pyplot as plt\n",
    "from matplotlib.patches import FancyBboxPatch\n",
    "\n",
    "BG = '#e6f0ff'; FILL = '#e6f0ff'; EDGE = '#2563eb'; TXT = '#111827'\n",
    "W, H, GAP, PAD = 0.2, 0.22, 0.06, 0.01\n",
    "Y0 = 0.39\n",
    "labels = [\n",
    "    ('Curated', 'Facts & Dims'),\n",
    "    ('Data Mart', 'Sales/Finance/CS'),\n",
    "    ('Semantic Model', 'Measures + Dim'),\n",
    "    ('BI', 'Dashboards/Alerts')\n",
    "]\n",
    "fig, ax = plt.subplots(figsize=(11, 3.8))\n",
    "fig.patch.set_facecolor(BG); ax.set_facecolor(BG); ax.set_axis_off()\n",
    "ax.set_xlim(0,1); ax.set_ylim(0,1)\n",
    "total_w = len(labels)*W + (len(labels)-1)*GAP\n",
    "x0 = (1-total_w)/2\n",
    "xs = [x0 + i*(W+GAP) for i in range(len(labels))]\n",
    "def box(x, t, s):\n",
    "    r = FancyBboxPatch((x, Y0), W, H, boxstyle='round,pad=0.02,rounding_size=10', fc=FILL, ec=EDGE, lw=1.6)\n",
    "    ax.add_patch(r)\n",
    "    ax.text(x+W/2, Y0+H*0.62, t, ha='center', va='center', fontsize=10, color=TXT, fontweight='bold')\n",
    "    ax.text(x+W/2, Y0+H*0.36, s, ha='center', va='center', fontsize=9, color=TXT)\n",
    "for (t,s), x in zip(labels, xs):\n",
    "    box(x,t,s)\n",
    "y = Y0 + H/2\n",
    "for i in range(len(xs)-1):\n",
    "    ax.annotate('', xy=(xs[i+1]-PAD, y), xytext=(xs[i]+W+PAD, y),\n",
    "                arrowprops=dict(arrowstyle='->', lw=2, color='#4b5563', mutation_scale=12))\n",
    "plt.tight_layout(); plt.show()\n"
   ]
  },
  {
   "cell_type": "markdown",
   "id": "cdfc676c",
   "metadata": {},
   "source": [
    "## 🧩 🔟 Case Studies\n",
    "- **Global Retail:** Glue ETL → Redshift → QuickSight; *30‑minute freshness*.\n",
    "- **FinTech:** ADF → Synapse → Power BI; *real‑time payment risk*.\n",
    "- **Healthcare:** IoT Hub → Databricks → Delta → Tableau; *patient risk dashboard*."
   ]
  },
  {
   "cell_type": "markdown",
   "id": "bc44fffe",
   "metadata": {},
   "source": [
    "## 💡 1️⃣1️⃣ Practice\n",
    "1) Design a star schema for a domain.\n",
    "2) Build a monthly sales aggregation table and publish to BI.\n",
    "3) Implement RLS for region‑scoped visibility.\n",
    "4) Track dashboard refresh metrics in your monitoring layer."
   ]
  }
 ],
 "metadata": {
  "kernelspec": {
   "display_name": "Python 3",
   "language": "python",
   "name": "python3"
  }
 },
 "nbformat": 4,
 "nbformat_minor": 5
}

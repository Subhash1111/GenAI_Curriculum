{
 "cells": [
  {
   "cell_type": "markdown",
   "id": "a71f77dc",
   "metadata": {},
   "source": [
    "# Capstone Add-On — Loads, Scheduling, Monitoring, Params, Medallion\n",
    "\n",
    "Hands-on tasks that tie advanced topics into the Real Estate Analytics capstone.\n"
   ]
  },
  {
   "cell_type": "markdown",
   "id": "cf5720bf",
   "metadata": {},
   "source": [
    "## Environment Setup"
   ]
  },
  {
   "cell_type": "code",
   "execution_count": 1,
   "id": "7c974747",
   "metadata": {},
   "outputs": [
    {
     "name": "stdout",
     "output_type": "stream",
     "text": [
      "3.11.9 (v3.11.9:de54cf5be3, Apr  2 2024, 07:12:50) [Clang 13.0.0 (clang-1300.0.29.30)]\n",
      "SQLite ready at /Users/subhasht/Desktop/VSCode Programs/GenAI_Curriculum/Phase1/Data_Engineering/course.db\n"
     ]
    }
   ],
   "source": [
    "import sys, sqlite3, pandas as pd, numpy as np, matplotlib.pyplot as plt\n",
    "from pathlib import Path\n",
    "print(sys.version)\n",
    "import seaborn as sns; sns.set_theme()\n",
    "DB_PATH = Path('course.db')\n",
    "conn = sqlite3.connect(DB_PATH)\n",
    "conn.execute('PRAGMA foreign_keys=ON;')\n",
    "print('SQLite ready at', DB_PATH.resolve())\n",
    "def run_sql(q, params=None):\n",
    "    params = params or {}\n",
    "    df = pd.read_sql_query(q, conn, params=params)\n",
    "    display(df)\n",
    "    return df"
   ]
  },
  {
   "cell_type": "markdown",
   "id": "4281e9cd",
   "metadata": {},
   "source": [
    "### Apply Full vs Incremental Loads to Capstone Tables"
   ]
  },
  {
   "cell_type": "code",
   "execution_count": 2,
   "id": "89506fd4",
   "metadata": {},
   "outputs": [
    {
     "data": {
      "text/html": [
       "<div>\n",
       "<style scoped>\n",
       "    .dataframe tbody tr th:only-of-type {\n",
       "        vertical-align: middle;\n",
       "    }\n",
       "\n",
       "    .dataframe tbody tr th {\n",
       "        vertical-align: top;\n",
       "    }\n",
       "\n",
       "    .dataframe thead th {\n",
       "        text-align: right;\n",
       "    }\n",
       "</style>\n",
       "<table border=\"1\" class=\"dataframe\">\n",
       "  <thead>\n",
       "    <tr style=\"text-align: right;\">\n",
       "      <th></th>\n",
       "      <th>sale_id</th>\n",
       "      <th>home_id</th>\n",
       "      <th>agent_id</th>\n",
       "      <th>sale_date</th>\n",
       "      <th>sale_price</th>\n",
       "    </tr>\n",
       "  </thead>\n",
       "  <tbody>\n",
       "    <tr>\n",
       "      <th>0</th>\n",
       "      <td>1</td>\n",
       "      <td>1</td>\n",
       "      <td>1</td>\n",
       "      <td>2024-05-11</td>\n",
       "      <td>420000.0</td>\n",
       "    </tr>\n",
       "    <tr>\n",
       "      <th>1</th>\n",
       "      <td>2</td>\n",
       "      <td>2</td>\n",
       "      <td>2</td>\n",
       "      <td>2024-06-20</td>\n",
       "      <td>630000.0</td>\n",
       "    </tr>\n",
       "    <tr>\n",
       "      <th>2</th>\n",
       "      <td>3</td>\n",
       "      <td>3</td>\n",
       "      <td>2</td>\n",
       "      <td>2024-03-03</td>\n",
       "      <td>390000.0</td>\n",
       "    </tr>\n",
       "    <tr>\n",
       "      <th>3</th>\n",
       "      <td>4</td>\n",
       "      <td>4</td>\n",
       "      <td>3</td>\n",
       "      <td>2024-09-01</td>\n",
       "      <td>415000.0</td>\n",
       "    </tr>\n",
       "    <tr>\n",
       "      <th>4</th>\n",
       "      <td>5</td>\n",
       "      <td>5</td>\n",
       "      <td>1</td>\n",
       "      <td>2024-02-14</td>\n",
       "      <td>780000.0</td>\n",
       "    </tr>\n",
       "    <tr>\n",
       "      <th>5</th>\n",
       "      <td>6</td>\n",
       "      <td>6</td>\n",
       "      <td>4</td>\n",
       "      <td>2024-08-21</td>\n",
       "      <td>455000.0</td>\n",
       "    </tr>\n",
       "  </tbody>\n",
       "</table>\n",
       "</div>"
      ],
      "text/plain": [
       "   sale_id  home_id  agent_id   sale_date  sale_price\n",
       "0        1        1         1  2024-05-11    420000.0\n",
       "1        2        2         2  2024-06-20    630000.0\n",
       "2        3        3         2  2024-03-03    390000.0\n",
       "3        4        4         3  2024-09-01    415000.0\n",
       "4        5        5         1  2024-02-14    780000.0\n",
       "5        6        6         4  2024-08-21    455000.0"
      ]
     },
     "metadata": {},
     "output_type": "display_data"
    },
    {
     "ename": "OperationalError",
     "evalue": "table sales has 5 columns but 6 values were supplied",
     "output_type": "error",
     "traceback": [
      "\u001b[31m---------------------------------------------------------------------------\u001b[39m",
      "\u001b[31mOperationalError\u001b[39m                          Traceback (most recent call last)",
      "\u001b[36mCell\u001b[39m\u001b[36m \u001b[39m\u001b[32mIn[2]\u001b[39m\u001b[32m, line 28\u001b[39m\n\u001b[32m     25\u001b[39m display(pd.read_sql_query(\u001b[33m\"\u001b[39m\u001b[33mSELECT * FROM dw_sales\u001b[39m\u001b[33m\"\u001b[39m, conn))\n\u001b[32m     27\u001b[39m \u001b[38;5;66;03m# Simulate increment\u001b[39;00m\n\u001b[32m---> \u001b[39m\u001b[32m28\u001b[39m conn.execute(\u001b[33m\"\u001b[39m\u001b[33mINSERT INTO sales VALUES (3,1,1,\u001b[39m\u001b[33m'\u001b[39m\u001b[33m2024-07-01\u001b[39m\u001b[33m'\u001b[39m\u001b[33m,430000,\u001b[39m\u001b[33m'\u001b[39m\u001b[33m2024-10-06\u001b[39m\u001b[33m'\u001b[39m\u001b[33m)\u001b[39m\u001b[33m\"\u001b[39m); conn.commit()\n\u001b[32m     29\u001b[39m wm = pd.read_sql_query(\u001b[33m\"\u001b[39m\u001b[33mSELECT MAX(updated_at) AS wm FROM dw_sales\u001b[39m\u001b[33m\"\u001b[39m, conn).iloc[\u001b[32m0\u001b[39m][\u001b[33m'\u001b[39m\u001b[33mwm\u001b[39m\u001b[33m'\u001b[39m]\n\u001b[32m     30\u001b[39m changes = pd.read_sql_query(\u001b[33m\"\u001b[39m\u001b[33mSELECT * FROM sales WHERE updated_at > ?\u001b[39m\u001b[33m\"\u001b[39m, conn, params=[wm])\n",
      "\u001b[31mOperationalError\u001b[39m: table sales has 5 columns but 6 values were supplied"
     ]
    }
   ],
   "source": [
    "# Recreate capstone tables quickly (if not present) and add updated_at columns for incremental demo\n",
    "conn.executescript('''\n",
    "CREATE TABLE IF NOT EXISTS locations(location_id INTEGER PRIMARY KEY, city TEXT, state TEXT);\n",
    "CREATE TABLE IF NOT EXISTS homes(home_id INTEGER PRIMARY KEY, location_id INTEGER, bedrooms INTEGER, bathrooms REAL, sqft INTEGER, home_type TEXT, year_built INTEGER);\n",
    "CREATE TABLE IF NOT EXISTS sales(\n",
    "  sale_id INTEGER PRIMARY KEY, home_id INTEGER, agent_id INTEGER, sale_date TEXT, sale_price REAL,\n",
    "  updated_at TEXT\n",
    ");\n",
    "'''); conn.commit()\n",
    "\n",
    "# Seed minimal if empty\n",
    "rows = pd.read_sql_query(\"SELECT COUNT(*) AS n FROM sales\", conn).iloc[0]['n']\n",
    "if rows == 0:\n",
    "    conn.executescript('''\n",
    "    INSERT INTO locations VALUES (1,'Austin','TX'), (2,'Boston','MA');\n",
    "    INSERT INTO homes VALUES (1,1,3,2.0,1600,'SingleFamily',2002),(2,2,2,1.0,900,'Condo',1995);\n",
    "    INSERT INTO sales VALUES (1,1,1,'2024-05-01',420000,'2024-10-01'), (2,2,2,'2024-06-01',390000,'2024-10-01');\n",
    "    '''); conn.commit()\n",
    "\n",
    "# Create DW table\n",
    "conn.executescript('''\n",
    "DROP TABLE IF EXISTS dw_sales;\n",
    "CREATE TABLE dw_sales AS SELECT * FROM sales;\n",
    "'''); conn.commit()\n",
    "display(pd.read_sql_query(\"SELECT * FROM dw_sales\", conn))\n",
    "\n",
    "# Simulate increment\n",
    "conn.execute(\"INSERT INTO sales VALUES (3,1,1,'2024-07-01',430000,'2024-10-06')\"); conn.commit()\n",
    "wm = pd.read_sql_query(\"SELECT MAX(updated_at) AS wm FROM dw_sales\", conn).iloc[0]['wm']\n",
    "changes = pd.read_sql_query(\"SELECT * FROM sales WHERE updated_at > ?\", conn, params=[wm])\n",
    "display(changes)\n",
    "conn.executemany(\"INSERT OR REPLACE INTO dw_sales VALUES (?,?,?,?,?,?)\", changes.values.tolist()); conn.commit()\n",
    "print(\"DW after incremental:\")\n",
    "display(pd.read_sql_query(\"SELECT * FROM dw_sales ORDER BY sale_id\", conn))"
   ]
  },
  {
   "cell_type": "markdown",
   "id": "388867e3",
   "metadata": {},
   "source": [
    "### Scheduling Exercise: Outline a daily incremental job for `dw_sales`"
   ]
  },
  {
   "cell_type": "code",
   "execution_count": null,
   "id": "5d8f7344",
   "metadata": {},
   "outputs": [],
   "source": [
    "print(\"\"\"\n",
    "# cron (2:10 AM daily)\n",
    "10 2 * * * python3 /opt/pipelines/capstone_incremental.py >> /var/log/capstone_incremental.log 2>&1\n",
    "\"\"\"))"
   ]
  },
  {
   "cell_type": "markdown",
   "id": "831a7190",
   "metadata": {},
   "source": [
    "### Monitoring Exercise: Validate non-decreasing sales rows and max date"
   ]
  },
  {
   "cell_type": "code",
   "execution_count": null,
   "id": "3168798a",
   "metadata": {},
   "outputs": [],
   "source": [
    "before = pd.read_sql_query(\"SELECT COUNT(*) AS n, MAX(updated_at) AS mx FROM dw_sales\", conn).iloc[0]\n",
    "# simulate another change\n",
    "conn.execute(\"UPDATE sales SET sale_price = sale_price + 5000, updated_at = '2024-10-07' WHERE sale_id=3\"); conn.commit()\n",
    "wm = pd.read_sql_query(\"SELECT MAX(updated_at) AS wm FROM dw_sales\", conn).iloc[0]['wm']\n",
    "delta = pd.read_sql_query(\"SELECT * FROM sales WHERE updated_at > ?\", conn, params=[wm])\n",
    "conn.executemany(\"INSERT OR REPLACE INTO dw_sales VALUES (?,?,?,?,?,?)\", delta.values.tolist()); conn.commit()\n",
    "after = pd.read_sql_query(\"SELECT COUNT(*) AS n, MAX(updated_at) AS mx FROM dw_sales\", conn).iloc[0]\n",
    "print(\"Before:\", dict(before)); print(\"After:\", dict(after))\n",
    "if after['n'] < before['n'] or after['mx'] < before['mx']:\n",
    "    print(\"ALERT: potential regression detected\")\n",
    "else:\n",
    "    print(\"OK: metrics non-decreasing\")"
   ]
  },
  {
   "cell_type": "markdown",
   "id": "a0dc1023",
   "metadata": {},
   "source": [
    "### Parameterization Exercise: Use a config for table and watermark column"
   ]
  },
  {
   "cell_type": "code",
   "execution_count": null,
   "id": "10030bee",
   "metadata": {},
   "outputs": [],
   "source": [
    "CONFIG = {\"table\": \"dw_sales\", \"wm_col\": \"updated_at\"}\n",
    "def watermark(conn, table, col):\n",
    "    return pd.read_sql_query(f\"SELECT MAX({col}) AS wm FROM {table}\", conn).iloc[0]['wm']\n",
    "print(\"Watermark:\", watermark(conn, CONFIG[\"table\"], CONFIG[\"wm_col\"]))"
   ]
  },
  {
   "cell_type": "markdown",
   "id": "a0010615",
   "metadata": {},
   "source": [
    "### Medallion Exercise: Bronze→Silver→Gold for `sales`"
   ]
  },
  {
   "cell_type": "code",
   "execution_count": null,
   "id": "c15a07ec",
   "metadata": {},
   "outputs": [],
   "source": [
    "conn.executescript('''\n",
    "DROP TABLE IF EXISTS bronze_sales;\n",
    "DROP TABLE IF EXISTS silver_sales;\n",
    "DROP TABLE IF EXISTS gold_sales_kpis;\n",
    "CREATE TABLE bronze_sales AS SELECT * FROM sales;\n",
    "CREATE TABLE silver_sales AS\n",
    "  SELECT sale_id, home_id, agent_id, sale_date, sale_price, updated_at\n",
    "  FROM bronze_sales WHERE sale_price IS NOT NULL;\n",
    "CREATE TABLE gold_sales_kpis AS\n",
    "  SELECT strftime('%Y-%m', sale_date) AS yyyymm, COUNT(*) AS n_sales, ROUND(AVG(sale_price),2) AS avg_price\n",
    "  FROM silver_sales GROUP BY strftime('%Y-%m', sale_date);\n",
    "'''); conn.commit()\n",
    "display(pd.read_sql_query(\"SELECT * FROM gold_sales_kpis\", conn))"
   ]
  }
 ],
 "metadata": {
  "kernelspec": {
   "display_name": "Python 3",
   "language": "python",
   "name": "python3"
  },
  "language_info": {
   "codemirror_mode": {
    "name": "ipython",
    "version": 3
   },
   "file_extension": ".py",
   "mimetype": "text/x-python",
   "name": "python",
   "nbconvert_exporter": "python",
   "pygments_lexer": "ipython3",
   "version": "3.11.9"
  }
 },
 "nbformat": 4,
 "nbformat_minor": 5
}

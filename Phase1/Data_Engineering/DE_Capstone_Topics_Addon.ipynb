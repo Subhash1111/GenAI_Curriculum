{
 "cells": [
  {
   "cell_type": "markdown",
   "id": "a71f77dc",
   "metadata": {},
   "source": [
    "# Capstone Add-On — Loads, Scheduling, Monitoring, Params, Medallion\n",
    "\n",
    "Hands-on tasks that tie advanced topics into the Real Estate Analytics capstone.\n"
   ]
  },
  {
   "cell_type": "markdown",
   "id": "cf5720bf",
   "metadata": {},
   "source": [
    "## Environment Setup"
   ]
  },
  {
   "cell_type": "code",
   "execution_count": null,
   "id": "7c974747",
   "metadata": {},
   "outputs": [],
   "source": [
    "import sys, sqlite3, pandas as pd, numpy as np, matplotlib.pyplot as plt\n",
    "from pathlib import Path\n",
    "print(sys.version)\n",
    "import seaborn as sns; sns.set_theme()\n",
    "DB_PATH = Path('course.db')\n",
    "conn = sqlite3.connect(DB_PATH)\n",
    "conn.execute('PRAGMA foreign_keys=ON;')\n",
    "print('SQLite ready at', DB_PATH.resolve())\n",
    "def run_sql(q, params=None):\n",
    "    params = params or {}\n",
    "    df = pd.read_sql_query(q, conn, params=params)\n",
    "    display(df)\n",
    "    return df"
   ]
  },
  {
   "cell_type": "markdown",
   "id": "4281e9cd",
   "metadata": {},
   "source": [
    "### Apply Full vs Incremental Loads to Capstone Tables"
   ]
  },
  {
   "cell_type": "code",
   "execution_count": null,
   "id": "89506fd4",
   "metadata": {},
   "outputs": [],
   "source": [
    "# Recreate capstone tables quickly (if not present) and add updated_at columns for incremental demo\n",
    "conn.executescript('''\n",
    "CREATE TABLE IF NOT EXISTS locations(location_id INTEGER PRIMARY KEY, city TEXT, state TEXT);\n",
    "CREATE TABLE IF NOT EXISTS homes(home_id INTEGER PRIMARY KEY, location_id INTEGER, bedrooms INTEGER, bathrooms REAL, sqft INTEGER, home_type TEXT, year_built INTEGER);\n",
    "CREATE TABLE IF NOT EXISTS sales(\n",
    "  sale_id INTEGER PRIMARY KEY, home_id INTEGER, agent_id INTEGER, sale_date TEXT, sale_price REAL,\n",
    "  updated_at TEXT\n",
    ");\n",
    "'''); conn.commit()\n",
    "\n",
    "# Seed minimal if empty\n",
    "rows = pd.read_sql_query(\"SELECT COUNT(*) AS n FROM sales\", conn).iloc[0]['n']\n",
    "if rows == 0:\n",
    "    conn.executescript('''\n",
    "    INSERT INTO locations VALUES (1,'Austin','TX'), (2,'Boston','MA');\n",
    "    INSERT INTO homes VALUES (1,1,3,2.0,1600,'SingleFamily',2002),(2,2,2,1.0,900,'Condo',1995);\n",
    "    INSERT INTO sales VALUES (1,1,1,'2024-05-01',420000,'2024-10-01'), (2,2,2,'2024-06-01',390000,'2024-10-01');\n",
    "    '''); conn.commit()\n",
    "\n",
    "# Create DW table\n",
    "conn.executescript('''\n",
    "DROP TABLE IF EXISTS dw_sales;\n",
    "CREATE TABLE dw_sales AS SELECT * FROM sales;\n",
    "'''); conn.commit()\n",
    "display(pd.read_sql_query(\"SELECT * FROM dw_sales\", conn))\n",
    "\n",
    "# Simulate increment\n",
    "conn.execute(\"INSERT INTO sales VALUES (3,1,1,'2024-07-01',430000,'2024-10-06')\"); conn.commit()\n",
    "wm = pd.read_sql_query(\"SELECT MAX(updated_at) AS wm FROM dw_sales\", conn).iloc[0]['wm']\n",
    "changes = pd.read_sql_query(\"SELECT * FROM sales WHERE updated_at > ?\", conn, params=[wm])\n",
    "display(changes)\n",
    "conn.executemany(\"INSERT OR REPLACE INTO dw_sales VALUES (?,?,?,?,?,?)\", changes.values.tolist()); conn.commit()\n",
    "print(\"DW after incremental:\")\n",
    "display(pd.read_sql_query(\"SELECT * FROM dw_sales ORDER BY sale_id\", conn))"
   ]
  },
  {
   "cell_type": "markdown",
   "id": "388867e3",
   "metadata": {},
   "source": [
    "### Scheduling Exercise: Outline a daily incremental job for `dw_sales`"
   ]
  },
  {
   "cell_type": "code",
   "execution_count": null,
   "id": "5d8f7344",
   "metadata": {},
   "outputs": [],
   "source": [
    "print(\"\"\"\n",
    "# cron (2:10 AM daily)\n",
    "10 2 * * * python3 /opt/pipelines/capstone_incremental.py >> /var/log/capstone_incremental.log 2>&1\n",
    "\"\"\"))"
   ]
  },
  {
   "cell_type": "markdown",
   "id": "831a7190",
   "metadata": {},
   "source": [
    "### Monitoring Exercise: Validate non-decreasing sales rows and max date"
   ]
  },
  {
   "cell_type": "code",
   "execution_count": null,
   "id": "3168798a",
   "metadata": {},
   "outputs": [],
   "source": [
    "before = pd.read_sql_query(\"SELECT COUNT(*) AS n, MAX(updated_at) AS mx FROM dw_sales\", conn).iloc[0]\n",
    "# simulate another change\n",
    "conn.execute(\"UPDATE sales SET sale_price = sale_price + 5000, updated_at = '2024-10-07' WHERE sale_id=3\"); conn.commit()\n",
    "wm = pd.read_sql_query(\"SELECT MAX(updated_at) AS wm FROM dw_sales\", conn).iloc[0]['wm']\n",
    "delta = pd.read_sql_query(\"SELECT * FROM sales WHERE updated_at > ?\", conn, params=[wm])\n",
    "conn.executemany(\"INSERT OR REPLACE INTO dw_sales VALUES (?,?,?,?,?,?)\", delta.values.tolist()); conn.commit()\n",
    "after = pd.read_sql_query(\"SELECT COUNT(*) AS n, MAX(updated_at) AS mx FROM dw_sales\", conn).iloc[0]\n",
    "print(\"Before:\", dict(before)); print(\"After:\", dict(after))\n",
    "if after['n'] < before['n'] or after['mx'] < before['mx']:\n",
    "    print(\"ALERT: potential regression detected\")\n",
    "else:\n",
    "    print(\"OK: metrics non-decreasing\")"
   ]
  },
  {
   "cell_type": "markdown",
   "id": "a0dc1023",
   "metadata": {},
   "source": [
    "### Parameterization Exercise: Use a config for table and watermark column"
   ]
  },
  {
   "cell_type": "code",
   "execution_count": null,
   "id": "10030bee",
   "metadata": {},
   "outputs": [],
   "source": [
    "CONFIG = {\"table\": \"dw_sales\", \"wm_col\": \"updated_at\"}\n",
    "def watermark(conn, table, col):\n",
    "    return pd.read_sql_query(f\"SELECT MAX({col}) AS wm FROM {table}\", conn).iloc[0]['wm']\n",
    "print(\"Watermark:\", watermark(conn, CONFIG[\"table\"], CONFIG[\"wm_col\"]))"
   ]
  },
  {
   "cell_type": "markdown",
   "id": "a0010615",
   "metadata": {},
   "source": [
    "### Medallion Exercise: Bronze→Silver→Gold for `sales`"
   ]
  },
  {
   "cell_type": "code",
   "execution_count": null,
   "id": "c15a07ec",
   "metadata": {},
   "outputs": [],
   "source": [
    "conn.executescript('''\n",
    "DROP TABLE IF EXISTS bronze_sales;\n",
    "DROP TABLE IF EXISTS silver_sales;\n",
    "DROP TABLE IF EXISTS gold_sales_kpis;\n",
    "CREATE TABLE bronze_sales AS SELECT * FROM sales;\n",
    "CREATE TABLE silver_sales AS\n",
    "  SELECT sale_id, home_id, agent_id, sale_date, sale_price, updated_at\n",
    "  FROM bronze_sales WHERE sale_price IS NOT NULL;\n",
    "CREATE TABLE gold_sales_kpis AS\n",
    "  SELECT strftime('%Y-%m', sale_date) AS yyyymm, COUNT(*) AS n_sales, ROUND(AVG(sale_price),2) AS avg_price\n",
    "  FROM silver_sales GROUP BY strftime('%Y-%m', sale_date);\n",
    "'''); conn.commit()\n",
    "display(pd.read_sql_query(\"SELECT * FROM gold_sales_kpis\", conn))"
   ]
  }
 ],
 "metadata": {
  "kernelspec": {
   "display_name": "Python 3",
   "language": "python",
   "name": "python3"
  }
 },
 "nbformat": 4,
 "nbformat_minor": 5
}

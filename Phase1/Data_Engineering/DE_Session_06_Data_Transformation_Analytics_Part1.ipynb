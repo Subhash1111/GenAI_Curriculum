{
 "cells": [
  {
   "cell_type": "markdown",
   "id": "da66a6c0",
   "metadata": {},
   "source": [
    "# Session 6 — Part 1: Data Transformation Fundamentals\n",
    "Deep dive into **ETL vs ELT**, layered architectures, transformation patterns, and performance tuning — with real-world examples."
   ]
  },
  {
   "cell_type": "markdown",
   "id": "d24f5b18",
   "metadata": {},
   "source": [
    "## 🧩 1️⃣ What Is Data Transformation & Why It Matters\n",
    "Transforms **raw** data into **business-ready** datasets. Enables analytics, reporting, ML, and decisions.\n",
    "\n",
    "### Real-World Scenarios\n",
    "- **E‑commerce:** clicks → carts → orders → *daily sales summaries*.\n",
    "- **Healthcare:** vitals + EMR → standardized metrics → *trend analysis*.\n",
    "- **Banking:** transactions → cleansed & enriched → *fraud dashboards*."
   ]
  },
  {
   "cell_type": "markdown",
   "id": "197449a4",
   "metadata": {},
   "source": [
    "## ⚙️ 2️⃣ ETL vs ELT — Two Approaches\n",
    "\n",
    "| Aspect | ETL (Extract‑Transform‑Load) | ELT (Extract‑Load‑Transform) |\n",
    "|---|---|---|\n",
    "| **Compute** | Outside warehouse (Spark/Glue) | Inside warehouse (SQL/DBT) |\n",
    "| **Latency** | Often higher | Lower via parallel SQL |\n",
    "| **When** | Clean/secure **before** storing | Modern clouds; cheap scalable compute |\n",
    "| **Tools** | SSIS, Informatica, Glue ETL | dbt, Snowflake Tasks, BigQuery SQL, Synapse |\n",
    "\n",
    "**Rule of thumb:** Use **ETL** when pre‑load scrubbing or PII removal is mandatory; **ELT** when the warehouse is your workhorse."
   ]
  },
  {
   "cell_type": "markdown",
   "id": "e1c2a90a",
   "metadata": {},
   "source": [
    "## 🧱 3️⃣ Multi‑Layered Architecture\n",
    "```\n",
    "Raw  →  Staging  →  Curated  →  Data Mart  →  BI / ML / API\n",
    "```\n",
    "| Layer | Purpose | Example Transformation |\n",
    "|---|---|---|\n",
    "| Raw | Immutable source copy | Land CSV/JSON as‑is |\n",
    "| Staging | Basic type/format cleanup | Cast dates, trim strings, dedupe |\n",
    "| Curated | Business modeling (facts/dims) | Join orders+customers → FactSales |\n",
    "| Data Mart | Domain views | Regional Sales, Customer 360 |\n",
    "| Analytics | Consumption | Dashboards, feature store |"
   ]
  },
  {
   "cell_type": "markdown",
   "id": "24af346f",
   "metadata": {},
   "source": [
    "## 🧮 4️⃣ Transformation Patterns (SQL)\n",
    "**Row/Column:**\n",
    "```sql\n",
    "SELECT CAST(order_date AS DATE) AS order_date,\n",
    "       amount, tax, amount+tax AS total_amount\n",
    "FROM staging.sales\n",
    "WHERE amount > 0;\n",
    "```\n",
    "**Join:**\n",
    "```sql\n",
    "SELECT o.order_id, c.customer_name\n",
    "FROM curated.orders o\n",
    "JOIN curated.customers c ON o.customer_id = c.id;\n",
    "```\n",
    "**Aggregate:**\n",
    "```sql\n",
    "CREATE OR REPLACE TABLE mart.sales_by_region AS\n",
    "SELECT region, SUM(amount) AS total_sales\n",
    "FROM curated.fact_sales\n",
    "GROUP BY region;\n",
    "```\n",
    "**Conditional:**\n",
    "```sql\n",
    "CASE WHEN country IN ('US','CA') THEN 'NA' ELSE 'Other' END AS region_group\n",
    "```"
   ]
  },
  {
   "cell_type": "markdown",
   "id": "ac925787",
   "metadata": {},
   "source": [
    "## ⚡ 5️⃣ Performance Optimization\n",
    "| Technique | Why it helps | Example |\n",
    "|---|---|---|\n",
    "| Partitioning | Smaller scans | `.../year=2025/month=10/` in Parquet |\n",
    "| Predicate Pushdown | Filter early | `WHERE event_dt >= CURRENT_DATE - 7` |\n",
    "| Columnar Formats | Less I/O | Parquet / ORC |\n",
    "| Materialized Views | Cache heavy queries | `CREATE MATERIALIZED VIEW ...` |\n",
    "| Broadcast Joins | Faster small‑to‑large joins | Spark `broadcast(dim)` |"
   ]
  },
  {
   "cell_type": "markdown",
   "id": "08f857f4",
   "metadata": {},
   "source": [
    "## 🧰 6️⃣ Tooling Map\n",
    "| Category | Tools |\n",
    "|---|---|\n",
    "| SQL Transform | dbt, warehouse SQL (Snowflake/Redshift/BigQuery/Synapse) |\n",
    "| Distributed | Spark, Databricks, Flink |\n",
    "| Orchestration | Airflow, ADF, Glue Workflows |\n",
    "| Lightweight Analytics | DuckDB, Polars |"
   ]
  },
  {
   "cell_type": "markdown",
   "id": "3b6bb9e9",
   "metadata": {},
   "source": [
    "## 🖼️ 7️⃣ Visual — Layered Transformation Flow"
   ]
  },
  {
   "cell_type": "code",
   "execution_count": null,
   "id": "87b9d583",
   "metadata": {},
   "outputs": [],
   "source": [
    "import matplotlib.pyplot as plt\n",
    "from matplotlib.patches import FancyBboxPatch\n",
    "\n",
    "BG = '#e6f0ff'; FILL = '#e6f0ff'; EDGE = '#2563eb'; TXT = '#111827'\n",
    "W, H, GAP, PAD = 0.19, 0.22, 0.06, 0.01\n",
    "Y0 = 0.39\n",
    "labels = [\n",
    "    ('Raw', 'Land CSV/JSON'),\n",
    "    ('Staging', 'Type cast / dedupe'),\n",
    "    ('Curated', 'Facts & Dims'),\n",
    "    ('Data Mart', 'Subject-area views'),\n",
    "    ('Analytics', 'BI / ML / API')\n",
    "]\n",
    "fig, ax = plt.subplots(figsize=(12, 3.8))\n",
    "fig.patch.set_facecolor(BG); ax.set_facecolor(BG); ax.set_axis_off()\n",
    "ax.set_xlim(0,1); ax.set_ylim(0,1)\n",
    "total_w = len(labels)*W + (len(labels)-1)*GAP\n",
    "x0 = (1-total_w)/2\n",
    "xs = [x0 + i*(W+GAP) for i in range(len(labels))]\n",
    "def box(x, t, s):\n",
    "    r = FancyBboxPatch((x, Y0), W, H, boxstyle='round,pad=0.02,rounding_size=10', fc=FILL, ec=EDGE, lw=1.6)\n",
    "    ax.add_patch(r)\n",
    "    ax.text(x+W/2, Y0+H*0.62, t, ha='center', va='center', fontsize=10, color=TXT, fontweight='bold')\n",
    "    ax.text(x+W/2, Y0+H*0.36, s, ha='center', va='center', fontsize=9, color=TXT)\n",
    "for (t,s), x in zip(labels, xs):\n",
    "    box(x,t,s)\n",
    "y = Y0 + H/2\n",
    "for i in range(len(xs)-1):\n",
    "    ax.annotate('', xy=(xs[i+1]-PAD, y), xytext=(xs[i]+W+PAD, y),\n",
    "                arrowprops=dict(arrowstyle='->', lw=2, color='#4b5563', mutation_scale=12))\n",
    "plt.tight_layout(); plt.show()\n"
   ]
  },
  {
   "cell_type": "markdown",
   "id": "07d325f0",
   "metadata": {},
   "source": [
    "## 💡 8️⃣ Practice\n",
    "1) Sketch your raw→staging→curated pipeline.\n",
    "2) Write a SQL transform that cleans and aggregates orders by region.\n",
    "3) Compare CSV vs Parquet query times on the same query.\n",
    "4) Add Session 5 quality checks after transformation."
   ]
  }
 ],
 "metadata": {
  "kernelspec": {
   "display_name": "Python 3",
   "language": "python",
   "name": "python3"
  }
 },
 "nbformat": 4,
 "nbformat_minor": 5
}

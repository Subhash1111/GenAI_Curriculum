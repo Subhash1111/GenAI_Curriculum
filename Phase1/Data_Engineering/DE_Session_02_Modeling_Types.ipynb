{
 "cells": [
  {
   "cell_type": "markdown",
   "id": "5e3ed712",
   "metadata": {},
   "source": [
    "# Session 2 — Relational Modeling & Data Types\n",
    "\n",
    "Model an OLTP schema, define keys, and inspect constraints. Visualize table sizes.\n"
   ]
  },
  {
   "cell_type": "markdown",
   "id": "910cac45",
   "metadata": {},
   "source": [
    "## Environment Setup"
   ]
  },
  {
   "cell_type": "code",
   "execution_count": 1,
   "id": "20c967d0",
   "metadata": {},
   "outputs": [
    {
     "name": "stdout",
     "output_type": "stream",
     "text": [
      "3.11.9 (v3.11.9:de54cf5be3, Apr  2 2024, 07:12:50) [Clang 13.0.0 (clang-1300.0.29.30)]\n",
      "SQLite ready at /Users/subhasht/Desktop/VSCode Programs/GenAI_Curriculum/Phase1/Data_Engineering/course.db\n"
     ]
    }
   ],
   "source": [
    "import sys, sqlite3, pandas as pd, numpy as np, matplotlib.pyplot as plt\n",
    "print(sys.version)\n",
    "import seaborn as sns\n",
    "sns.set_theme()\n",
    "from pathlib import Path\n",
    "DB_PATH = Path('course.db')\n",
    "conn = sqlite3.connect(DB_PATH)\n",
    "conn.execute('PRAGMA foreign_keys=ON;')\n",
    "print('SQLite ready at', DB_PATH.resolve())"
   ]
  },
  {
   "cell_type": "code",
   "execution_count": 2,
   "id": "4ad5ef57",
   "metadata": {},
   "outputs": [],
   "source": [
    "def run_sql(q, params=None):\n",
    "    params = params or {}\n",
    "    df = pd.read_sql_query(q, conn, params=params)\n",
    "    display(df)\n",
    "    return df"
   ]
  },
  {
   "cell_type": "markdown",
   "id": "b7394c99",
   "metadata": {},
   "source": [
    "## 1. Keys & Relationships\n",
    "- **Primary Key (PK):** unique identifier in a table  \n",
    "- **Foreign Key (FK):** references a PK in another table\n",
    "\n",
    "We'll extend Session 1 by adding `orders`, `order_items`, and `shippers`."
   ]
  },
  {
   "cell_type": "code",
   "execution_count": 3,
   "id": "53d292df",
   "metadata": {},
   "outputs": [
    {
     "name": "stdout",
     "output_type": "stream",
     "text": [
      "Extended schema created.\n"
     ]
    }
   ],
   "source": [
    "conn.executescript('''\n",
    "DROP TABLE IF EXISTS shippers;\n",
    "DROP TABLE IF EXISTS orders;\n",
    "DROP TABLE IF EXISTS order_items;\n",
    "CREATE TABLE shippers(\n",
    "  shipper_id INTEGER PRIMARY KEY,\n",
    "  name TEXT NOT NULL\n",
    ");\n",
    "CREATE TABLE orders(\n",
    "  order_id INTEGER PRIMARY KEY,\n",
    "  customer_id INTEGER NOT NULL,\n",
    "  order_date TEXT NOT NULL,\n",
    "  shipper_id INTEGER,\n",
    "  FOREIGN KEY(customer_id) REFERENCES customers(customer_id),\n",
    "  FOREIGN KEY(shipper_id) REFERENCES shippers(shipper_id)\n",
    ");\n",
    "CREATE TABLE order_items(\n",
    "  order_item_id INTEGER PRIMARY KEY,\n",
    "  order_id INTEGER NOT NULL,\n",
    "  product_id INTEGER NOT NULL,\n",
    "  quantity INTEGER NOT NULL CHECK(quantity>0),\n",
    "  FOREIGN KEY(order_id) REFERENCES orders(order_id),\n",
    "  FOREIGN KEY(product_id) REFERENCES products(product_id)\n",
    ");\n",
    "INSERT INTO shippers(name) VALUES ('Postal Express'),('GoFast'),('Eagle Air');\n",
    "INSERT INTO orders(customer_id,order_date,shipper_id) VALUES\n",
    " (1,'2024-10-01',1),(1,'2024-10-05',2),(2,'2024-11-02',2),(3,'2024-11-03',3);\n",
    "INSERT INTO order_items(order_id,product_id,quantity) VALUES\n",
    " (1,1,2),(1,4,3),(2,3,1),(3,2,2),(4,3,1);\n",
    "'''); conn.commit()\n",
    "print(\"Extended schema created.\")"
   ]
  },
  {
   "cell_type": "markdown",
   "id": "7c3ec61c",
   "metadata": {},
   "source": [
    "## 2. Inspecting Schema"
   ]
  },
  {
   "cell_type": "code",
   "execution_count": 4,
   "id": "cca7f6d2",
   "metadata": {},
   "outputs": [
    {
     "data": {
      "text/html": [
       "<div>\n",
       "<style scoped>\n",
       "    .dataframe tbody tr th:only-of-type {\n",
       "        vertical-align: middle;\n",
       "    }\n",
       "\n",
       "    .dataframe tbody tr th {\n",
       "        vertical-align: top;\n",
       "    }\n",
       "\n",
       "    .dataframe thead th {\n",
       "        text-align: right;\n",
       "    }\n",
       "</style>\n",
       "<table border=\"1\" class=\"dataframe\">\n",
       "  <thead>\n",
       "    <tr style=\"text-align: right;\">\n",
       "      <th></th>\n",
       "      <th>cid</th>\n",
       "      <th>name</th>\n",
       "      <th>type</th>\n",
       "      <th>notnull</th>\n",
       "      <th>dflt_value</th>\n",
       "      <th>pk</th>\n",
       "    </tr>\n",
       "  </thead>\n",
       "  <tbody>\n",
       "    <tr>\n",
       "      <th>0</th>\n",
       "      <td>0</td>\n",
       "      <td>order_id</td>\n",
       "      <td>INTEGER</td>\n",
       "      <td>0</td>\n",
       "      <td>None</td>\n",
       "      <td>1</td>\n",
       "    </tr>\n",
       "    <tr>\n",
       "      <th>1</th>\n",
       "      <td>1</td>\n",
       "      <td>customer_id</td>\n",
       "      <td>INTEGER</td>\n",
       "      <td>1</td>\n",
       "      <td>None</td>\n",
       "      <td>0</td>\n",
       "    </tr>\n",
       "    <tr>\n",
       "      <th>2</th>\n",
       "      <td>2</td>\n",
       "      <td>order_date</td>\n",
       "      <td>TEXT</td>\n",
       "      <td>1</td>\n",
       "      <td>None</td>\n",
       "      <td>0</td>\n",
       "    </tr>\n",
       "    <tr>\n",
       "      <th>3</th>\n",
       "      <td>3</td>\n",
       "      <td>shipper_id</td>\n",
       "      <td>INTEGER</td>\n",
       "      <td>0</td>\n",
       "      <td>None</td>\n",
       "      <td>0</td>\n",
       "    </tr>\n",
       "  </tbody>\n",
       "</table>\n",
       "</div>"
      ],
      "text/plain": [
       "   cid         name     type  notnull dflt_value  pk\n",
       "0    0     order_id  INTEGER        0       None   1\n",
       "1    1  customer_id  INTEGER        1       None   0\n",
       "2    2   order_date     TEXT        1       None   0\n",
       "3    3   shipper_id  INTEGER        0       None   0"
      ]
     },
     "metadata": {},
     "output_type": "display_data"
    },
    {
     "data": {
      "text/html": [
       "<div>\n",
       "<style scoped>\n",
       "    .dataframe tbody tr th:only-of-type {\n",
       "        vertical-align: middle;\n",
       "    }\n",
       "\n",
       "    .dataframe tbody tr th {\n",
       "        vertical-align: top;\n",
       "    }\n",
       "\n",
       "    .dataframe thead th {\n",
       "        text-align: right;\n",
       "    }\n",
       "</style>\n",
       "<table border=\"1\" class=\"dataframe\">\n",
       "  <thead>\n",
       "    <tr style=\"text-align: right;\">\n",
       "      <th></th>\n",
       "      <th>id</th>\n",
       "      <th>seq</th>\n",
       "      <th>table</th>\n",
       "      <th>from</th>\n",
       "      <th>to</th>\n",
       "      <th>on_update</th>\n",
       "      <th>on_delete</th>\n",
       "      <th>match</th>\n",
       "    </tr>\n",
       "  </thead>\n",
       "  <tbody>\n",
       "    <tr>\n",
       "      <th>0</th>\n",
       "      <td>0</td>\n",
       "      <td>0</td>\n",
       "      <td>products</td>\n",
       "      <td>product_id</td>\n",
       "      <td>product_id</td>\n",
       "      <td>NO ACTION</td>\n",
       "      <td>NO ACTION</td>\n",
       "      <td>NONE</td>\n",
       "    </tr>\n",
       "    <tr>\n",
       "      <th>1</th>\n",
       "      <td>1</td>\n",
       "      <td>0</td>\n",
       "      <td>orders</td>\n",
       "      <td>order_id</td>\n",
       "      <td>order_id</td>\n",
       "      <td>NO ACTION</td>\n",
       "      <td>NO ACTION</td>\n",
       "      <td>NONE</td>\n",
       "    </tr>\n",
       "  </tbody>\n",
       "</table>\n",
       "</div>"
      ],
      "text/plain": [
       "   id  seq     table        from          to  on_update  on_delete match\n",
       "0   0    0  products  product_id  product_id  NO ACTION  NO ACTION  NONE\n",
       "1   1    0    orders    order_id    order_id  NO ACTION  NO ACTION  NONE"
      ]
     },
     "metadata": {},
     "output_type": "display_data"
    },
    {
     "data": {
      "text/html": [
       "<div>\n",
       "<style scoped>\n",
       "    .dataframe tbody tr th:only-of-type {\n",
       "        vertical-align: middle;\n",
       "    }\n",
       "\n",
       "    .dataframe tbody tr th {\n",
       "        vertical-align: top;\n",
       "    }\n",
       "\n",
       "    .dataframe thead th {\n",
       "        text-align: right;\n",
       "    }\n",
       "</style>\n",
       "<table border=\"1\" class=\"dataframe\">\n",
       "  <thead>\n",
       "    <tr style=\"text-align: right;\">\n",
       "      <th></th>\n",
       "      <th>id</th>\n",
       "      <th>seq</th>\n",
       "      <th>table</th>\n",
       "      <th>from</th>\n",
       "      <th>to</th>\n",
       "      <th>on_update</th>\n",
       "      <th>on_delete</th>\n",
       "      <th>match</th>\n",
       "    </tr>\n",
       "  </thead>\n",
       "  <tbody>\n",
       "    <tr>\n",
       "      <th>0</th>\n",
       "      <td>0</td>\n",
       "      <td>0</td>\n",
       "      <td>products</td>\n",
       "      <td>product_id</td>\n",
       "      <td>product_id</td>\n",
       "      <td>NO ACTION</td>\n",
       "      <td>NO ACTION</td>\n",
       "      <td>NONE</td>\n",
       "    </tr>\n",
       "    <tr>\n",
       "      <th>1</th>\n",
       "      <td>1</td>\n",
       "      <td>0</td>\n",
       "      <td>orders</td>\n",
       "      <td>order_id</td>\n",
       "      <td>order_id</td>\n",
       "      <td>NO ACTION</td>\n",
       "      <td>NO ACTION</td>\n",
       "      <td>NONE</td>\n",
       "    </tr>\n",
       "  </tbody>\n",
       "</table>\n",
       "</div>"
      ],
      "text/plain": [
       "   id  seq     table        from          to  on_update  on_delete match\n",
       "0   0    0  products  product_id  product_id  NO ACTION  NO ACTION  NONE\n",
       "1   1    0    orders    order_id    order_id  NO ACTION  NO ACTION  NONE"
      ]
     },
     "execution_count": 4,
     "metadata": {},
     "output_type": "execute_result"
    }
   ],
   "source": [
    "run_sql(\"PRAGMA table_info('orders');\")\n",
    "run_sql(\"PRAGMA foreign_key_list('order_items');\")"
   ]
  },
  {
   "cell_type": "markdown",
   "id": "f9c22b7e",
   "metadata": {},
   "source": [
    "## 3. Quick Visual — Order Items by Product"
   ]
  },
  {
   "cell_type": "code",
   "execution_count": 5,
   "id": "8a446d6c",
   "metadata": {},
   "outputs": [
    {
     "data": {
      "image/png": "[encoded data removed]",
      "text/plain": [
       "<Figure size 640x480 with 1 Axes>"
      ]
     },
     "metadata": {},
     "output_type": "display_data"
    }
   ],
   "source": [
    "df = pd.read_sql_query('''\n",
    "SELECT p.product, SUM(oi.quantity) AS qty\n",
    "FROM order_items oi JOIN products p ON oi.product_id=p.product_id\n",
    "GROUP BY p.product ORDER BY qty DESC;\n",
    "''', conn)\n",
    "sns.barplot(data=df, x=\"product\", y=\"qty\")\n",
    "plt.title(\"Quantity by Product\"); plt.xlabel(\"Product\"); plt.ylabel(\"Quantity\"); plt.show()"
   ]
  }
 ],
 "metadata": {
  "kernelspec": {
   "display_name": "Python 3",
   "language": "python",
   "name": "python3"
  },
  "language_info": {
   "codemirror_mode": {
    "name": "ipython",
    "version": 3
   },
   "file_extension": ".py",
   "mimetype": "text/x-python",
   "name": "python",
   "nbconvert_exporter": "python",
   "pygments_lexer": "ipython3",
   "version": "3.11.9"
  }
 },
 "nbformat": 4,
 "nbformat_minor": 5
}

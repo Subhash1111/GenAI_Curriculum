{
 "cells": [
  {
   "cell_type": "markdown",
   "id": "c0080f5e",
   "metadata": {},
   "source": [
    "# Capstone — Mini Real Estate Analytics Warehouse\n",
    "\n",
    "Design schema, load synthetic data, profile, clean, and analyze. Visualize with seaborn.\n"
   ]
  },
  {
   "cell_type": "markdown",
   "id": "5fbefb86",
   "metadata": {},
   "source": [
    "## Environment Setup"
   ]
  },
  {
   "cell_type": "code",
   "execution_count": 7,
   "id": "6b81b0ae",
   "metadata": {},
   "outputs": [
    {
     "name": "stdout",
     "output_type": "stream",
     "text": [
      "3.11.9 (v3.11.9:de54cf5be3, Apr  2 2024, 07:12:50) [Clang 13.0.0 (clang-1300.0.29.30)]\n",
      "SQLite ready at /Users/subhasht/Desktop/VSCode Programs/GenAI_Curriculum/Phase1/Data_Engineering/course.db\n"
     ]
    }
   ],
   "source": [
    "import sys, sqlite3, pandas as pd, numpy as np, matplotlib.pyplot as plt\n",
    "print(sys.version)\n",
    "import seaborn as sns\n",
    "sns.set_theme()\n",
    "from pathlib import Path\n",
    "DB_PATH = Path('course.db')\n",
    "conn = sqlite3.connect(DB_PATH)\n",
    "conn.execute('PRAGMA foreign_keys=ON;')\n",
    "print('SQLite ready at', DB_PATH.resolve())"
   ]
  },
  {
   "cell_type": "code",
   "execution_count": 8,
   "id": "15557fc9",
   "metadata": {},
   "outputs": [],
   "source": [
    "def run_sql(q, params=None):\n",
    "    params = params or {}\n",
    "    df = pd.read_sql_query(q, conn, params=params)\n",
    "    display(df)\n",
    "    return df"
   ]
  },
  {
   "cell_type": "markdown",
   "id": "6e9d470b",
   "metadata": {},
   "source": [
    "## 1. Problem Statement\n",
    "Build a mini warehouse for real estate analytics to answer:\n",
    "- Crerate few tables locations, agents,homes, sales\n",
    "- Insert sample data\n",
    "- Perform Data Cleaning and Profiling\n",
    "- Average price by city/state\n",
    "- Top agents by total sales\n",
    "- Trend of sales by month"
   ]
  },
  {
   "cell_type": "code",
   "execution_count": 9,
   "id": "320a9453",
   "metadata": {},
   "outputs": [
    {
     "ename": "IntegrityError",
     "evalue": "FOREIGN KEY constraint failed",
     "output_type": "error",
     "traceback": [
      "\u001b[31m---------------------------------------------------------------------------\u001b[39m",
      "\u001b[31mIntegrityError\u001b[39m                            Traceback (most recent call last)",
      "\u001b[36mCell\u001b[39m\u001b[36m \u001b[39m\u001b[32mIn[9]\u001b[39m\u001b[32m, line 2\u001b[39m\n\u001b[32m      1\u001b[39m \u001b[38;5;66;03m# Schema\u001b[39;00m\n\u001b[32m----> \u001b[39m\u001b[32m2\u001b[39m \u001b[43mconn\u001b[49m\u001b[43m.\u001b[49m\u001b[43mexecutescript\u001b[49m\u001b[43m(\u001b[49m\u001b[33;43m'''\u001b[39;49m\n\u001b[32m      3\u001b[39m \u001b[33;43mDROP TABLE IF EXISTS locations;\u001b[39;49m\n\u001b[32m      4\u001b[39m \u001b[33;43mDROP TABLE IF EXISTS agents;\u001b[39;49m\n\u001b[32m      5\u001b[39m \u001b[33;43mDROP TABLE IF EXISTS homes;\u001b[39;49m\n\u001b[32m      6\u001b[39m \u001b[33;43mDROP TABLE IF EXISTS sales;\u001b[39;49m\n\u001b[32m      7\u001b[39m \u001b[33;43mCREATE TABLE locations(\u001b[39;49m\n\u001b[32m      8\u001b[39m \u001b[33;43m  location_id INTEGER PRIMARY KEY,\u001b[39;49m\n\u001b[32m      9\u001b[39m \u001b[33;43m  city TEXT NOT NULL,\u001b[39;49m\n\u001b[32m     10\u001b[39m \u001b[33;43m  state TEXT NOT NULL\u001b[39;49m\n\u001b[32m     11\u001b[39m \u001b[33;43m);\u001b[39;49m\n\u001b[32m     12\u001b[39m \u001b[33;43mCREATE TABLE agents(\u001b[39;49m\n\u001b[32m     13\u001b[39m \u001b[33;43m  agent_id INTEGER PRIMARY KEY,\u001b[39;49m\n\u001b[32m     14\u001b[39m \u001b[33;43m  name TEXT NOT NULL\u001b[39;49m\n\u001b[32m     15\u001b[39m \u001b[33;43m);\u001b[39;49m\n\u001b[32m     16\u001b[39m \u001b[33;43mCREATE TABLE homes(\u001b[39;49m\n\u001b[32m     17\u001b[39m \u001b[33;43m  home_id INTEGER PRIMARY KEY,\u001b[39;49m\n\u001b[32m     18\u001b[39m \u001b[33;43m  location_id INTEGER NOT NULL,\u001b[39;49m\n\u001b[32m     19\u001b[39m \u001b[33;43m  bedrooms INTEGER NOT NULL,\u001b[39;49m\n\u001b[32m     20\u001b[39m \u001b[33;43m  bathrooms REAL NOT NULL,\u001b[39;49m\n\u001b[32m     21\u001b[39m \u001b[33;43m  sqft INTEGER NOT NULL,\u001b[39;49m\n\u001b[32m     22\u001b[39m \u001b[33;43m  home_type TEXT NOT NULL,\u001b[39;49m\n\u001b[32m     23\u001b[39m \u001b[33;43m  year_built INTEGER,\u001b[39;49m\n\u001b[32m     24\u001b[39m \u001b[33;43m  FOREIGN KEY(location_id) REFERENCES locations(location_id)\u001b[39;49m\n\u001b[32m     25\u001b[39m \u001b[33;43m);\u001b[39;49m\n\u001b[32m     26\u001b[39m \u001b[33;43mCREATE TABLE sales(\u001b[39;49m\n\u001b[32m     27\u001b[39m \u001b[33;43m  sale_id INTEGER PRIMARY KEY,\u001b[39;49m\n\u001b[32m     28\u001b[39m \u001b[33;43m  home_id INTEGER NOT NULL,\u001b[39;49m\n\u001b[32m     29\u001b[39m \u001b[33;43m  agent_id INTEGER NOT NULL,\u001b[39;49m\n\u001b[32m     30\u001b[39m \u001b[33;43m  sale_date TEXT NOT NULL,\u001b[39;49m\n\u001b[32m     31\u001b[39m \u001b[33;43m  sale_price REAL NOT NULL CHECK(sale_price>=0),\u001b[39;49m\n\u001b[32m     32\u001b[39m \u001b[33;43m  FOREIGN KEY(home_id) REFERENCES homes(home_id),\u001b[39;49m\n\u001b[32m     33\u001b[39m \u001b[33;43m  FOREIGN KEY(agent_id) REFERENCES agents(agent_id)\u001b[39;49m\n\u001b[32m     34\u001b[39m \u001b[33;43m);\u001b[39;49m\n\u001b[32m     35\u001b[39m \u001b[33;43m'''\u001b[39;49m\u001b[43m)\u001b[49m; conn.commit()\n\u001b[32m     36\u001b[39m \u001b[38;5;28mprint\u001b[39m(\u001b[33m\"\u001b[39m\u001b[33mCapstone schema ready.\u001b[39m\u001b[33m\"\u001b[39m)\n",
      "\u001b[31mIntegrityError\u001b[39m: FOREIGN KEY constraint failed"
     ]
    }
   ],
   "source": [
    "# Schema\n",
    "conn.executescript('''\n",
    "DROP TABLE IF EXISTS locations;\n",
    "DROP TABLE IF EXISTS agents;\n",
    "DROP TABLE IF EXISTS homes;\n",
    "DROP TABLE IF EXISTS sales;\n",
    "CREATE TABLE locations(\n",
    "  location_id INTEGER PRIMARY KEY,\n",
    "  city TEXT NOT NULL,\n",
    "  state TEXT NOT NULL\n",
    ");\n",
    "CREATE TABLE agents(\n",
    "  agent_id INTEGER PRIMARY KEY,\n",
    "  name TEXT NOT NULL\n",
    ");\n",
    "CREATE TABLE homes(\n",
    "  home_id INTEGER PRIMARY KEY,\n",
    "  location_id INTEGER NOT NULL,\n",
    "  bedrooms INTEGER NOT NULL,\n",
    "  bathrooms REAL NOT NULL,\n",
    "  sqft INTEGER NOT NULL,\n",
    "  home_type TEXT NOT NULL,\n",
    "  year_built INTEGER,\n",
    "  FOREIGN KEY(location_id) REFERENCES locations(location_id)\n",
    ");\n",
    "CREATE TABLE sales(\n",
    "  sale_id INTEGER PRIMARY KEY,\n",
    "  home_id INTEGER NOT NULL,\n",
    "  agent_id INTEGER NOT NULL,\n",
    "  sale_date TEXT NOT NULL,\n",
    "  sale_price REAL NOT NULL CHECK(sale_price>=0),\n",
    "  FOREIGN KEY(home_id) REFERENCES homes(home_id),\n",
    "  FOREIGN KEY(agent_id) REFERENCES agents(agent_id)\n",
    ");\n",
    "'''); conn.commit()\n",
    "print(\"Capstone schema ready.\")"
   ]
  },
  {
   "cell_type": "markdown",
   "id": "2c514031",
   "metadata": {},
   "source": [
    "## 2. Seed Synthetic Data"
   ]
  },
  {
   "cell_type": "code",
   "execution_count": null,
   "id": "57b135c9",
   "metadata": {},
   "outputs": [
    {
     "name": "stdout",
     "output_type": "stream",
     "text": [
      "Seeded synthetic data.\n"
     ]
    }
   ],
   "source": [
    "conn.executescript('''\n",
    "INSERT INTO locations(city,state) VALUES\n",
    " ('Austin','TX'),('Boston','MA'),('Chicago','IL'),('Denver','CO'),('Dallas','TX');\n",
    "INSERT INTO agents(name) VALUES ('Alex Kim'),('Priya Singh'),('Carlos M.'),('J. Rivera');\n",
    "INSERT INTO homes(location_id,bedrooms,bathrooms,sqft,home_type,year_built) VALUES\n",
    " (1,3,2.0,1600,'SingleFamily',2002),\n",
    " (1,4,2.5,2200,'SingleFamily',2010),\n",
    " (2,2,1.0,900,'Condo',1995),\n",
    " (3,3,2.0,1400,'Townhome',2008),\n",
    " (4,5,3.0,2800,'SingleFamily',2018),\n",
    " (5,3,2.0,1500,'SingleFamily',2005);\n",
    "INSERT INTO sales(home_id,agent_id,sale_date,sale_price) VALUES\n",
    " (1,1,'2024-05-11',420000),\n",
    " (2,2,'2024-06-20',630000),\n",
    " (3,2,'2024-03-03',390000),\n",
    " (4,3,'2024-09-01',415000),\n",
    " (5,1,'2024-02-14',780000),\n",
    " (6,4,'2024-08-21',455000);\n",
    "'''); conn.commit()\n",
    "print(\"Seeded synthetic data.\")"
   ]
  },
  {
   "cell_type": "markdown",
   "id": "a4fcb91f",
   "metadata": {},
   "source": [
    "## 3. Profiling & Cleaning"
   ]
  },
  {
   "cell_type": "code",
   "execution_count": null,
   "id": "c36c21aa",
   "metadata": {},
   "outputs": [
    {
     "data": {
      "text/html": [
       "<div>\n",
       "<style scoped>\n",
       "    .dataframe tbody tr th:only-of-type {\n",
       "        vertical-align: middle;\n",
       "    }\n",
       "\n",
       "    .dataframe tbody tr th {\n",
       "        vertical-align: top;\n",
       "    }\n",
       "\n",
       "    .dataframe thead th {\n",
       "        text-align: right;\n",
       "    }\n",
       "</style>\n",
       "<table border=\"1\" class=\"dataframe\">\n",
       "  <thead>\n",
       "    <tr style=\"text-align: right;\">\n",
       "      <th></th>\n",
       "      <th>n_sales</th>\n",
       "      <th>min_price</th>\n",
       "      <th>max_price</th>\n",
       "    </tr>\n",
       "  </thead>\n",
       "  <tbody>\n",
       "    <tr>\n",
       "      <th>0</th>\n",
       "      <td>6</td>\n",
       "      <td>390000.0</td>\n",
       "      <td>780000.0</td>\n",
       "    </tr>\n",
       "  </tbody>\n",
       "</table>\n",
       "</div>"
      ],
      "text/plain": [
       "   n_sales  min_price  max_price\n",
       "0        6   390000.0   780000.0"
      ]
     },
     "metadata": {},
     "output_type": "display_data"
    },
    {
     "data": {
      "image/png": "[encoded data removed]",
      "text/plain": [
       "<Figure size 640x480 with 1 Axes>"
      ]
     },
     "metadata": {},
     "output_type": "display_data"
    }
   ],
   "source": [
    "run_sql(\"SELECT COUNT(*) AS n_sales, MIN(sale_price) AS min_price, MAX(sale_price) AS max_price FROM sales;\")\n",
    "sns.histplot(pd.read_sql_query(\"SELECT sale_price FROM sales\", conn)['sale_price'], bins=10, kde=True)\n",
    "plt.title(\"Sale Price Distribution\"); plt.xlabel(\"Price\"); plt.ylabel(\"Count\"); plt.show()\n",
    "# Example cleanup: unify full state names to abbreviations if present\n",
    "conn.execute(\"UPDATE locations SET state='TX' WHERE state LIKE 'Texas';\"); conn.commit()"
   ]
  },
  {
   "cell_type": "markdown",
   "id": "89cd53ea",
   "metadata": {},
   "source": [
    "## 4. Analytics Queries + Visuals"
   ]
  },
  {
   "cell_type": "code",
   "execution_count": null,
   "id": "0832e72f",
   "metadata": {},
   "outputs": [
    {
     "data": {
      "text/html": [
       "<div>\n",
       "<style scoped>\n",
       "    .dataframe tbody tr th:only-of-type {\n",
       "        vertical-align: middle;\n",
       "    }\n",
       "\n",
       "    .dataframe tbody tr th {\n",
       "        vertical-align: top;\n",
       "    }\n",
       "\n",
       "    .dataframe thead th {\n",
       "        text-align: right;\n",
       "    }\n",
       "</style>\n",
       "<table border=\"1\" class=\"dataframe\">\n",
       "  <thead>\n",
       "    <tr style=\"text-align: right;\">\n",
       "      <th></th>\n",
       "      <th>city</th>\n",
       "      <th>avg_price</th>\n",
       "    </tr>\n",
       "  </thead>\n",
       "  <tbody>\n",
       "    <tr>\n",
       "      <th>0</th>\n",
       "      <td>Denver</td>\n",
       "      <td>780000.0</td>\n",
       "    </tr>\n",
       "    <tr>\n",
       "      <th>1</th>\n",
       "      <td>Austin</td>\n",
       "      <td>525000.0</td>\n",
       "    </tr>\n",
       "    <tr>\n",
       "      <th>2</th>\n",
       "      <td>Dallas</td>\n",
       "      <td>455000.0</td>\n",
       "    </tr>\n",
       "    <tr>\n",
       "      <th>3</th>\n",
       "      <td>Chicago</td>\n",
       "      <td>415000.0</td>\n",
       "    </tr>\n",
       "    <tr>\n",
       "      <th>4</th>\n",
       "      <td>Boston</td>\n",
       "      <td>390000.0</td>\n",
       "    </tr>\n",
       "  </tbody>\n",
       "</table>\n",
       "</div>"
      ],
      "text/plain": [
       "      city  avg_price\n",
       "0   Denver   780000.0\n",
       "1   Austin   525000.0\n",
       "2   Dallas   455000.0\n",
       "3  Chicago   415000.0\n",
       "4   Boston   390000.0"
      ]
     },
     "metadata": {},
     "output_type": "display_data"
    },
    {
     "data": {
      "image/png": "[encoded data removed]",
      "text/plain": [
       "<Figure size 640x480 with 1 Axes>"
      ]
     },
     "metadata": {},
     "output_type": "display_data"
    },
    {
     "data": {
      "text/html": [
       "<div>\n",
       "<style scoped>\n",
       "    .dataframe tbody tr th:only-of-type {\n",
       "        vertical-align: middle;\n",
       "    }\n",
       "\n",
       "    .dataframe tbody tr th {\n",
       "        vertical-align: top;\n",
       "    }\n",
       "\n",
       "    .dataframe thead th {\n",
       "        text-align: right;\n",
       "    }\n",
       "</style>\n",
       "<table border=\"1\" class=\"dataframe\">\n",
       "  <thead>\n",
       "    <tr style=\"text-align: right;\">\n",
       "      <th></th>\n",
       "      <th>name</th>\n",
       "      <th>total_sales</th>\n",
       "    </tr>\n",
       "  </thead>\n",
       "  <tbody>\n",
       "    <tr>\n",
       "      <th>0</th>\n",
       "      <td>Alex Kim</td>\n",
       "      <td>1200000.0</td>\n",
       "    </tr>\n",
       "    <tr>\n",
       "      <th>1</th>\n",
       "      <td>Priya Singh</td>\n",
       "      <td>1020000.0</td>\n",
       "    </tr>\n",
       "    <tr>\n",
       "      <th>2</th>\n",
       "      <td>J. Rivera</td>\n",
       "      <td>455000.0</td>\n",
       "    </tr>\n",
       "    <tr>\n",
       "      <th>3</th>\n",
       "      <td>Carlos M.</td>\n",
       "      <td>415000.0</td>\n",
       "    </tr>\n",
       "  </tbody>\n",
       "</table>\n",
       "</div>"
      ],
      "text/plain": [
       "          name  total_sales\n",
       "0     Alex Kim    1200000.0\n",
       "1  Priya Singh    1020000.0\n",
       "2    J. Rivera     455000.0\n",
       "3    Carlos M.     415000.0"
      ]
     },
     "metadata": {},
     "output_type": "display_data"
    },
    {
     "data": {
      "image/png": "[encoded data removed]",
      "text/plain": [
       "<Figure size 640x480 with 1 Axes>"
      ]
     },
     "metadata": {},
     "output_type": "display_data"
    }
   ],
   "source": [
    "avg_price = run_sql('''\n",
    "SELECT l.city, ROUND(AVG(s.sale_price),2) AS avg_price\n",
    "FROM sales s\n",
    "JOIN homes h ON s.home_id=h.home_id\n",
    "JOIN locations l ON h.location_id=l.location_id\n",
    "GROUP BY l.city ORDER BY avg_price DESC;\n",
    "''')\n",
    "sns.barplot(data=avg_price, x=\"city\", y=\"avg_price\"); plt.title(\"Average Price by City\"); plt.show()\n",
    "\n",
    "top_agents = run_sql('''\n",
    "SELECT a.name, ROUND(SUM(s.sale_price),2) AS total_sales\n",
    "FROM sales s JOIN agents a ON s.agent_id=a.agent_id\n",
    "GROUP BY a.name ORDER BY total_sales DESC;\n",
    "''')\n",
    "sns.barplot(data=top_agents, x=\"name\", y=\"total_sales\"); plt.title(\"Top Agents by Total Sales\"); plt.show()"
   ]
  }
 ],
 "metadata": {
  "kernelspec": {
   "display_name": "Python 3",
   "language": "python",
   "name": "python3"
  },
  "language_info": {
   "codemirror_mode": {
    "name": "ipython",
    "version": 3
   },
   "file_extension": ".py",
   "mimetype": "text/x-python",
   "name": "python",
   "nbconvert_exporter": "python",
   "pygments_lexer": "ipython3",
   "version": "3.11.9"
  }
 },
 "nbformat": 4,
 "nbformat_minor": 5
}

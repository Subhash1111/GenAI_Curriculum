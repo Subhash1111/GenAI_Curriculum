{
 "cells": [
  {
   "cell_type": "markdown",
   "id": "3cf51da2",
   "metadata": {},
   "source": [
    "# Session 1 — Data Engineering Overview & First SQL\n",
    "\n",
    "Understand the DE lifecycle and run your first SQL queries. Includes simple seaborn plots on synthetic data.\n"
   ]
  },
  {
   "cell_type": "markdown",
   "id": "2392d365",
   "metadata": {},
   "source": [
    "## Environment Setup"
   ]
  },
  {
   "cell_type": "code",
   "execution_count": null,
   "id": "63b44e07",
   "metadata": {},
   "outputs": [],
   "source": [
    "import sys, sqlite3, pandas as pd, numpy as np, matplotlib.pyplot as plt\n",
    "print(sys.version)\n",
    "import seaborn as sns\n",
    "sns.set_theme()\n",
    "from pathlib import Path\n",
    "DB_PATH = Path('course.db')\n",
    "conn = sqlite3.connect(DB_PATH)\n",
    "conn.execute('PRAGMA foreign_keys=ON;')\n",
    "print('SQLite ready at', DB_PATH.resolve())"
   ]
  },
  {
   "cell_type": "code",
   "execution_count": null,
   "id": "e8b733bb",
   "metadata": {},
   "outputs": [],
   "source": [
    "def run_sql(q, params=None):\n",
    "    params = params or {}\n",
    "    df = pd.read_sql_query(q, conn, params=params)\n",
    "    display(df)\n",
    "    return df"
   ]
  },
  {
   "cell_type": "markdown",
   "id": "65d63545",
   "metadata": {},
   "source": [
    "## 1. Data Engineering in a Nutshell\n",
    "**Lifecycle:** Ingest → Validate/Clean → Transform/Model → Store → Serve/Analyze → Orchestrate/Monitor  \n",
    "**Why SQL?** It's the universal language for querying structured data, building transformations, and validating quality.\n",
    "\n",
    "### Simple Data Pipeline Diagram (ASCII)\n",
    "```\n",
    "Sources -> [Ingest] -> [Staging] -> [Clean/Validate] -> [Transform] -> [Serve (BI/Data Science)]\n",
    "```"
   ]
  },
  {
   "cell_type": "code",
   "execution_count": null,
   "id": "a3d79fae",
   "metadata": {},
   "outputs": [],
   "source": [
    "# Seed two tiny tables\n",
    "conn.executescript('''\n",
    "DROP TABLE IF EXISTS customers;\n",
    "DROP TABLE IF EXISTS products;\n",
    "CREATE TABLE customers(\n",
    "  customer_id INTEGER PRIMARY KEY,\n",
    "  name TEXT NOT NULL,\n",
    "  city TEXT,\n",
    "  country TEXT,\n",
    "  address TEXT\n",
    ");\n",
    "CREATE TABLE products(\n",
    "  product_id INTEGER PRIMARY KEY,\n",
    "  product TEXT NOT NULL,\n",
    "  price REAL NOT NULL CHECK(price>=0)\n",
    ");\n",
    "INSERT INTO customers(name,city,country,address) VALUES\n",
    " ('Aria','Austin','USA','1 River Rd'),\n",
    " ('Ben','Berlin','Germany','Karlstr. 9'),\n",
    " ('Chloe','Chicago','USA',NULL),\n",
    " ('Dai','Denver','USA','11 Pine St');\n",
    "INSERT INTO products(product,price) VALUES\n",
    " ('Keyboard',39.99),('Mouse',19.5),('Monitor',189.0),('USB-C Cable',9.99);\n",
    "'''); conn.commit()\n",
    "print(\"Seeded tables.\")"
   ]
  },
  {
   "cell_type": "markdown",
   "id": "7d0141f2",
   "metadata": {},
   "source": [
    "## 2. First SQL Queries"
   ]
  },
  {
   "cell_type": "code",
   "execution_count": null,
   "id": "16cf8aeb",
   "metadata": {},
   "outputs": [],
   "source": [
    "run_sql(\"SELECT * FROM customers ORDER BY city, name;\");\n",
    "run_sql(\"SELECT product, price FROM products ORDER BY price DESC;\");"
   ]
  },
  {
   "cell_type": "markdown",
   "id": "e6ee23e9",
   "metadata": {},
   "source": [
    "## 3. Quick EDA with seaborn"
   ]
  },
  {
   "cell_type": "code",
   "execution_count": null,
   "id": "fb5241ed",
   "metadata": {},
   "outputs": [],
   "source": [
    "dfp = pd.read_sql_query(\"SELECT * FROM products;\", conn)\n",
    "sns.barplot(data=dfp, x=\"product\", y=\"price\")\n",
    "plt.title(\"Product Prices\")\n",
    "plt.xlabel(\"Product\"); plt.ylabel(\"Price\"); plt.show()"
   ]
  }
 ],
 "metadata": {
  "kernelspec": {
   "display_name": "Python 3",
   "language": "python",
   "name": "python3"
  }
 },
 "nbformat": 4,
 "nbformat_minor": 5
}

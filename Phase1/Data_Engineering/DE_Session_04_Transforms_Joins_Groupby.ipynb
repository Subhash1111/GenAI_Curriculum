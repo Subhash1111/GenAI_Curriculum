{
 "cells": [
  {
   "cell_type": "markdown",
   "id": "c4cc5195",
   "metadata": {},
   "source": [
    "# Session 4 — Transformations: Joins, Grouping, Pivoting\n",
    "\n",
    "Combine tables and create analytics-friendly shapes. Emulate pivots with conditional aggregation.\n"
   ]
  },
  {
   "cell_type": "markdown",
   "id": "e582faa1",
   "metadata": {},
   "source": [
    "## Environment Setup"
   ]
  },
  {
   "cell_type": "code",
   "execution_count": 1,
   "id": "be48539a",
   "metadata": {},
   "outputs": [
    {
     "name": "stdout",
     "output_type": "stream",
     "text": [
      "3.11.9 (v3.11.9:de54cf5be3, Apr  2 2024, 07:12:50) [Clang 13.0.0 (clang-1300.0.29.30)]\n",
      "SQLite ready at /Users/subhasht/Desktop/VSCode Programs/GenAI_Curriculum/Phase1/Data_Engineering/course.db\n"
     ]
    }
   ],
   "source": [
    "import sys, sqlite3, pandas as pd, numpy as np, matplotlib.pyplot as plt\n",
    "print(sys.version)\n",
    "import seaborn as sns\n",
    "sns.set_theme()\n",
    "from pathlib import Path\n",
    "DB_PATH = Path('course.db')\n",
    "conn = sqlite3.connect(DB_PATH)\n",
    "conn.execute('PRAGMA foreign_keys=ON;')\n",
    "print('SQLite ready at', DB_PATH.resolve())"
   ]
  },
  {
   "cell_type": "code",
   "execution_count": 2,
   "id": "83414215",
   "metadata": {},
   "outputs": [],
   "source": [
    "def run_sql(q, params=None):\n",
    "    params = params or {}\n",
    "    df = pd.read_sql_query(q, conn, params=params)\n",
    "    display(df)\n",
    "    return df"
   ]
  },
  {
   "cell_type": "markdown",
   "id": "d8f6ebda",
   "metadata": {},
   "source": [
    "## 1. Joins Refresher & Examples"
   ]
  },
  {
   "cell_type": "code",
   "execution_count": 3,
   "id": "666775f6",
   "metadata": {},
   "outputs": [
    {
     "data": {
      "text/html": [
       "<div>\n",
       "<style scoped>\n",
       "    .dataframe tbody tr th:only-of-type {\n",
       "        vertical-align: middle;\n",
       "    }\n",
       "\n",
       "    .dataframe tbody tr th {\n",
       "        vertical-align: top;\n",
       "    }\n",
       "\n",
       "    .dataframe thead th {\n",
       "        text-align: right;\n",
       "    }\n",
       "</style>\n",
       "<table border=\"1\" class=\"dataframe\">\n",
       "  <thead>\n",
       "    <tr style=\"text-align: right;\">\n",
       "      <th></th>\n",
       "      <th>order_id</th>\n",
       "      <th>customer</th>\n",
       "      <th>order_date</th>\n",
       "      <th>shipper</th>\n",
       "    </tr>\n",
       "  </thead>\n",
       "  <tbody>\n",
       "    <tr>\n",
       "      <th>0</th>\n",
       "      <td>1</td>\n",
       "      <td>Aria</td>\n",
       "      <td>2024-10-01</td>\n",
       "      <td>Postal Express</td>\n",
       "    </tr>\n",
       "    <tr>\n",
       "      <th>1</th>\n",
       "      <td>2</td>\n",
       "      <td>Aria</td>\n",
       "      <td>2024-10-05</td>\n",
       "      <td>GoFast</td>\n",
       "    </tr>\n",
       "    <tr>\n",
       "      <th>2</th>\n",
       "      <td>3</td>\n",
       "      <td>Ben</td>\n",
       "      <td>2024-11-02</td>\n",
       "      <td>GoFast</td>\n",
       "    </tr>\n",
       "    <tr>\n",
       "      <th>3</th>\n",
       "      <td>4</td>\n",
       "      <td>Chloe</td>\n",
       "      <td>2024-11-03</td>\n",
       "      <td>Eagle Air</td>\n",
       "    </tr>\n",
       "  </tbody>\n",
       "</table>\n",
       "</div>"
      ],
      "text/plain": [
       "   order_id customer  order_date         shipper\n",
       "0         1     Aria  2024-10-01  Postal Express\n",
       "1         2     Aria  2024-10-05          GoFast\n",
       "2         3      Ben  2024-11-02          GoFast\n",
       "3         4    Chloe  2024-11-03       Eagle Air"
      ]
     },
     "metadata": {},
     "output_type": "display_data"
    },
    {
     "data": {
      "text/html": [
       "<div>\n",
       "<style scoped>\n",
       "    .dataframe tbody tr th:only-of-type {\n",
       "        vertical-align: middle;\n",
       "    }\n",
       "\n",
       "    .dataframe tbody tr th {\n",
       "        vertical-align: top;\n",
       "    }\n",
       "\n",
       "    .dataframe thead th {\n",
       "        text-align: right;\n",
       "    }\n",
       "</style>\n",
       "<table border=\"1\" class=\"dataframe\">\n",
       "  <thead>\n",
       "    <tr style=\"text-align: right;\">\n",
       "      <th></th>\n",
       "      <th>order_id</th>\n",
       "      <th>customer</th>\n",
       "      <th>order_date</th>\n",
       "      <th>shipper</th>\n",
       "    </tr>\n",
       "  </thead>\n",
       "  <tbody>\n",
       "    <tr>\n",
       "      <th>0</th>\n",
       "      <td>1</td>\n",
       "      <td>Aria</td>\n",
       "      <td>2024-10-01</td>\n",
       "      <td>Postal Express</td>\n",
       "    </tr>\n",
       "    <tr>\n",
       "      <th>1</th>\n",
       "      <td>2</td>\n",
       "      <td>Aria</td>\n",
       "      <td>2024-10-05</td>\n",
       "      <td>GoFast</td>\n",
       "    </tr>\n",
       "    <tr>\n",
       "      <th>2</th>\n",
       "      <td>3</td>\n",
       "      <td>Ben</td>\n",
       "      <td>2024-11-02</td>\n",
       "      <td>GoFast</td>\n",
       "    </tr>\n",
       "    <tr>\n",
       "      <th>3</th>\n",
       "      <td>4</td>\n",
       "      <td>Chloe</td>\n",
       "      <td>2024-11-03</td>\n",
       "      <td>Eagle Air</td>\n",
       "    </tr>\n",
       "  </tbody>\n",
       "</table>\n",
       "</div>"
      ],
      "text/plain": [
       "   order_id customer  order_date         shipper\n",
       "0         1     Aria  2024-10-01  Postal Express\n",
       "1         2     Aria  2024-10-05          GoFast\n",
       "2         3      Ben  2024-11-02          GoFast\n",
       "3         4    Chloe  2024-11-03       Eagle Air"
      ]
     },
     "execution_count": 3,
     "metadata": {},
     "output_type": "execute_result"
    }
   ],
   "source": [
    "run_sql('''\n",
    "SELECT o.order_id, c.name AS customer, o.order_date, s.name AS shipper\n",
    "FROM orders o\n",
    "JOIN customers c ON o.customer_id=c.customer_id\n",
    "LEFT JOIN shippers s ON o.shipper_id=s.shipper_id\n",
    "ORDER BY o.order_id;\n",
    "''')"
   ]
  },
  {
   "cell_type": "markdown",
   "id": "0ccd1225",
   "metadata": {},
   "source": [
    "## 2. Aggregations and HAVING"
   ]
  },
  {
   "cell_type": "code",
   "execution_count": 4,
   "id": "f5606b3c",
   "metadata": {},
   "outputs": [
    {
     "data": {
      "text/html": [
       "<div>\n",
       "<style scoped>\n",
       "    .dataframe tbody tr th:only-of-type {\n",
       "        vertical-align: middle;\n",
       "    }\n",
       "\n",
       "    .dataframe tbody tr th {\n",
       "        vertical-align: top;\n",
       "    }\n",
       "\n",
       "    .dataframe thead th {\n",
       "        text-align: right;\n",
       "    }\n",
       "</style>\n",
       "<table border=\"1\" class=\"dataframe\">\n",
       "  <thead>\n",
       "    <tr style=\"text-align: right;\">\n",
       "      <th></th>\n",
       "      <th>city</th>\n",
       "      <th>revenue</th>\n",
       "    </tr>\n",
       "  </thead>\n",
       "  <tbody>\n",
       "    <tr>\n",
       "      <th>0</th>\n",
       "      <td>Austin</td>\n",
       "      <td>298.95</td>\n",
       "    </tr>\n",
       "    <tr>\n",
       "      <th>1</th>\n",
       "      <td>Chicago</td>\n",
       "      <td>189.00</td>\n",
       "    </tr>\n",
       "  </tbody>\n",
       "</table>\n",
       "</div>"
      ],
      "text/plain": [
       "      city  revenue\n",
       "0   Austin   298.95\n",
       "1  Chicago   189.00"
      ]
     },
     "metadata": {},
     "output_type": "display_data"
    },
    {
     "data": {
      "text/html": [
       "<div>\n",
       "<style scoped>\n",
       "    .dataframe tbody tr th:only-of-type {\n",
       "        vertical-align: middle;\n",
       "    }\n",
       "\n",
       "    .dataframe tbody tr th {\n",
       "        vertical-align: top;\n",
       "    }\n",
       "\n",
       "    .dataframe thead th {\n",
       "        text-align: right;\n",
       "    }\n",
       "</style>\n",
       "<table border=\"1\" class=\"dataframe\">\n",
       "  <thead>\n",
       "    <tr style=\"text-align: right;\">\n",
       "      <th></th>\n",
       "      <th>city</th>\n",
       "      <th>revenue</th>\n",
       "    </tr>\n",
       "  </thead>\n",
       "  <tbody>\n",
       "    <tr>\n",
       "      <th>0</th>\n",
       "      <td>Austin</td>\n",
       "      <td>298.95</td>\n",
       "    </tr>\n",
       "    <tr>\n",
       "      <th>1</th>\n",
       "      <td>Chicago</td>\n",
       "      <td>189.00</td>\n",
       "    </tr>\n",
       "  </tbody>\n",
       "</table>\n",
       "</div>"
      ],
      "text/plain": [
       "      city  revenue\n",
       "0   Austin   298.95\n",
       "1  Chicago   189.00"
      ]
     },
     "execution_count": 4,
     "metadata": {},
     "output_type": "execute_result"
    }
   ],
   "source": [
    "run_sql('''\n",
    "SELECT c.city, SUM(oi.quantity*p.price) AS revenue\n",
    "FROM orders o\n",
    "JOIN order_items oi ON o.order_id=oi.order_id\n",
    "JOIN products p ON oi.product_id=p.product_id\n",
    "JOIN customers c ON o.customer_id=c.customer_id\n",
    "GROUP BY c.city\n",
    "HAVING revenue > 100\n",
    "ORDER BY revenue DESC;\n",
    "''')"
   ]
  },
  {
   "cell_type": "markdown",
   "id": "0e1409c4",
   "metadata": {},
   "source": [
    "## 3. Pivot-Style Summary (Conditional Aggregation)"
   ]
  },
  {
   "cell_type": "code",
   "execution_count": 5,
   "id": "6ff28308",
   "metadata": {},
   "outputs": [
    {
     "data": {
      "text/html": [
       "<div>\n",
       "<style scoped>\n",
       "    .dataframe tbody tr th:only-of-type {\n",
       "        vertical-align: middle;\n",
       "    }\n",
       "\n",
       "    .dataframe tbody tr th {\n",
       "        vertical-align: top;\n",
       "    }\n",
       "\n",
       "    .dataframe thead th {\n",
       "        text-align: right;\n",
       "    }\n",
       "</style>\n",
       "<table border=\"1\" class=\"dataframe\">\n",
       "  <thead>\n",
       "    <tr style=\"text-align: right;\">\n",
       "      <th></th>\n",
       "      <th>country</th>\n",
       "      <th>keyboards</th>\n",
       "      <th>mice</th>\n",
       "      <th>monitors</th>\n",
       "      <th>cables</th>\n",
       "    </tr>\n",
       "  </thead>\n",
       "  <tbody>\n",
       "    <tr>\n",
       "      <th>0</th>\n",
       "      <td>Germany</td>\n",
       "      <td>0</td>\n",
       "      <td>2</td>\n",
       "      <td>0</td>\n",
       "      <td>0</td>\n",
       "    </tr>\n",
       "    <tr>\n",
       "      <th>1</th>\n",
       "      <td>USA</td>\n",
       "      <td>2</td>\n",
       "      <td>0</td>\n",
       "      <td>2</td>\n",
       "      <td>3</td>\n",
       "    </tr>\n",
       "  </tbody>\n",
       "</table>\n",
       "</div>"
      ],
      "text/plain": [
       "   country  keyboards  mice  monitors  cables\n",
       "0  Germany          0     2         0       0\n",
       "1      USA          2     0         2       3"
      ]
     },
     "metadata": {},
     "output_type": "display_data"
    },
    {
     "data": {
      "text/html": [
       "<div>\n",
       "<style scoped>\n",
       "    .dataframe tbody tr th:only-of-type {\n",
       "        vertical-align: middle;\n",
       "    }\n",
       "\n",
       "    .dataframe tbody tr th {\n",
       "        vertical-align: top;\n",
       "    }\n",
       "\n",
       "    .dataframe thead th {\n",
       "        text-align: right;\n",
       "    }\n",
       "</style>\n",
       "<table border=\"1\" class=\"dataframe\">\n",
       "  <thead>\n",
       "    <tr style=\"text-align: right;\">\n",
       "      <th></th>\n",
       "      <th>country</th>\n",
       "      <th>keyboards</th>\n",
       "      <th>mice</th>\n",
       "      <th>monitors</th>\n",
       "      <th>cables</th>\n",
       "    </tr>\n",
       "  </thead>\n",
       "  <tbody>\n",
       "    <tr>\n",
       "      <th>0</th>\n",
       "      <td>Germany</td>\n",
       "      <td>0</td>\n",
       "      <td>2</td>\n",
       "      <td>0</td>\n",
       "      <td>0</td>\n",
       "    </tr>\n",
       "    <tr>\n",
       "      <th>1</th>\n",
       "      <td>USA</td>\n",
       "      <td>2</td>\n",
       "      <td>0</td>\n",
       "      <td>2</td>\n",
       "      <td>3</td>\n",
       "    </tr>\n",
       "  </tbody>\n",
       "</table>\n",
       "</div>"
      ],
      "text/plain": [
       "   country  keyboards  mice  monitors  cables\n",
       "0  Germany          0     2         0       0\n",
       "1      USA          2     0         2       3"
      ]
     },
     "execution_count": 5,
     "metadata": {},
     "output_type": "execute_result"
    }
   ],
   "source": [
    "run_sql('''\n",
    "SELECT c.country,\n",
    "       SUM(CASE WHEN p.product='Keyboard' THEN oi.quantity ELSE 0 END) AS keyboards,\n",
    "       SUM(CASE WHEN p.product='Mouse' THEN oi.quantity ELSE 0 END) AS mice,\n",
    "       SUM(CASE WHEN p.product='Monitor' THEN oi.quantity ELSE 0 END) AS monitors,\n",
    "       SUM(CASE WHEN p.product='USB-C Cable' THEN oi.quantity ELSE 0 END) AS cables\n",
    "FROM orders o\n",
    "JOIN order_items oi ON o.order_id=oi.order_id\n",
    "JOIN products p ON oi.product_id=p.product_id\n",
    "JOIN customers c ON o.customer_id=c.customer_id\n",
    "GROUP BY c.country\n",
    "ORDER BY c.country;\n",
    "''')"
   ]
  },
  {
   "cell_type": "markdown",
   "id": "e713cd91",
   "metadata": {},
   "source": [
    "## 4. Visualize Revenue by City"
   ]
  },
  {
   "cell_type": "code",
   "execution_count": 6,
   "id": "edf72b6d",
   "metadata": {},
   "outputs": [
    {
     "data": {
      "image/png": "[encoded data removed]",
      "text/plain": [
       "<Figure size 640x480 with 1 Axes>"
      ]
     },
     "metadata": {},
     "output_type": "display_data"
    }
   ],
   "source": [
    "df_rev = pd.read_sql_query('''\n",
    "SELECT c.city AS city, SUM(oi.quantity*p.price) AS revenue\n",
    "FROM orders o\n",
    "JOIN order_items oi ON o.order_id=oi.order_id\n",
    "JOIN products p ON oi.product_id=p.product_id\n",
    "JOIN customers c ON o.customer_id=c.customer_id\n",
    "GROUP BY c.city\n",
    "ORDER BY revenue DESC;\n",
    "''', conn)\n",
    "sns.barplot(data=df_rev, x=\"city\", y=\"revenue\")\n",
    "plt.title(\"Revenue by City\"); plt.xlabel(\"City\"); plt.ylabel(\"Revenue\"); plt.show()"
   ]
  }
 ],
 "metadata": {
  "kernelspec": {
   "display_name": "Python 3",
   "language": "python",
   "name": "python3"
  },
  "language_info": {
   "codemirror_mode": {
    "name": "ipython",
    "version": 3
   },
   "file_extension": ".py",
   "mimetype": "text/x-python",
   "name": "python",
   "nbconvert_exporter": "python",
   "pygments_lexer": "ipython3",
   "version": "3.11.9"
  }
 },
 "nbformat": 4,
 "nbformat_minor": 5
}

{
 "cells": [
  {
   "cell_type": "markdown",
   "id": "825b9d00",
   "metadata": {},
   "source": [
    "# Session 5 — DDL, DML & Transactions (+ Subqueries)\n",
    "\n",
    "Create/alter tables, modify data safely, and use subqueries for advanced filtering.\n"
   ]
  },
  {
   "cell_type": "markdown",
   "id": "24785ca1",
   "metadata": {},
   "source": [
    "## Environment Setup"
   ]
  },
  {
   "cell_type": "code",
   "execution_count": null,
   "id": "66360db8",
   "metadata": {},
   "outputs": [],
   "source": [
    "import sys, sqlite3, pandas as pd, numpy as np, matplotlib.pyplot as plt\n",
    "print(sys.version)\n",
    "import seaborn as sns\n",
    "sns.set_theme()\n",
    "from pathlib import Path\n",
    "DB_PATH = Path('course.db')\n",
    "conn = sqlite3.connect(DB_PATH)\n",
    "conn.execute('PRAGMA foreign_keys=ON;')\n",
    "print('SQLite ready at', DB_PATH.resolve())"
   ]
  },
  {
   "cell_type": "code",
   "execution_count": null,
   "id": "bbc198da",
   "metadata": {},
   "outputs": [],
   "source": [
    "def run_sql(q, params=None):\n",
    "    params = params or {}\n",
    "    df = pd.read_sql_query(q, conn, params=params)\n",
    "    display(df)\n",
    "    return df"
   ]
  },
  {
   "cell_type": "markdown",
   "id": "51a3ec14",
   "metadata": {},
   "source": [
    "## 1. DDL — Alter Table"
   ]
  },
  {
   "cell_type": "code",
   "execution_count": null,
   "id": "b2d546be",
   "metadata": {},
   "outputs": [],
   "source": [
    "conn.execute(\"ALTER TABLE customers ADD COLUMN loyalty_tier TEXT DEFAULT 'Standard';\");\n",
    "conn.commit()\n",
    "run_sql(\"SELECT * FROM customers;\")"
   ]
  },
  {
   "cell_type": "markdown",
   "id": "0eb8ecf5",
   "metadata": {},
   "source": [
    "## 2. DML and Transactions"
   ]
  },
  {
   "cell_type": "code",
   "execution_count": null,
   "id": "52f6c934",
   "metadata": {},
   "outputs": [],
   "source": [
    "print(\"Before:\")\n",
    "run_sql(\"SELECT order_id, SUM(quantity) AS total_qty FROM order_items GROUP BY order_id ORDER BY order_id;\")\n",
    "try:\n",
    "    conn.execute(\"BEGIN;\")\n",
    "    conn.execute(\"UPDATE order_items SET quantity = quantity + 1 WHERE order_id IN (1,2);\")\n",
    "    print(\"During (uncommitted):\")\n",
    "    run_sql(\"SELECT order_id, SUM(quantity) AS total_qty FROM order_items GROUP BY order_id ORDER BY order_id;\")\n",
    "    conn.execute(\"ROLLBACK;\")\n",
    "finally:\n",
    "    pass\n",
    "print(\"After rollback:\")\n",
    "run_sql(\"SELECT order_id, SUM(quantity) AS total_qty FROM order_items GROUP BY order_id ORDER BY order_id;\")"
   ]
  },
  {
   "cell_type": "markdown",
   "id": "25a59f6b",
   "metadata": {},
   "source": [
    "## 3. Subqueries Example"
   ]
  },
  {
   "cell_type": "code",
   "execution_count": null,
   "id": "8748ff26",
   "metadata": {},
   "outputs": [],
   "source": [
    "run_sql('''\n",
    "SELECT o.order_id, COUNT(*) AS n_items\n",
    "FROM order_items oi\n",
    "JOIN orders o ON oi.order_id=o.order_id\n",
    "GROUP BY o.order_id\n",
    "HAVING n_items > (SELECT AVG(cnt) FROM (SELECT COUNT(*) AS cnt FROM order_items GROUP BY order_id) t);\n",
    "''')"
   ]
  }
 ],
 "metadata": {
  "kernelspec": {
   "display_name": "Python 3",
   "language": "python",
   "name": "python3"
  }
 },
 "nbformat": 4,
 "nbformat_minor": 5
}

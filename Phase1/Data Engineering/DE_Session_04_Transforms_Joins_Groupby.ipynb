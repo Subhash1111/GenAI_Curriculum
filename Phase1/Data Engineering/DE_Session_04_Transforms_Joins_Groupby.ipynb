{
 "cells": [
  {
   "cell_type": "markdown",
   "id": "c4cc5195",
   "metadata": {},
   "source": [
    "# Session 4 — Transformations: Joins, Grouping, Pivoting\n",
    "\n",
    "Combine tables and create analytics-friendly shapes. Emulate pivots with conditional aggregation.\n"
   ]
  },
  {
   "cell_type": "markdown",
   "id": "e582faa1",
   "metadata": {},
   "source": [
    "## Environment Setup"
   ]
  },
  {
   "cell_type": "code",
   "execution_count": null,
   "id": "be48539a",
   "metadata": {},
   "outputs": [],
   "source": [
    "import sys, sqlite3, pandas as pd, numpy as np, matplotlib.pyplot as plt\n",
    "print(sys.version)\n",
    "import seaborn as sns\n",
    "sns.set_theme()\n",
    "from pathlib import Path\n",
    "DB_PATH = Path('course.db')\n",
    "conn = sqlite3.connect(DB_PATH)\n",
    "conn.execute('PRAGMA foreign_keys=ON;')\n",
    "print('SQLite ready at', DB_PATH.resolve())"
   ]
  },
  {
   "cell_type": "code",
   "execution_count": null,
   "id": "83414215",
   "metadata": {},
   "outputs": [],
   "source": [
    "def run_sql(q, params=None):\n",
    "    params = params or {}\n",
    "    df = pd.read_sql_query(q, conn, params=params)\n",
    "    display(df)\n",
    "    return df"
   ]
  },
  {
   "cell_type": "markdown",
   "id": "d8f6ebda",
   "metadata": {},
   "source": [
    "## 1. Joins Refresher & Examples"
   ]
  },
  {
   "cell_type": "code",
   "execution_count": null,
   "id": "666775f6",
   "metadata": {},
   "outputs": [],
   "source": [
    "run_sql('''\n",
    "SELECT o.order_id, c.name AS customer, o.order_date, s.name AS shipper\n",
    "FROM orders o\n",
    "JOIN customers c ON o.customer_id=c.customer_id\n",
    "LEFT JOIN shippers s ON o.shipper_id=s.shipper_id\n",
    "ORDER BY o.order_id;\n",
    "''')"
   ]
  },
  {
   "cell_type": "markdown",
   "id": "0ccd1225",
   "metadata": {},
   "source": [
    "## 2. Aggregations and HAVING"
   ]
  },
  {
   "cell_type": "code",
   "execution_count": null,
   "id": "f5606b3c",
   "metadata": {},
   "outputs": [],
   "source": [
    "run_sql('''\n",
    "SELECT c.city, SUM(oi.quantity*p.price) AS revenue\n",
    "FROM orders o\n",
    "JOIN order_items oi ON o.order_id=oi.order_id\n",
    "JOIN products p ON oi.product_id=p.product_id\n",
    "JOIN customers c ON o.customer_id=c.customer_id\n",
    "GROUP BY c.city\n",
    "HAVING revenue > 100\n",
    "ORDER BY revenue DESC;\n",
    "''')"
   ]
  },
  {
   "cell_type": "markdown",
   "id": "0e1409c4",
   "metadata": {},
   "source": [
    "## 3. Pivot-Style Summary (Conditional Aggregation)"
   ]
  },
  {
   "cell_type": "code",
   "execution_count": null,
   "id": "6ff28308",
   "metadata": {},
   "outputs": [],
   "source": [
    "run_sql('''\n",
    "SELECT c.country,\n",
    "       SUM(CASE WHEN p.product='Keyboard' THEN oi.quantity ELSE 0 END) AS keyboards,\n",
    "       SUM(CASE WHEN p.product='Mouse' THEN oi.quantity ELSE 0 END) AS mice,\n",
    "       SUM(CASE WHEN p.product='Monitor' THEN oi.quantity ELSE 0 END) AS monitors,\n",
    "       SUM(CASE WHEN p.product='USB-C Cable' THEN oi.quantity ELSE 0 END) AS cables\n",
    "FROM orders o\n",
    "JOIN order_items oi ON o.order_id=oi.order_id\n",
    "JOIN products p ON oi.product_id=p.product_id\n",
    "JOIN customers c ON o.customer_id=c.customer_id\n",
    "GROUP BY c.country\n",
    "ORDER BY c.country;\n",
    "''')"
   ]
  },
  {
   "cell_type": "markdown",
   "id": "e713cd91",
   "metadata": {},
   "source": [
    "## 4. Visualize Revenue by City"
   ]
  },
  {
   "cell_type": "code",
   "execution_count": null,
   "id": "edf72b6d",
   "metadata": {},
   "outputs": [],
   "source": [
    "df_rev = pd.read_sql_query('''\n",
    "SELECT c.city AS city, SUM(oi.quantity*p.price) AS revenue\n",
    "FROM orders o\n",
    "JOIN order_items oi ON o.order_id=oi.order_id\n",
    "JOIN products p ON oi.product_id=p.product_id\n",
    "JOIN customers c ON o.customer_id=c.customer_id\n",
    "GROUP BY c.city\n",
    "ORDER BY revenue DESC;\n",
    "''', conn)\n",
    "sns.barplot(data=df_rev, x=\"city\", y=\"revenue\")\n",
    "plt.title(\"Revenue by City\"); plt.xlabel(\"City\"); plt.ylabel(\"Revenue\"); plt.show()"
   ]
  }
 ],
 "metadata": {
  "kernelspec": {
   "display_name": "Python 3",
   "language": "python",
   "name": "python3"
  }
 },
 "nbformat": 4,
 "nbformat_minor": 5
}

{
 "cells": [
  {
   "cell_type": "markdown",
   "id": "7dc04d18",
   "metadata": {},
   "source": [
    "# Session 3 — Profiling & Cleaning Data\n",
    "\n",
    "Assess data quality with SQL and seaborn; fix inconsistencies with UPDATE.\n"
   ]
  },
  {
   "cell_type": "markdown",
   "id": "a180b198",
   "metadata": {},
   "source": [
    "## Environment Setup"
   ]
  },
  {
   "cell_type": "code",
   "execution_count": null,
   "id": "dcdcc95a",
   "metadata": {},
   "outputs": [],
   "source": [
    "import sys, sqlite3, pandas as pd, numpy as np, matplotlib.pyplot as plt\n",
    "print(sys.version)\n",
    "import seaborn as sns\n",
    "sns.set_theme()\n",
    "from pathlib import Path\n",
    "DB_PATH = Path('course.db')\n",
    "conn = sqlite3.connect(DB_PATH)\n",
    "conn.execute('PRAGMA foreign_keys=ON;')\n",
    "print('SQLite ready at', DB_PATH.resolve())"
   ]
  },
  {
   "cell_type": "code",
   "execution_count": null,
   "id": "4b803ad7",
   "metadata": {},
   "outputs": [],
   "source": [
    "def run_sql(q, params=None):\n",
    "    params = params or {}\n",
    "    df = pd.read_sql_query(q, conn, params=params)\n",
    "    display(df)\n",
    "    return df"
   ]
  },
  {
   "cell_type": "markdown",
   "id": "4e4ab405",
   "metadata": {},
   "source": [
    "## 1. Profiling Basics"
   ]
  },
  {
   "cell_type": "code",
   "execution_count": null,
   "id": "ddb6e440",
   "metadata": {},
   "outputs": [],
   "source": [
    "run_sql(\"SELECT COUNT(*) AS n_customers FROM customers;\")\n",
    "run_sql(\"SELECT MIN(price) AS min_price, MAX(price) AS max_price, AVG(price) AS avg_price FROM products;\")\n",
    "missing = run_sql(\"SELECT * FROM customers WHERE address IS NULL;\")"
   ]
  },
  {
   "cell_type": "markdown",
   "id": "bd454d0d",
   "metadata": {},
   "source": [
    "## 2. Visualize Distributions"
   ]
  },
  {
   "cell_type": "code",
   "execution_count": null,
   "id": "cab9b879",
   "metadata": {},
   "outputs": [],
   "source": [
    "dfp = pd.read_sql_query(\"SELECT * FROM products;\", conn)\n",
    "sns.histplot(dfp['price'], bins=10, kde=True)\n",
    "plt.title(\"Price Distribution\"); plt.xlabel(\"Price\"); plt.ylabel(\"Count\"); plt.show()"
   ]
  },
  {
   "cell_type": "markdown",
   "id": "72037a8a",
   "metadata": {},
   "source": [
    "## 3. Cleaning Examples"
   ]
  },
  {
   "cell_type": "code",
   "execution_count": null,
   "id": "ee7f6365",
   "metadata": {},
   "outputs": [],
   "source": [
    "conn.execute(\"UPDATE customers SET address='Unknown' WHERE address IS NULL;\")\n",
    "conn.commit()\n",
    "run_sql(\"SELECT * FROM customers;\")"
   ]
  }
 ],
 "metadata": {
  "kernelspec": {
   "display_name": "Python 3",
   "language": "python",
   "name": "python3"
  }
 },
 "nbformat": 4,
 "nbformat_minor": 5
}

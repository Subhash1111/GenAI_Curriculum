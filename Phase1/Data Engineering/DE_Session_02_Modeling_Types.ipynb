{
 "cells": [
  {
   "cell_type": "markdown",
   "id": "5e3ed712",
   "metadata": {},
   "source": [
    "# Session 2 — Relational Modeling & Data Types\n",
    "\n",
    "Model an OLTP schema, define keys, and inspect constraints. Visualize table sizes.\n"
   ]
  },
  {
   "cell_type": "markdown",
   "id": "910cac45",
   "metadata": {},
   "source": [
    "## Environment Setup"
   ]
  },
  {
   "cell_type": "code",
   "execution_count": null,
   "id": "20c967d0",
   "metadata": {},
   "outputs": [],
   "source": [
    "import sys, sqlite3, pandas as pd, numpy as np, matplotlib.pyplot as plt\n",
    "print(sys.version)\n",
    "import seaborn as sns\n",
    "sns.set_theme()\n",
    "from pathlib import Path\n",
    "DB_PATH = Path('course.db')\n",
    "conn = sqlite3.connect(DB_PATH)\n",
    "conn.execute('PRAGMA foreign_keys=ON;')\n",
    "print('SQLite ready at', DB_PATH.resolve())"
   ]
  },
  {
   "cell_type": "code",
   "execution_count": null,
   "id": "4ad5ef57",
   "metadata": {},
   "outputs": [],
   "source": [
    "def run_sql(q, params=None):\n",
    "    params = params or {}\n",
    "    df = pd.read_sql_query(q, conn, params=params)\n",
    "    display(df)\n",
    "    return df"
   ]
  },
  {
   "cell_type": "markdown",
   "id": "b7394c99",
   "metadata": {},
   "source": [
    "## 1. Keys & Relationships\n",
    "- **Primary Key (PK):** unique identifier in a table  \n",
    "- **Foreign Key (FK):** references a PK in another table\n",
    "\n",
    "We'll extend Session 1 by adding `orders`, `order_items`, and `shippers`."
   ]
  },
  {
   "cell_type": "code",
   "execution_count": null,
   "id": "53d292df",
   "metadata": {},
   "outputs": [],
   "source": [
    "conn.executescript('''\n",
    "DROP TABLE IF EXISTS shippers;\n",
    "DROP TABLE IF EXISTS orders;\n",
    "DROP TABLE IF EXISTS order_items;\n",
    "CREATE TABLE shippers(\n",
    "  shipper_id INTEGER PRIMARY KEY,\n",
    "  name TEXT NOT NULL\n",
    ");\n",
    "CREATE TABLE orders(\n",
    "  order_id INTEGER PRIMARY KEY,\n",
    "  customer_id INTEGER NOT NULL,\n",
    "  order_date TEXT NOT NULL,\n",
    "  shipper_id INTEGER,\n",
    "  FOREIGN KEY(customer_id) REFERENCES customers(customer_id),\n",
    "  FOREIGN KEY(shipper_id) REFERENCES shippers(shipper_id)\n",
    ");\n",
    "CREATE TABLE order_items(\n",
    "  order_item_id INTEGER PRIMARY KEY,\n",
    "  order_id INTEGER NOT NULL,\n",
    "  product_id INTEGER NOT NULL,\n",
    "  quantity INTEGER NOT NULL CHECK(quantity>0),\n",
    "  FOREIGN KEY(order_id) REFERENCES orders(order_id),\n",
    "  FOREIGN KEY(product_id) REFERENCES products(product_id)\n",
    ");\n",
    "INSERT INTO shippers(name) VALUES ('Postal Express'),('GoFast'),('Eagle Air');\n",
    "INSERT INTO orders(customer_id,order_date,shipper_id) VALUES\n",
    " (1,'2024-10-01',1),(1,'2024-10-05',2),(2,'2024-11-02',2),(3,'2024-11-03',3);\n",
    "INSERT INTO order_items(order_id,product_id,quantity) VALUES\n",
    " (1,1,2),(1,4,3),(2,3,1),(3,2,2),(4,3,1);\n",
    "'''); conn.commit()\n",
    "print(\"Extended schema created.\")"
   ]
  },
  {
   "cell_type": "markdown",
   "id": "7c3ec61c",
   "metadata": {},
   "source": [
    "## 2. Inspecting Schema"
   ]
  },
  {
   "cell_type": "code",
   "execution_count": null,
   "id": "cca7f6d2",
   "metadata": {},
   "outputs": [],
   "source": [
    "run_sql(\"PRAGMA table_info('orders');\")\n",
    "run_sql(\"PRAGMA foreign_key_list('order_items');\")"
   ]
  },
  {
   "cell_type": "markdown",
   "id": "f9c22b7e",
   "metadata": {},
   "source": [
    "## 3. Quick Visual — Order Items by Product"
   ]
  },
  {
   "cell_type": "code",
   "execution_count": null,
   "id": "8a446d6c",
   "metadata": {},
   "outputs": [],
   "source": [
    "df = pd.read_sql_query('''\n",
    "SELECT p.product, SUM(oi.quantity) AS qty\n",
    "FROM order_items oi JOIN products p ON oi.product_id=p.product_id\n",
    "GROUP BY p.product ORDER BY qty DESC;\n",
    "''', conn)\n",
    "sns.barplot(data=df, x=\"product\", y=\"qty\")\n",
    "plt.title(\"Quantity by Product\"); plt.xlabel(\"Product\"); plt.ylabel(\"Quantity\"); plt.show()"
   ]
  }
 ],
 "metadata": {
  "kernelspec": {
   "display_name": "Python 3",
   "language": "python",
   "name": "python3"
  }
 },
 "nbformat": 4,
 "nbformat_minor": 5
}

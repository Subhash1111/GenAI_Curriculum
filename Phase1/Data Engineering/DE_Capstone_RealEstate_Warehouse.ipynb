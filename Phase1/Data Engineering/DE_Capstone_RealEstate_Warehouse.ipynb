{
 "cells": [
  {
   "cell_type": "markdown",
   "id": "c0080f5e",
   "metadata": {},
   "source": [
    "# Capstone — Mini Real Estate Analytics Warehouse\n",
    "\n",
    "Design schema, load synthetic data, profile, clean, and analyze. Visualize with seaborn.\n"
   ]
  },
  {
   "cell_type": "markdown",
   "id": "5fbefb86",
   "metadata": {},
   "source": [
    "## Environment Setup"
   ]
  },
  {
   "cell_type": "code",
   "execution_count": null,
   "id": "6b81b0ae",
   "metadata": {},
   "outputs": [],
   "source": [
    "import sys, sqlite3, pandas as pd, numpy as np, matplotlib.pyplot as plt\n",
    "print(sys.version)\n",
    "import seaborn as sns\n",
    "sns.set_theme()\n",
    "from pathlib import Path\n",
    "DB_PATH = Path('course.db')\n",
    "conn = sqlite3.connect(DB_PATH)\n",
    "conn.execute('PRAGMA foreign_keys=ON;')\n",
    "print('SQLite ready at', DB_PATH.resolve())"
   ]
  },
  {
   "cell_type": "code",
   "execution_count": null,
   "id": "15557fc9",
   "metadata": {},
   "outputs": [],
   "source": [
    "def run_sql(q, params=None):\n",
    "    params = params or {}\n",
    "    df = pd.read_sql_query(q, conn, params=params)\n",
    "    display(df)\n",
    "    return df"
   ]
  },
  {
   "cell_type": "markdown",
   "id": "6e9d470b",
   "metadata": {},
   "source": [
    "## 1. Problem Statement\n",
    "Build a mini warehouse for real estate analytics to answer:\n",
    "- Average price by city/state\n",
    "- Top agents by total sales\n",
    "- Trend of sales by month"
   ]
  },
  {
   "cell_type": "code",
   "execution_count": null,
   "id": "320a9453",
   "metadata": {},
   "outputs": [],
   "source": [
    "# Schema\n",
    "conn.executescript('''\n",
    "DROP TABLE IF EXISTS locations;\n",
    "DROP TABLE IF EXISTS agents;\n",
    "DROP TABLE IF EXISTS homes;\n",
    "DROP TABLE IF EXISTS sales;\n",
    "CREATE TABLE locations(\n",
    "  location_id INTEGER PRIMARY KEY,\n",
    "  city TEXT NOT NULL,\n",
    "  state TEXT NOT NULL\n",
    ");\n",
    "CREATE TABLE agents(\n",
    "  agent_id INTEGER PRIMARY KEY,\n",
    "  name TEXT NOT NULL\n",
    ");\n",
    "CREATE TABLE homes(\n",
    "  home_id INTEGER PRIMARY KEY,\n",
    "  location_id INTEGER NOT NULL,\n",
    "  bedrooms INTEGER NOT NULL,\n",
    "  bathrooms REAL NOT NULL,\n",
    "  sqft INTEGER NOT NULL,\n",
    "  home_type TEXT NOT NULL,\n",
    "  year_built INTEGER,\n",
    "  FOREIGN KEY(location_id) REFERENCES locations(location_id)\n",
    ");\n",
    "CREATE TABLE sales(\n",
    "  sale_id INTEGER PRIMARY KEY,\n",
    "  home_id INTEGER NOT NULL,\n",
    "  agent_id INTEGER NOT NULL,\n",
    "  sale_date TEXT NOT NULL,\n",
    "  sale_price REAL NOT NULL CHECK(sale_price>=0),\n",
    "  FOREIGN KEY(home_id) REFERENCES homes(home_id),\n",
    "  FOREIGN KEY(agent_id) REFERENCES agents(agent_id)\n",
    ");\n",
    "'''); conn.commit()\n",
    "print(\"Capstone schema ready.\")"
   ]
  },
  {
   "cell_type": "markdown",
   "id": "2c514031",
   "metadata": {},
   "source": [
    "## 2. Seed Synthetic Data"
   ]
  },
  {
   "cell_type": "code",
   "execution_count": null,
   "id": "57b135c9",
   "metadata": {},
   "outputs": [],
   "source": [
    "conn.executescript('''\n",
    "INSERT INTO locations(city,state) VALUES\n",
    " ('Austin','TX'),('Boston','MA'),('Chicago','IL'),('Denver','CO'),('Dallas','TX');\n",
    "INSERT INTO agents(name) VALUES ('Alex Kim'),('Priya Singh'),('Carlos M.'),('J. Rivera');\n",
    "INSERT INTO homes(location_id,bedrooms,bathrooms,sqft,home_type,year_built) VALUES\n",
    " (1,3,2.0,1600,'SingleFamily',2002),\n",
    " (1,4,2.5,2200,'SingleFamily',2010),\n",
    " (2,2,1.0,900,'Condo',1995),\n",
    " (3,3,2.0,1400,'Townhome',2008),\n",
    " (4,5,3.0,2800,'SingleFamily',2018),\n",
    " (5,3,2.0,1500,'SingleFamily',2005);\n",
    "INSERT INTO sales(home_id,agent_id,sale_date,sale_price) VALUES\n",
    " (1,1,'2024-05-11',420000),\n",
    " (2,2,'2024-06-20',630000),\n",
    " (3,2,'2024-03-03',390000),\n",
    " (4,3,'2024-09-01',415000),\n",
    " (5,1,'2024-02-14',780000),\n",
    " (6,4,'2024-08-21',455000);\n",
    "'''); conn.commit()\n",
    "print(\"Seeded synthetic data.\")"
   ]
  },
  {
   "cell_type": "markdown",
   "id": "a4fcb91f",
   "metadata": {},
   "source": [
    "## 3. Profiling & Cleaning"
   ]
  },
  {
   "cell_type": "code",
   "execution_count": null,
   "id": "c36c21aa",
   "metadata": {},
   "outputs": [],
   "source": [
    "run_sql(\"SELECT COUNT(*) AS n_sales, MIN(sale_price) AS min_price, MAX(sale_price) AS max_price FROM sales;\")\n",
    "sns.histplot(pd.read_sql_query(\"SELECT sale_price FROM sales\", conn)['sale_price'], bins=10, kde=True)\n",
    "plt.title(\"Sale Price Distribution\"); plt.xlabel(\"Price\"); plt.ylabel(\"Count\"); plt.show()\n",
    "# Example cleanup: unify full state names to abbreviations if present\n",
    "conn.execute(\"UPDATE locations SET state='TX' WHERE state LIKE 'Texas';\"); conn.commit()"
   ]
  },
  {
   "cell_type": "markdown",
   "id": "89cd53ea",
   "metadata": {},
   "source": [
    "## 4. Analytics Queries + Visuals"
   ]
  },
  {
   "cell_type": "code",
   "execution_count": null,
   "id": "0832e72f",
   "metadata": {},
   "outputs": [],
   "source": [
    "avg_price = run_sql('''\n",
    "SELECT l.city, ROUND(AVG(s.sale_price),2) AS avg_price\n",
    "FROM sales s\n",
    "JOIN homes h ON s.home_id=h.home_id\n",
    "JOIN locations l ON h.location_id=l.location_id\n",
    "GROUP BY l.city ORDER BY avg_price DESC;\n",
    "''')\n",
    "sns.barplot(data=avg_price, x=\"city\", y=\"avg_price\"); plt.title(\"Average Price by City\"); plt.show()\n",
    "\n",
    "top_agents = run_sql('''\n",
    "SELECT a.name, ROUND(SUM(s.sale_price),2) AS total_sales\n",
    "FROM sales s JOIN agents a ON s.agent_id=a.agent_id\n",
    "GROUP BY a.name ORDER BY total_sales DESC;\n",
    "''')\n",
    "sns.barplot(data=top_agents, x=\"name\", y=\"total_sales\"); plt.title(\"Top Agents by Total Sales\"); plt.show()"
   ]
  }
 ],
 "metadata": {
  "kernelspec": {
   "display_name": "Python 3",
   "language": "python",
   "name": "python3"
  }
 },
 "nbformat": 4,
 "nbformat_minor": 5
}
